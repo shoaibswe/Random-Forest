{
  "nbformat": 4,
  "nbformat_minor": 0,
  "metadata": {
    "colab": {
      "name": "RandomForest.ipynb",
      "provenance": [],
      "collapsed_sections": [],
      "include_colab_link": true
    },
    "kernelspec": {
      "name": "python3",
      "display_name": "Python 3"
    }
  },
  "cells": [
    {
      "cell_type": "markdown",
      "metadata": {
        "id": "view-in-github",
        "colab_type": "text"
      },
      "source": [
        "<a href=\"https://colab.research.google.com/github/shoaibswe/Result-Analysis-with-LabelEncoding-using-Random-Forest-Classifier-/blob/main/RandomForest.ipynb\" target=\"_parent\"><img src=\"https://colab.research.google.com/assets/colab-badge.svg\" alt=\"Open In Colab\"/></a>"
      ]
    },
    {
      "cell_type": "code",
      "metadata": {
        "id": "NdjYwRbaIaEy"
      },
      "source": [
        ""
      ],
      "execution_count": null,
      "outputs": []
    },
    {
      "cell_type": "markdown",
      "metadata": {
        "id": "iXpV2WtOIala"
      },
      "source": [
        "Educational Result Analysos using Random Forest Classifier"
      ]
    },
    {
      "cell_type": "code",
      "metadata": {
        "colab": {
          "resources": {
            "http://localhost:8080/nbextensions/google.colab/files.js": {
              "data": "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",
              "ok": true,
              "headers": [
                [
                  "content-type",
                  "application/javascript"
                ]
              ],
              "status": 200,
              "status_text": ""
            }
          },
          "base_uri": "https://localhost:8080/",
          "height": 110
        },
        "id": "eYMOtBJEW20E",
        "outputId": "cb4e252e-8327-484c-d705-5495cfc38b9d"
      },
      "source": [
        "from google.colab import files\r\n",
        "files.upload()"
      ],
      "execution_count": 2,
      "outputs": [
        {
          "output_type": "display_data",
          "data": {
            "text/html": [
              "\n",
              "     <input type=\"file\" id=\"files-3aed28cb-b673-4c89-b3bd-e1cbd2e456bc\" name=\"files[]\" multiple disabled\n",
              "        style=\"border:none\" />\n",
              "     <output id=\"result-3aed28cb-b673-4c89-b3bd-e1cbd2e456bc\">\n",
              "      Upload widget is only available when the cell has been executed in the\n",
              "      current browser session. Please rerun this cell to enable.\n",
              "      </output>\n",
              "      <script src=\"/nbextensions/google.colab/files.js\"></script> "
            ],
            "text/plain": [
              "<IPython.core.display.HTML object>"
            ]
          },
          "metadata": {
            "tags": []
          }
        },
        {
          "output_type": "stream",
          "text": [
            "Saving student-por.csv to student-por.csv\n"
          ],
          "name": "stdout"
        },
        {
          "output_type": "execute_result",
          "data": {
            "text/plain": [
              "{'student-por.csv': b'school,sex,age,address,famsize,Pstatus,Medu,Fedu,Mjob,Fjob,reason,guardian,traveltime,studytime,failures,schoolsup,famsup,paid,activities,nursery,higher,internet,romantic,famrel,freetime,goout,Dalc,Walc,health,absences,G1,G2,G3\\n\"GP\",\"F\",18,\"U\",\"GT3\",\"A\",4,4,\"at_home\",\"teacher\",\"course\",\"mother\",2,2,0,\"yes\",\"no\",\"no\",\"no\",\"yes\",\"yes\",\"no\",\"no\",4,3,4,1,1,3,4,\"0\",\"11\",11\\n\"GP\",\"F\",17,\"U\",\"GT3\",\"T\",1,1,\"at_home\",\"other\",\"course\",\"father\",1,2,0,\"no\",\"yes\",\"no\",\"no\",\"no\",\"yes\",\"yes\",\"no\",5,3,3,1,1,3,2,\"9\",\"11\",11\\n\"GP\",\"F\",15,\"U\",\"LE3\",\"T\",1,1,\"at_home\",\"other\",\"other\",\"mother\",1,2,0,\"yes\",\"no\",\"no\",\"no\",\"yes\",\"yes\",\"yes\",\"no\",4,3,2,2,3,3,6,\"12\",\"13\",12\\n\"GP\",\"F\",15,\"U\",\"GT3\",\"T\",4,2,\"health\",\"services\",\"home\",\"mother\",1,3,0,\"no\",\"yes\",\"no\",\"yes\",\"yes\",\"yes\",\"yes\",\"yes\",3,2,2,1,1,5,0,\"14\",\"14\",14\\n\"GP\",\"F\",16,\"U\",\"GT3\",\"T\",3,3,\"other\",\"other\",\"home\",\"father\",1,2,0,\"no\",\"yes\",\"no\",\"no\",\"yes\",\"yes\",\"no\",\"no\",4,3,2,1,2,5,0,\"11\",\"13\",13\\n\"GP\",\"M\",16,\"U\",\"LE3\",\"T\",4,3,\"services\",\"other\",\"reputation\",\"mother\",1,2,0,\"no\",\"yes\",\"no\",\"yes\",\"yes\",\"yes\",\"yes\",\"no\",5,4,2,1,2,5,6,\"12\",\"12\",13\\n\"GP\",\"M\",16,\"U\",\"LE3\",\"T\",2,2,\"other\",\"other\",\"home\",\"mother\",1,2,0,\"no\",\"no\",\"no\",\"no\",\"yes\",\"yes\",\"yes\",\"no\",4,4,4,1,1,3,0,\"13\",\"12\",13\\n\"GP\",\"F\",17,\"U\",\"GT3\",\"A\",4,4,\"other\",\"teacher\",\"home\",\"mother\",2,2,0,\"yes\",\"yes\",\"no\",\"no\",\"yes\",\"yes\",\"no\",\"no\",4,1,4,1,1,1,2,\"10\",\"13\",13\\n\"GP\",\"M\",15,\"U\",\"LE3\",\"A\",3,2,\"services\",\"other\",\"home\",\"mother\",1,2,0,\"no\",\"yes\",\"no\",\"no\",\"yes\",\"yes\",\"yes\",\"no\",4,2,2,1,1,1,0,\"15\",\"16\",17\\n\"GP\",\"M\",15,\"U\",\"GT3\",\"T\",3,4,\"other\",\"other\",\"home\",\"mother\",1,2,0,\"no\",\"yes\",\"no\",\"yes\",\"yes\",\"yes\",\"yes\",\"no\",5,5,1,1,1,5,0,\"12\",\"12\",13\\n\"GP\",\"F\",15,\"U\",\"GT3\",\"T\",4,4,\"teacher\",\"health\",\"reputation\",\"mother\",1,2,0,\"no\",\"yes\",\"no\",\"no\",\"yes\",\"yes\",\"yes\",\"no\",3,3,3,1,2,2,2,\"14\",\"14\",14\\n\"GP\",\"F\",15,\"U\",\"GT3\",\"T\",2,1,\"services\",\"other\",\"reputation\",\"father\",3,3,0,\"no\",\"yes\",\"no\",\"yes\",\"yes\",\"yes\",\"yes\",\"no\",5,2,2,1,1,4,0,\"10\",\"12\",13\\n\"GP\",\"M\",15,\"U\",\"LE3\",\"T\",4,4,\"health\",\"services\",\"course\",\"father\",1,1,0,\"no\",\"yes\",\"no\",\"yes\",\"yes\",\"yes\",\"yes\",\"no\",4,3,3,1,3,5,0,\"12\",\"13\",12\\n\"GP\",\"M\",15,\"U\",\"GT3\",\"T\",4,3,\"teacher\",\"other\",\"course\",\"mother\",2,2,0,\"no\",\"yes\",\"no\",\"no\",\"yes\",\"yes\",\"yes\",\"no\",5,4,3,1,2,3,0,\"12\",\"12\",13\\n\"GP\",\"M\",15,\"U\",\"GT3\",\"A\",2,2,\"other\",\"other\",\"home\",\"other\",1,3,0,\"no\",\"yes\",\"no\",\"no\",\"yes\",\"yes\",\"yes\",\"yes\",4,5,2,1,1,3,0,\"14\",\"14\",15\\n\"GP\",\"F\",16,\"U\",\"GT3\",\"T\",4,4,\"health\",\"other\",\"home\",\"mother\",1,1,0,\"no\",\"yes\",\"no\",\"no\",\"yes\",\"yes\",\"yes\",\"no\",4,4,4,1,2,2,6,\"17\",\"17\",17\\n\"GP\",\"F\",16,\"U\",\"GT3\",\"T\",4,4,\"services\",\"services\",\"reputation\",\"mother\",1,3,0,\"no\",\"yes\",\"no\",\"yes\",\"yes\",\"yes\",\"yes\",\"no\",3,2,3,1,2,2,10,\"13\",\"13\",14\\n\"GP\",\"F\",16,\"U\",\"GT3\",\"T\",3,3,\"other\",\"other\",\"reputation\",\"mother\",3,2,0,\"yes\",\"yes\",\"no\",\"yes\",\"yes\",\"yes\",\"no\",\"no\",5,3,2,1,1,4,2,\"13\",\"14\",14\\n\"GP\",\"M\",17,\"U\",\"GT3\",\"T\",3,2,\"services\",\"services\",\"course\",\"mother\",1,1,3,\"no\",\"yes\",\"yes\",\"yes\",\"yes\",\"yes\",\"yes\",\"no\",5,5,5,2,4,5,2,\"8\",\"8\",7\\n\"GP\",\"M\",16,\"U\",\"LE3\",\"T\",4,3,\"health\",\"other\",\"home\",\"father\",1,1,0,\"no\",\"no\",\"no\",\"yes\",\"yes\",\"yes\",\"yes\",\"no\",3,1,3,1,3,5,6,\"12\",\"12\",12\\n\"GP\",\"M\",15,\"U\",\"GT3\",\"T\",4,3,\"teacher\",\"other\",\"reputation\",\"mother\",1,2,0,\"no\",\"no\",\"no\",\"no\",\"yes\",\"yes\",\"yes\",\"no\",4,4,1,1,1,1,0,\"12\",\"13\",14\\n\"GP\",\"M\",15,\"U\",\"GT3\",\"T\",4,4,\"health\",\"health\",\"other\",\"father\",1,1,0,\"no\",\"yes\",\"yes\",\"no\",\"yes\",\"yes\",\"yes\",\"no\",5,4,2,1,1,5,0,\"11\",\"12\",12\\n\"GP\",\"M\",16,\"U\",\"LE3\",\"T\",4,2,\"teacher\",\"other\",\"course\",\"mother\",1,2,0,\"no\",\"no\",\"no\",\"yes\",\"yes\",\"yes\",\"yes\",\"no\",4,5,1,1,3,5,0,\"12\",\"13\",14\\n\"GP\",\"M\",16,\"U\",\"LE3\",\"T\",2,2,\"other\",\"other\",\"reputation\",\"mother\",2,2,0,\"no\",\"yes\",\"no\",\"yes\",\"yes\",\"yes\",\"yes\",\"no\",5,4,4,2,4,5,2,\"10\",\"10\",10\\n\"GP\",\"F\",15,\"R\",\"GT3\",\"T\",2,4,\"services\",\"health\",\"course\",\"mother\",1,3,0,\"yes\",\"yes\",\"no\",\"yes\",\"yes\",\"yes\",\"yes\",\"no\",4,3,2,1,1,5,2,\"10\",\"11\",10\\n\"GP\",\"F\",16,\"U\",\"GT3\",\"T\",2,2,\"services\",\"services\",\"home\",\"mother\",1,1,0,\"no\",\"yes\",\"no\",\"no\",\"no\",\"yes\",\"yes\",\"no\",1,2,2,1,3,5,6,\"10\",\"11\",12\\n\"GP\",\"M\",15,\"U\",\"GT3\",\"T\",2,2,\"other\",\"other\",\"home\",\"mother\",1,1,0,\"no\",\"yes\",\"no\",\"no\",\"yes\",\"yes\",\"yes\",\"no\",4,2,2,1,2,5,8,\"11\",\"12\",12\\n\"GP\",\"M\",15,\"U\",\"GT3\",\"T\",4,2,\"health\",\"services\",\"other\",\"mother\",1,1,0,\"no\",\"no\",\"no\",\"no\",\"yes\",\"yes\",\"yes\",\"no\",2,2,4,2,4,1,0,\"11\",\"11\",11\\n\"GP\",\"M\",16,\"U\",\"LE3\",\"A\",3,4,\"services\",\"other\",\"home\",\"mother\",1,2,0,\"yes\",\"yes\",\"yes\",\"yes\",\"yes\",\"yes\",\"yes\",\"no\",5,3,3,1,1,5,2,\"12\",\"12\",13\\n\"GP\",\"M\",16,\"U\",\"GT3\",\"T\",4,4,\"teacher\",\"teacher\",\"home\",\"mother\",1,2,0,\"no\",\"yes\",\"yes\",\"yes\",\"yes\",\"yes\",\"yes\",\"yes\",4,4,5,5,5,5,4,\"12\",\"11\",12\\n\"GP\",\"M\",15,\"U\",\"GT3\",\"T\",4,4,\"health\",\"services\",\"home\",\"mother\",1,2,0,\"no\",\"yes\",\"yes\",\"no\",\"no\",\"yes\",\"yes\",\"no\",5,4,2,3,4,5,0,\"10\",\"11\",11\\n\"GP\",\"M\",15,\"U\",\"GT3\",\"T\",4,4,\"services\",\"services\",\"reputation\",\"mother\",2,2,0,\"no\",\"yes\",\"no\",\"yes\",\"yes\",\"yes\",\"yes\",\"no\",4,3,1,1,1,5,2,\"15\",\"15\",15\\n\"GP\",\"M\",15,\"R\",\"GT3\",\"T\",4,3,\"teacher\",\"at_home\",\"course\",\"mother\",1,2,0,\"no\",\"yes\",\"no\",\"yes\",\"yes\",\"yes\",\"yes\",\"yes\",4,5,2,1,1,5,0,\"13\",\"14\",15\\n\"GP\",\"M\",15,\"U\",\"LE3\",\"T\",3,3,\"other\",\"other\",\"course\",\"mother\",1,2,0,\"no\",\"no\",\"no\",\"yes\",\"no\",\"yes\",\"yes\",\"no\",5,3,2,1,1,2,0,\"13\",\"12\",12\\n\"GP\",\"M\",16,\"U\",\"GT3\",\"T\",3,2,\"other\",\"other\",\"home\",\"mother\",1,1,0,\"no\",\"yes\",\"no\",\"no\",\"no\",\"yes\",\"yes\",\"no\",5,4,3,1,1,5,4,\"12\",\"12\",12\\n\"GP\",\"F\",15,\"U\",\"GT3\",\"T\",2,3,\"other\",\"other\",\"other\",\"father\",2,1,0,\"no\",\"yes\",\"no\",\"yes\",\"yes\",\"yes\",\"no\",\"no\",3,5,1,1,1,5,4,\"11\",\"11\",11\\n\"GP\",\"M\",15,\"U\",\"LE3\",\"T\",4,3,\"teacher\",\"services\",\"home\",\"mother\",1,3,0,\"no\",\"yes\",\"no\",\"yes\",\"yes\",\"yes\",\"yes\",\"no\",5,4,3,1,1,4,0,\"14\",\"14\",14\\n\"GP\",\"M\",16,\"R\",\"GT3\",\"A\",4,4,\"other\",\"teacher\",\"reputation\",\"mother\",2,3,0,\"no\",\"yes\",\"no\",\"yes\",\"yes\",\"yes\",\"yes\",\"yes\",2,4,3,1,1,5,4,\"13\",\"13\",13\\n\"GP\",\"F\",15,\"R\",\"GT3\",\"T\",3,4,\"services\",\"health\",\"course\",\"mother\",1,3,0,\"yes\",\"yes\",\"no\",\"yes\",\"yes\",\"yes\",\"yes\",\"no\",4,3,2,1,1,5,2,\"11\",\"12\",12\\n\"GP\",\"F\",15,\"R\",\"GT3\",\"T\",2,2,\"at_home\",\"other\",\"reputation\",\"mother\",1,1,0,\"yes\",\"yes\",\"no\",\"yes\",\"yes\",\"yes\",\"no\",\"no\",4,3,1,1,1,2,8,\"14\",\"13\",12\\n\"GP\",\"F\",16,\"U\",\"LE3\",\"T\",2,2,\"other\",\"other\",\"home\",\"mother\",2,2,0,\"no\",\"yes\",\"no\",\"yes\",\"no\",\"yes\",\"yes\",\"yes\",3,3,3,1,2,3,16,\"11\",\"11\",10\\n\"GP\",\"M\",15,\"U\",\"LE3\",\"T\",4,4,\"teacher\",\"other\",\"home\",\"other\",1,1,0,\"no\",\"yes\",\"no\",\"no\",\"no\",\"yes\",\"yes\",\"yes\",5,4,3,2,4,5,8,\"10\",\"11\",11\\n\"GP\",\"M\",15,\"U\",\"GT3\",\"T\",4,4,\"services\",\"teacher\",\"course\",\"father\",1,2,0,\"no\",\"yes\",\"no\",\"yes\",\"yes\",\"yes\",\"yes\",\"no\",4,3,3,1,1,5,0,\"14\",\"15\",15\\n\"GP\",\"M\",15,\"U\",\"GT3\",\"T\",2,2,\"services\",\"services\",\"course\",\"father\",1,1,0,\"yes\",\"yes\",\"no\",\"no\",\"yes\",\"yes\",\"yes\",\"no\",5,4,1,1,1,1,0,\"9\",\"10\",10\\n\"GP\",\"F\",16,\"U\",\"LE3\",\"T\",2,2,\"other\",\"at_home\",\"course\",\"father\",2,2,1,\"yes\",\"no\",\"no\",\"yes\",\"yes\",\"yes\",\"yes\",\"no\",4,3,3,2,2,5,14,\"10\",\"11\",11\\n\"GP\",\"F\",15,\"U\",\"LE3\",\"A\",4,3,\"other\",\"other\",\"course\",\"mother\",1,2,0,\"yes\",\"yes\",\"yes\",\"yes\",\"yes\",\"yes\",\"yes\",\"yes\",5,2,2,1,1,5,4,\"10\",\"11\",11\\n\"GP\",\"F\",16,\"U\",\"LE3\",\"A\",3,3,\"other\",\"services\",\"home\",\"mother\",1,2,0,\"no\",\"yes\",\"no\",\"no\",\"yes\",\"yes\",\"yes\",\"no\",2,3,5,1,4,3,6,\"13\",\"12\",13\\n\"GP\",\"M\",16,\"U\",\"GT3\",\"T\",4,3,\"health\",\"services\",\"reputation\",\"mother\",1,4,0,\"no\",\"no\",\"no\",\"yes\",\"yes\",\"yes\",\"yes\",\"no\",4,2,2,1,1,2,2,\"17\",\"17\",17\\n\"GP\",\"M\",15,\"U\",\"GT3\",\"T\",4,2,\"teacher\",\"other\",\"home\",\"mother\",1,2,0,\"no\",\"yes\",\"no\",\"no\",\"yes\",\"yes\",\"no\",\"no\",4,3,3,2,2,5,4,\"11\",\"12\",13\\n\"GP\",\"F\",15,\"U\",\"GT3\",\"T\",4,4,\"services\",\"teacher\",\"other\",\"father\",1,2,0,\"yes\",\"yes\",\"no\",\"yes\",\"no\",\"yes\",\"yes\",\"no\",4,4,4,1,1,3,2,\"13\",\"12\",12\\n\"GP\",\"F\",16,\"U\",\"LE3\",\"T\",2,2,\"services\",\"services\",\"course\",\"mother\",3,2,0,\"no\",\"yes\",\"no\",\"no\",\"yes\",\"yes\",\"yes\",\"no\",4,3,3,2,3,4,0,\"14\",\"13\",13\\n\"GP\",\"F\",15,\"U\",\"LE3\",\"T\",4,2,\"health\",\"other\",\"other\",\"mother\",1,2,0,\"no\",\"yes\",\"no\",\"no\",\"yes\",\"yes\",\"yes\",\"no\",4,3,3,1,1,5,0,\"16\",\"14\",16\\n\"GP\",\"M\",15,\"U\",\"LE3\",\"A\",4,2,\"health\",\"health\",\"other\",\"father\",2,1,0,\"no\",\"no\",\"no\",\"no\",\"yes\",\"yes\",\"no\",\"no\",5,5,5,3,4,5,4,\"10\",\"9\",9\\n\"GP\",\"F\",15,\"U\",\"GT3\",\"T\",4,4,\"services\",\"services\",\"course\",\"mother\",1,1,0,\"yes\",\"yes\",\"no\",\"no\",\"yes\",\"yes\",\"yes\",\"no\",3,3,4,2,3,5,0,\"13\",\"12\",12\\n\"GP\",\"F\",15,\"U\",\"LE3\",\"A\",3,3,\"other\",\"other\",\"other\",\"mother\",1,1,0,\"no\",\"no\",\"no\",\"no\",\"yes\",\"yes\",\"yes\",\"no\",5,3,4,4,4,1,0,\"13\",\"12\",13\\n\"GP\",\"F\",16,\"U\",\"GT3\",\"A\",2,1,\"other\",\"other\",\"other\",\"mother\",1,2,0,\"no\",\"no\",\"no\",\"yes\",\"yes\",\"yes\",\"yes\",\"yes\",5,3,4,1,1,2,2,\"12\",\"13\",12\\n\"GP\",\"F\",15,\"U\",\"GT3\",\"A\",4,3,\"services\",\"services\",\"reputation\",\"mother\",1,2,0,\"no\",\"yes\",\"no\",\"yes\",\"yes\",\"yes\",\"yes\",\"no\",4,3,2,1,1,1,0,\"15\",\"14\",15\\n\"GP\",\"M\",15,\"U\",\"GT3\",\"T\",4,4,\"teacher\",\"health\",\"reputation\",\"mother\",1,2,0,\"no\",\"yes\",\"no\",\"yes\",\"yes\",\"yes\",\"no\",\"no\",3,2,2,1,1,5,8,\"15\",\"15\",16\\n\"GP\",\"M\",15,\"U\",\"LE3\",\"T\",1,2,\"other\",\"at_home\",\"home\",\"father\",1,2,0,\"yes\",\"yes\",\"no\",\"yes\",\"yes\",\"yes\",\"yes\",\"no\",4,3,2,1,1,5,0,\"14\",\"13\",14\\n\"GP\",\"F\",16,\"U\",\"GT3\",\"T\",4,2,\"services\",\"other\",\"course\",\"mother\",1,2,0,\"no\",\"yes\",\"yes\",\"no\",\"yes\",\"yes\",\"yes\",\"no\",4,2,3,1,1,5,2,\"16\",\"15\",16\\n\"GP\",\"F\",16,\"R\",\"GT3\",\"T\",4,4,\"health\",\"teacher\",\"other\",\"mother\",1,2,0,\"no\",\"yes\",\"no\",\"yes\",\"yes\",\"yes\",\"no\",\"no\",2,4,4,2,3,4,0,\"17\",\"16\",16\\n\"GP\",\"F\",16,\"U\",\"GT3\",\"T\",1,1,\"services\",\"services\",\"course\",\"father\",4,1,0,\"yes\",\"yes\",\"no\",\"yes\",\"no\",\"yes\",\"yes\",\"yes\",5,5,5,5,5,5,0,\"10\",\"10\",16\\n\"GP\",\"F\",16,\"U\",\"LE3\",\"T\",1,2,\"other\",\"services\",\"reputation\",\"father\",1,2,0,\"yes\",\"no\",\"no\",\"yes\",\"yes\",\"yes\",\"yes\",\"no\",4,4,3,1,1,1,0,\"13\",\"13\",10\\n\"GP\",\"F\",16,\"U\",\"GT3\",\"T\",4,3,\"teacher\",\"health\",\"home\",\"mother\",1,3,0,\"yes\",\"yes\",\"no\",\"yes\",\"yes\",\"yes\",\"yes\",\"no\",3,4,4,2,4,4,0,\"14\",\"13\",13\\n\"GP\",\"F\",15,\"U\",\"LE3\",\"T\",4,3,\"services\",\"services\",\"reputation\",\"father\",1,2,0,\"yes\",\"no\",\"no\",\"yes\",\"yes\",\"yes\",\"yes\",\"yes\",4,4,4,2,4,2,0,\"13\",\"12\",12\\n\"GP\",\"F\",16,\"U\",\"LE3\",\"T\",4,3,\"teacher\",\"services\",\"course\",\"mother\",3,2,0,\"no\",\"yes\",\"no\",\"yes\",\"yes\",\"yes\",\"yes\",\"no\",5,4,3,1,2,1,2,\"16\",\"15\",16\\n\"GP\",\"M\",15,\"U\",\"GT3\",\"A\",4,4,\"other\",\"services\",\"reputation\",\"mother\",1,4,0,\"no\",\"yes\",\"no\",\"yes\",\"no\",\"yes\",\"yes\",\"yes\",1,3,3,5,5,3,0,\"11\",\"12\",12\\n\"GP\",\"F\",16,\"U\",\"GT3\",\"T\",3,1,\"services\",\"other\",\"course\",\"mother\",1,4,0,\"yes\",\"yes\",\"no\",\"no\",\"yes\",\"yes\",\"yes\",\"no\",4,3,3,1,2,5,0,\"10\",\"9\",10\\n\"GP\",\"F\",15,\"R\",\"LE3\",\"T\",2,2,\"health\",\"services\",\"reputation\",\"mother\",2,2,0,\"yes\",\"yes\",\"no\",\"no\",\"yes\",\"yes\",\"yes\",\"no\",4,1,3,1,3,4,0,\"11\",\"10\",11\\n\"GP\",\"F\",15,\"R\",\"LE3\",\"T\",3,1,\"other\",\"other\",\"reputation\",\"father\",2,4,0,\"no\",\"yes\",\"no\",\"no\",\"no\",\"yes\",\"yes\",\"no\",4,4,2,2,3,3,6,\"15\",\"15\",15\\n\"GP\",\"M\",16,\"U\",\"GT3\",\"T\",3,1,\"other\",\"other\",\"reputation\",\"father\",2,4,0,\"no\",\"yes\",\"no\",\"no\",\"yes\",\"yes\",\"yes\",\"no\",4,3,2,1,1,5,2,\"13\",\"11\",11\\n\"GP\",\"M\",15,\"U\",\"GT3\",\"T\",4,2,\"other\",\"other\",\"course\",\"mother\",1,4,0,\"no\",\"no\",\"no\",\"no\",\"yes\",\"yes\",\"yes\",\"no\",3,3,3,1,1,3,0,\"11\",\"9\",10\\n\"GP\",\"F\",15,\"R\",\"GT3\",\"T\",1,1,\"other\",\"other\",\"reputation\",\"mother\",1,2,0,\"yes\",\"yes\",\"no\",\"no\",\"no\",\"yes\",\"yes\",\"yes\",3,3,4,2,4,5,2,\"13\",\"11\",11\\n\"GP\",\"M\",16,\"U\",\"GT3\",\"T\",3,1,\"other\",\"other\",\"reputation\",\"mother\",1,1,0,\"no\",\"no\",\"no\",\"yes\",\"yes\",\"yes\",\"no\",\"no\",5,3,2,2,2,5,0,\"13\",\"13\",14\\n\"GP\",\"F\",16,\"U\",\"GT3\",\"T\",3,3,\"other\",\"services\",\"home\",\"mother\",1,2,0,\"yes\",\"yes\",\"no\",\"yes\",\"yes\",\"yes\",\"yes\",\"no\",4,3,3,2,4,5,4,\"11\",\"11\",11\\n\"GP\",\"M\",15,\"U\",\"GT3\",\"T\",4,3,\"teacher\",\"other\",\"home\",\"mother\",1,2,0,\"no\",\"yes\",\"no\",\"yes\",\"yes\",\"yes\",\"yes\",\"no\",4,3,3,2,3,5,0,\"11\",\"11\",11\\n\"GP\",\"M\",15,\"U\",\"GT3\",\"T\",4,0,\"teacher\",\"other\",\"course\",\"mother\",2,4,0,\"no\",\"no\",\"no\",\"yes\",\"yes\",\"yes\",\"yes\",\"no\",3,4,3,1,1,1,0,\"12\",\"11\",11\\n\"GP\",\"F\",16,\"U\",\"GT3\",\"T\",2,2,\"other\",\"other\",\"reputation\",\"mother\",1,4,0,\"no\",\"no\",\"no\",\"no\",\"yes\",\"yes\",\"yes\",\"yes\",5,2,3,1,3,3,1,\"13\",\"13\",13\\n\"GP\",\"M\",17,\"U\",\"GT3\",\"T\",2,1,\"other\",\"other\",\"home\",\"mother\",2,1,3,\"yes\",\"yes\",\"no\",\"yes\",\"yes\",\"no\",\"yes\",\"no\",4,5,1,1,1,3,0,\"9\",\"9\",10\\n\"GP\",\"F\",16,\"U\",\"GT3\",\"T\",3,4,\"at_home\",\"other\",\"course\",\"mother\",1,2,0,\"no\",\"yes\",\"no\",\"no\",\"yes\",\"yes\",\"yes\",\"no\",2,4,3,1,2,3,14,\"12\",\"11\",11\\n\"GP\",\"M\",15,\"U\",\"GT3\",\"T\",2,3,\"other\",\"services\",\"course\",\"father\",1,1,0,\"yes\",\"yes\",\"no\",\"yes\",\"no\",\"yes\",\"yes\",\"yes\",3,2,2,1,3,3,0,\"11\",\"11\",12\\n\"GP\",\"M\",15,\"U\",\"GT3\",\"T\",2,3,\"other\",\"other\",\"home\",\"mother\",1,3,0,\"yes\",\"no\",\"no\",\"no\",\"no\",\"yes\",\"yes\",\"no\",5,3,2,1,2,5,2,\"10\",\"9\",9\\n\"GP\",\"F\",15,\"U\",\"LE3\",\"T\",3,2,\"services\",\"other\",\"reputation\",\"mother\",1,2,0,\"no\",\"yes\",\"no\",\"no\",\"yes\",\"yes\",\"yes\",\"no\",4,4,4,1,1,5,4,\"12\",\"11\",11\\n\"GP\",\"M\",15,\"U\",\"LE3\",\"T\",2,2,\"services\",\"services\",\"home\",\"mother\",2,2,0,\"no\",\"no\",\"yes\",\"yes\",\"yes\",\"yes\",\"yes\",\"no\",5,3,3,1,3,4,2,\"13\",\"12\",13\\n\"GP\",\"F\",15,\"U\",\"GT3\",\"T\",1,1,\"other\",\"other\",\"home\",\"father\",1,2,0,\"no\",\"yes\",\"no\",\"yes\",\"no\",\"yes\",\"yes\",\"no\",4,3,2,2,3,4,2,\"13\",\"12\",12\\n\"GP\",\"F\",15,\"U\",\"GT3\",\"T\",4,4,\"services\",\"services\",\"reputation\",\"father\",2,2,0,\"no\",\"no\",\"no\",\"no\",\"yes\",\"yes\",\"yes\",\"yes\",4,4,4,2,3,5,4,\"12\",\"11\",12\\n\"GP\",\"F\",16,\"U\",\"LE3\",\"T\",2,2,\"at_home\",\"other\",\"course\",\"mother\",1,2,0,\"no\",\"yes\",\"no\",\"no\",\"yes\",\"yes\",\"no\",\"no\",4,3,4,1,2,2,6,\"13\",\"11\",11\\n\"GP\",\"F\",15,\"U\",\"GT3\",\"T\",4,2,\"other\",\"other\",\"reputation\",\"mother\",1,3,0,\"no\",\"yes\",\"no\",\"yes\",\"yes\",\"yes\",\"yes\",\"no\",5,3,3,1,3,1,4,\"15\",\"15\",15\\n\"GP\",\"M\",16,\"U\",\"GT3\",\"T\",2,2,\"services\",\"other\",\"reputation\",\"father\",2,2,0,\"no\",\"no\",\"no\",\"yes\",\"no\",\"yes\",\"yes\",\"no\",4,4,2,1,1,3,6,\"12\",\"10\",11\\n\"GP\",\"M\",16,\"U\",\"LE3\",\"A\",4,4,\"teacher\",\"health\",\"reputation\",\"mother\",1,2,0,\"no\",\"yes\",\"no\",\"no\",\"yes\",\"yes\",\"no\",\"no\",4,1,3,3,5,5,6,\"9\",\"9\",10\\n\"GP\",\"F\",16,\"U\",\"GT3\",\"T\",3,3,\"other\",\"other\",\"home\",\"mother\",1,3,0,\"no\",\"yes\",\"no\",\"no\",\"yes\",\"yes\",\"yes\",\"yes\",4,3,3,1,3,4,2,\"9\",\"11\",11\\n\"GP\",\"F\",15,\"U\",\"GT3\",\"T\",4,3,\"services\",\"other\",\"reputation\",\"mother\",1,1,0,\"no\",\"no\",\"no\",\"yes\",\"yes\",\"yes\",\"yes\",\"no\",4,5,5,1,3,1,6,\"14\",\"13\",13\\n\"GP\",\"F\",16,\"U\",\"LE3\",\"T\",3,1,\"other\",\"other\",\"home\",\"father\",1,2,0,\"yes\",\"yes\",\"no\",\"no\",\"yes\",\"yes\",\"no\",\"no\",3,3,3,2,3,2,0,\"12\",\"13\",12\\n\"GP\",\"F\",16,\"U\",\"GT3\",\"T\",4,2,\"teacher\",\"services\",\"home\",\"mother\",2,2,0,\"no\",\"yes\",\"no\",\"yes\",\"yes\",\"yes\",\"yes\",\"no\",5,3,3,1,1,1,2,\"13\",\"14\",14\\n\"GP\",\"M\",15,\"U\",\"LE3\",\"T\",2,2,\"services\",\"health\",\"reputation\",\"mother\",1,4,0,\"no\",\"yes\",\"no\",\"yes\",\"yes\",\"yes\",\"yes\",\"no\",4,3,4,1,1,4,2,\"11\",\"12\",12\\n\"GP\",\"F\",15,\"R\",\"GT3\",\"T\",1,1,\"at_home\",\"other\",\"home\",\"mother\",2,4,0,\"yes\",\"yes\",\"yes\",\"yes\",\"yes\",\"yes\",\"yes\",\"no\",3,1,2,1,1,1,4,\"13\",\"13\",13\\n\"GP\",\"M\",16,\"R\",\"GT3\",\"T\",4,3,\"services\",\"other\",\"reputation\",\"mother\",2,1,0,\"yes\",\"yes\",\"yes\",\"yes\",\"no\",\"yes\",\"yes\",\"no\",3,3,3,1,1,4,6,\"9\",\"11\",11\\n\"GP\",\"F\",16,\"U\",\"GT3\",\"T\",2,1,\"other\",\"other\",\"course\",\"mother\",1,2,0,\"no\",\"yes\",\"no\",\"no\",\"yes\",\"yes\",\"no\",\"yes\",4,3,5,1,1,5,0,\"13\",\"12\",12\\n\"GP\",\"F\",16,\"U\",\"GT3\",\"T\",4,4,\"other\",\"other\",\"reputation\",\"mother\",1,1,0,\"no\",\"no\",\"no\",\"yes\",\"no\",\"yes\",\"yes\",\"no\",5,3,4,1,2,1,4,\"12\",\"13\",13\\n\"GP\",\"F\",16,\"U\",\"GT3\",\"T\",4,3,\"other\",\"at_home\",\"course\",\"mother\",1,3,0,\"yes\",\"yes\",\"no\",\"no\",\"yes\",\"yes\",\"yes\",\"no\",5,3,5,1,1,3,2,\"12\",\"13\",13\\n\"GP\",\"M\",16,\"U\",\"GT3\",\"T\",4,4,\"services\",\"services\",\"other\",\"mother\",1,1,0,\"yes\",\"yes\",\"no\",\"yes\",\"yes\",\"yes\",\"yes\",\"no\",4,5,5,5,5,4,12,\"9\",\"9\",8\\n\"GP\",\"M\",16,\"U\",\"GT3\",\"T\",4,4,\"services\",\"teacher\",\"other\",\"father\",1,3,0,\"no\",\"yes\",\"no\",\"yes\",\"yes\",\"yes\",\"yes\",\"yes\",4,4,3,1,1,4,0,\"16\",\"16\",16\\n\"GP\",\"M\",15,\"U\",\"GT3\",\"T\",4,4,\"services\",\"other\",\"course\",\"mother\",1,1,0,\"no\",\"yes\",\"yes\",\"yes\",\"no\",\"yes\",\"yes\",\"no\",5,3,3,1,1,5,2,\"12\",\"13\",12\\n\"GP\",\"F\",15,\"U\",\"GT3\",\"T\",3,2,\"services\",\"other\",\"home\",\"mother\",2,2,0,\"yes\",\"yes\",\"no\",\"no\",\"yes\",\"yes\",\"yes\",\"no\",4,3,5,1,1,2,16,\"11\",\"10\",10\\n\"GP\",\"M\",15,\"U\",\"GT3\",\"A\",3,4,\"services\",\"other\",\"course\",\"mother\",1,2,0,\"no\",\"yes\",\"no\",\"yes\",\"yes\",\"yes\",\"yes\",\"no\",5,4,4,1,1,1,0,\"16\",\"16\",16\\n\"GP\",\"F\",15,\"U\",\"GT3\",\"A\",3,3,\"other\",\"health\",\"reputation\",\"father\",1,4,0,\"yes\",\"no\",\"no\",\"no\",\"yes\",\"yes\",\"no\",\"no\",4,3,3,1,1,4,10,\"10\",\"10\",10\\n\"GP\",\"F\",15,\"U\",\"GT3\",\"T\",2,2,\"other\",\"other\",\"course\",\"mother\",1,4,0,\"yes\",\"yes\",\"no\",\"no\",\"yes\",\"yes\",\"yes\",\"no\",5,1,2,1,1,3,4,\"10\",\"10\",10\\n\"GP\",\"M\",16,\"U\",\"GT3\",\"T\",3,3,\"services\",\"other\",\"home\",\"father\",1,3,0,\"no\",\"yes\",\"no\",\"yes\",\"yes\",\"yes\",\"yes\",\"no\",5,3,3,1,1,5,4,\"13\",\"14\",14\\n\"GP\",\"M\",15,\"R\",\"GT3\",\"T\",4,4,\"other\",\"other\",\"home\",\"father\",4,4,0,\"no\",\"yes\",\"no\",\"yes\",\"yes\",\"yes\",\"yes\",\"yes\",1,3,5,3,5,1,8,\"12\",\"10\",11\\n\"GP\",\"F\",16,\"U\",\"LE3\",\"T\",4,4,\"health\",\"health\",\"other\",\"mother\",1,3,0,\"no\",\"yes\",\"no\",\"yes\",\"yes\",\"yes\",\"yes\",\"yes\",5,4,5,1,1,4,2,\"15\",\"15\",14\\n\"GP\",\"M\",15,\"U\",\"LE3\",\"A\",4,4,\"teacher\",\"teacher\",\"course\",\"mother\",1,1,0,\"no\",\"no\",\"no\",\"yes\",\"yes\",\"yes\",\"yes\",\"no\",5,5,3,1,1,4,4,\"13\",\"14\",14\\n\"GP\",\"F\",16,\"R\",\"GT3\",\"T\",3,3,\"services\",\"other\",\"reputation\",\"father\",1,3,0,\"yes\",\"yes\",\"no\",\"yes\",\"yes\",\"yes\",\"yes\",\"no\",4,1,2,1,1,2,4,\"11\",\"11\",11\\n\"GP\",\"F\",16,\"U\",\"GT3\",\"T\",2,2,\"at_home\",\"other\",\"home\",\"mother\",1,2,1,\"yes\",\"no\",\"no\",\"yes\",\"yes\",\"yes\",\"yes\",\"no\",3,1,2,1,1,5,12,\"8\",\"10\",10\\n\"GP\",\"M\",15,\"U\",\"LE3\",\"T\",4,2,\"teacher\",\"other\",\"course\",\"mother\",1,1,0,\"no\",\"no\",\"no\",\"no\",\"yes\",\"yes\",\"yes\",\"no\",3,5,2,1,1,3,10,\"18\",\"17\",18\\n\"GP\",\"M\",15,\"R\",\"GT3\",\"T\",2,1,\"health\",\"services\",\"reputation\",\"mother\",1,2,0,\"no\",\"no\",\"no\",\"yes\",\"yes\",\"yes\",\"yes\",\"yes\",5,4,2,1,1,5,4,\"10\",\"9\",10\\n\"GP\",\"M\",16,\"U\",\"GT3\",\"T\",4,4,\"teacher\",\"teacher\",\"course\",\"father\",1,2,0,\"no\",\"yes\",\"no\",\"yes\",\"yes\",\"yes\",\"yes\",\"no\",5,4,4,1,2,5,6,\"16\",\"14\",14\\n\"GP\",\"M\",15,\"U\",\"GT3\",\"T\",4,4,\"other\",\"teacher\",\"reputation\",\"father\",2,2,0,\"no\",\"yes\",\"no\",\"yes\",\"yes\",\"yes\",\"no\",\"no\",4,4,3,1,1,2,4,\"16\",\"15\",16\\n\"GP\",\"M\",16,\"U\",\"GT3\",\"T\",3,3,\"other\",\"services\",\"home\",\"father\",2,1,0,\"no\",\"no\",\"no\",\"yes\",\"yes\",\"yes\",\"yes\",\"no\",5,4,2,1,1,5,6,\"14\",\"14\",15\\n\"GP\",\"M\",17,\"R\",\"GT3\",\"T\",1,3,\"other\",\"other\",\"course\",\"father\",3,2,1,\"no\",\"yes\",\"no\",\"yes\",\"yes\",\"yes\",\"yes\",\"no\",5,2,4,1,4,5,14,\"12\",\"11\",11\\n\"GP\",\"M\",15,\"U\",\"GT3\",\"T\",3,4,\"other\",\"other\",\"reputation\",\"father\",1,1,0,\"no\",\"no\",\"no\",\"no\",\"yes\",\"yes\",\"yes\",\"no\",3,4,3,1,2,4,2,\"14\",\"13\",14\\n\"GP\",\"F\",15,\"U\",\"GT3\",\"T\",1,2,\"at_home\",\"services\",\"course\",\"mother\",1,2,0,\"no\",\"no\",\"no\",\"no\",\"no\",\"yes\",\"yes\",\"no\",3,2,3,1,2,1,0,\"14\",\"14\",14\\n\"GP\",\"M\",15,\"U\",\"GT3\",\"T\",2,2,\"services\",\"services\",\"home\",\"father\",1,4,0,\"no\",\"yes\",\"no\",\"yes\",\"yes\",\"yes\",\"yes\",\"no\",5,5,4,1,2,5,6,\"14\",\"13\",13\\n\"GP\",\"F\",16,\"U\",\"LE3\",\"T\",2,4,\"other\",\"health\",\"course\",\"father\",2,2,0,\"no\",\"yes\",\"no\",\"yes\",\"yes\",\"yes\",\"yes\",\"yes\",4,2,2,1,2,5,2,\"14\",\"12\",13\\n\"GP\",\"M\",16,\"U\",\"GT3\",\"T\",4,4,\"health\",\"other\",\"course\",\"mother\",1,1,0,\"no\",\"yes\",\"no\",\"yes\",\"yes\",\"yes\",\"yes\",\"no\",3,4,4,1,4,5,4,\"12\",\"13\",13\\n\"GP\",\"F\",16,\"U\",\"GT3\",\"T\",2,2,\"other\",\"other\",\"home\",\"mother\",1,2,0,\"no\",\"no\",\"no\",\"no\",\"yes\",\"yes\",\"yes\",\"yes\",5,4,4,1,1,5,0,\"12\",\"11\",11\\n\"GP\",\"M\",15,\"U\",\"GT3\",\"T\",3,4,\"services\",\"services\",\"home\",\"father\",1,1,0,\"yes\",\"no\",\"no\",\"no\",\"yes\",\"yes\",\"yes\",\"no\",5,5,5,3,2,5,2,\"9\",\"9\",9\\n\"GP\",\"F\",15,\"U\",\"LE3\",\"A\",3,4,\"other\",\"other\",\"home\",\"mother\",1,2,0,\"yes\",\"no\",\"no\",\"yes\",\"yes\",\"yes\",\"yes\",\"yes\",5,3,2,1,1,1,0,\"10\",\"11\",11\\n\"GP\",\"F\",19,\"U\",\"GT3\",\"T\",0,1,\"at_home\",\"other\",\"course\",\"other\",1,2,2,\"no\",\"yes\",\"no\",\"no\",\"no\",\"no\",\"no\",\"no\",3,4,2,1,1,5,0,\"9\",\"10\",11\\n\"GP\",\"M\",16,\"R\",\"GT3\",\"T\",4,4,\"teacher\",\"teacher\",\"course\",\"mother\",1,1,0,\"no\",\"no\",\"no\",\"yes\",\"yes\",\"yes\",\"yes\",\"no\",3,5,5,2,5,4,8,\"14\",\"14\",15\\n\"GP\",\"M\",16,\"U\",\"GT3\",\"T\",2,3,\"other\",\"other\",\"course\",\"mother\",2,3,0,\"no\",\"yes\",\"no\",\"no\",\"no\",\"yes\",\"yes\",\"yes\",3,2,3,2,2,1,4,\"13\",\"12\",13\\n\"GP\",\"F\",15,\"R\",\"GT3\",\"T\",3,4,\"services\",\"teacher\",\"course\",\"father\",2,3,0,\"no\",\"yes\",\"no\",\"no\",\"yes\",\"yes\",\"yes\",\"yes\",4,2,2,2,2,5,0,\"10\",\"11\",12\\n\"GP\",\"F\",18,\"U\",\"GT3\",\"T\",2,1,\"services\",\"other\",\"reputation\",\"mother\",1,2,3,\"no\",\"yes\",\"no\",\"yes\",\"yes\",\"no\",\"yes\",\"yes\",5,4,5,1,3,5,10,\"10\",\"9\",8\\n\"GP\",\"F\",17,\"U\",\"LE3\",\"A\",2,1,\"other\",\"other\",\"course\",\"mother\",3,1,0,\"no\",\"yes\",\"no\",\"no\",\"yes\",\"yes\",\"yes\",\"no\",3,2,2,1,2,5,8,\"11\",\"10\",11\\n\"GP\",\"F\",15,\"U\",\"GT3\",\"T\",1,1,\"at_home\",\"other\",\"course\",\"mother\",3,1,0,\"no\",\"yes\",\"no\",\"yes\",\"no\",\"yes\",\"yes\",\"yes\",4,3,3,1,2,4,6,\"11\",\"12\",13\\n\"GP\",\"F\",17,\"U\",\"LE3\",\"T\",2,2,\"other\",\"other\",\"course\",\"father\",1,1,0,\"no\",\"yes\",\"no\",\"no\",\"yes\",\"yes\",\"yes\",\"yes\",3,4,4,1,3,5,2,\"13\",\"12\",12\\n\"GP\",\"F\",16,\"U\",\"GT3\",\"A\",3,4,\"services\",\"other\",\"course\",\"father\",1,1,0,\"no\",\"no\",\"no\",\"no\",\"yes\",\"yes\",\"yes\",\"no\",3,2,1,1,4,5,12,\"15\",\"13\",14\\n\"GP\",\"M\",16,\"U\",\"GT3\",\"T\",2,1,\"at_home\",\"other\",\"course\",\"mother\",4,1,0,\"no\",\"no\",\"no\",\"no\",\"yes\",\"yes\",\"no\",\"no\",3,2,1,1,1,2,4,\"9\",\"9\",11\\n\"GP\",\"F\",16,\"U\",\"GT3\",\"A\",2,2,\"other\",\"other\",\"home\",\"mother\",1,1,1,\"no\",\"no\",\"no\",\"no\",\"yes\",\"yes\",\"no\",\"no\",5,3,4,1,1,5,12,\"13\",\"11\",11\\n\"GP\",\"M\",15,\"R\",\"GT3\",\"T\",3,4,\"at_home\",\"teacher\",\"course\",\"mother\",4,2,0,\"no\",\"yes\",\"no\",\"no\",\"yes\",\"yes\",\"no\",\"yes\",5,3,3,1,1,5,2,\"12\",\"11\",11\\n\"GP\",\"F\",15,\"U\",\"GT3\",\"T\",4,4,\"services\",\"at_home\",\"course\",\"mother\",1,3,0,\"no\",\"yes\",\"no\",\"yes\",\"yes\",\"yes\",\"yes\",\"yes\",4,3,3,1,1,5,4,\"13\",\"14\",15\\n\"GP\",\"M\",17,\"R\",\"GT3\",\"T\",3,4,\"at_home\",\"other\",\"course\",\"mother\",3,2,0,\"no\",\"no\",\"no\",\"no\",\"yes\",\"yes\",\"no\",\"no\",5,4,5,2,4,5,2,\"10\",\"9\",10\\n\"GP\",\"F\",16,\"R\",\"GT3\",\"T\",1,1,\"at_home\",\"other\",\"course\",\"mother\",4,2,0,\"no\",\"yes\",\"no\",\"no\",\"yes\",\"yes\",\"no\",\"no\",5,1,3,1,1,3,0,\"14\",\"13\",13\\n\"GP\",\"M\",18,\"U\",\"LE3\",\"T\",3,1,\"services\",\"services\",\"course\",\"mother\",2,1,0,\"no\",\"no\",\"no\",\"yes\",\"yes\",\"yes\",\"yes\",\"yes\",3,3,4,4,5,4,2,\"11\",\"11\",12\\n\"GP\",\"F\",18,\"U\",\"GT3\",\"A\",3,2,\"other\",\"services\",\"course\",\"other\",1,3,0,\"no\",\"yes\",\"no\",\"yes\",\"no\",\"yes\",\"yes\",\"yes\",4,3,3,5,1,5,10,\"12\",\"11\",11\\n\"GP\",\"F\",16,\"R\",\"GT3\",\"T\",1,1,\"other\",\"services\",\"reputation\",\"mother\",2,1,0,\"no\",\"yes\",\"no\",\"yes\",\"yes\",\"yes\",\"no\",\"yes\",3,3,3,1,2,1,8,\"12\",\"11\",11\\n\"GP\",\"F\",16,\"U\",\"GT3\",\"A\",3,3,\"other\",\"other\",\"course\",\"other\",2,1,0,\"no\",\"yes\",\"no\",\"yes\",\"no\",\"yes\",\"yes\",\"yes\",4,3,2,1,1,5,4,\"9\",\"9\",10\\n\"GP\",\"M\",16,\"U\",\"LE3\",\"T\",1,1,\"services\",\"other\",\"course\",\"mother\",1,2,2,\"no\",\"no\",\"no\",\"no\",\"yes\",\"yes\",\"no\",\"yes\",4,4,4,1,3,5,0,\"10\",\"10\",10\\n\"GP\",\"F\",15,\"U\",\"GT3\",\"T\",4,4,\"teacher\",\"teacher\",\"course\",\"mother\",2,1,0,\"no\",\"no\",\"no\",\"yes\",\"yes\",\"yes\",\"yes\",\"no\",4,3,2,1,1,5,6,\"13\",\"14\",14\\n\"GP\",\"F\",15,\"R\",\"GT3\",\"T\",1,1,\"other\",\"other\",\"course\",\"mother\",3,1,1,\"no\",\"no\",\"no\",\"yes\",\"yes\",\"yes\",\"yes\",\"yes\",5,5,5,1,1,1,2,\"8\",\"9\",9\\n\"GP\",\"M\",15,\"U\",\"GT3\",\"T\",4,3,\"teacher\",\"services\",\"course\",\"father\",2,4,0,\"yes\",\"yes\",\"no\",\"no\",\"yes\",\"yes\",\"yes\",\"no\",2,2,2,1,1,3,6,\"9\",\"11\",11\\n\"GP\",\"F\",15,\"U\",\"GT3\",\"A\",3,3,\"services\",\"services\",\"home\",\"mother\",1,2,0,\"no\",\"no\",\"no\",\"no\",\"no\",\"yes\",\"no\",\"yes\",1,3,2,2,3,1,24,\"9\",\"8\",9\\n\"GP\",\"M\",16,\"U\",\"GT3\",\"T\",4,4,\"services\",\"services\",\"course\",\"mother\",1,3,0,\"no\",\"yes\",\"no\",\"yes\",\"yes\",\"yes\",\"yes\",\"no\",5,3,3,1,3,5,0,\"15\",\"13\",13\\n\"GP\",\"M\",16,\"U\",\"LE3\",\"T\",2,2,\"services\",\"services\",\"reputation\",\"father\",2,1,0,\"no\",\"yes\",\"no\",\"yes\",\"yes\",\"yes\",\"yes\",\"no\",2,3,3,2,2,2,4,\"12\",\"11\",11\\n\"GP\",\"F\",15,\"U\",\"GT3\",\"T\",4,4,\"teacher\",\"services\",\"course\",\"mother\",1,3,0,\"no\",\"yes\",\"no\",\"yes\",\"yes\",\"yes\",\"yes\",\"no\",4,2,2,1,1,5,2,\"13\",\"13\",13\\n\"GP\",\"F\",16,\"U\",\"LE3\",\"T\",1,1,\"at_home\",\"at_home\",\"course\",\"mother\",1,1,0,\"no\",\"no\",\"no\",\"no\",\"yes\",\"yes\",\"yes\",\"no\",3,4,4,3,3,1,4,\"10\",\"11\",11\\n\"GP\",\"M\",17,\"U\",\"GT3\",\"T\",2,1,\"other\",\"other\",\"home\",\"mother\",1,1,0,\"no\",\"yes\",\"no\",\"no\",\"yes\",\"yes\",\"yes\",\"no\",5,4,5,1,2,5,22,\"9\",\"7\",6\\n\"GP\",\"F\",15,\"U\",\"GT3\",\"T\",1,1,\"other\",\"services\",\"course\",\"father\",1,2,0,\"no\",\"yes\",\"no\",\"no\",\"yes\",\"yes\",\"yes\",\"no\",4,4,2,1,2,5,0,\"12\",\"12\",12\\n\"GP\",\"F\",15,\"U\",\"LE3\",\"A\",2,1,\"at_home\",\"other\",\"home\",\"mother\",2,1,0,\"no\",\"yes\",\"no\",\"yes\",\"yes\",\"no\",\"yes\",\"yes\",4,4,2,1,1,5,0,\"11\",\"10\",10\\n\"GP\",\"F\",15,\"U\",\"GT3\",\"T\",3,2,\"health\",\"services\",\"home\",\"father\",1,2,1,\"no\",\"yes\",\"no\",\"no\",\"yes\",\"yes\",\"yes\",\"no\",3,3,2,1,1,3,2,\"11\",\"11\",11\\n\"GP\",\"F\",15,\"U\",\"GT3\",\"T\",1,2,\"at_home\",\"other\",\"course\",\"mother\",1,2,0,\"no\",\"yes\",\"no\",\"no\",\"no\",\"yes\",\"yes\",\"no\",4,3,2,1,1,5,6,\"13\",\"12\",13\\n\"GP\",\"F\",15,\"U\",\"GT3\",\"T\",1,2,\"at_home\",\"services\",\"course\",\"father\",1,2,0,\"no\",\"no\",\"no\",\"no\",\"no\",\"yes\",\"no\",\"yes\",2,3,4,2,4,1,6,\"11\",\"11\",11\\n\"GP\",\"M\",16,\"U\",\"GT3\",\"T\",4,4,\"teacher\",\"teacher\",\"course\",\"mother\",1,1,0,\"no\",\"yes\",\"no\",\"no\",\"yes\",\"no\",\"yes\",\"yes\",3,3,2,2,1,5,16,\"9\",\"9\",8\\n\"GP\",\"M\",15,\"U\",\"LE3\",\"A\",2,1,\"services\",\"other\",\"course\",\"mother\",4,1,0,\"no\",\"no\",\"no\",\"no\",\"yes\",\"yes\",\"yes\",\"no\",4,5,5,2,5,5,0,\"12\",\"11\",11\\n\"GP\",\"M\",18,\"U\",\"LE3\",\"T\",1,1,\"other\",\"other\",\"course\",\"mother\",1,1,2,\"no\",\"no\",\"no\",\"no\",\"yes\",\"no\",\"yes\",\"yes\",2,3,5,2,5,4,0,\"11\",\"9\",0\\n\"GP\",\"M\",16,\"U\",\"LE3\",\"T\",2,1,\"at_home\",\"other\",\"course\",\"mother\",1,1,1,\"no\",\"no\",\"no\",\"yes\",\"yes\",\"yes\",\"no\",\"yes\",4,4,4,3,5,5,6,\"9\",\"10\",10\\n\"GP\",\"F\",15,\"R\",\"GT3\",\"T\",3,3,\"services\",\"services\",\"reputation\",\"other\",2,3,0,\"no\",\"yes\",\"yes\",\"yes\",\"yes\",\"yes\",\"yes\",\"yes\",4,2,1,2,3,3,2,\"13\",\"13\",13\\n\"GP\",\"M\",19,\"U\",\"GT3\",\"T\",3,2,\"services\",\"at_home\",\"home\",\"mother\",1,1,0,\"no\",\"yes\",\"no\",\"no\",\"yes\",\"no\",\"yes\",\"yes\",4,5,4,1,1,4,6,\"11\",\"9\",11\\n\"GP\",\"F\",17,\"U\",\"GT3\",\"T\",4,4,\"other\",\"teacher\",\"course\",\"mother\",1,1,0,\"yes\",\"yes\",\"no\",\"no\",\"yes\",\"yes\",\"no\",\"yes\",4,2,1,1,1,4,0,\"13\",\"13\",13\\n\"GP\",\"M\",15,\"R\",\"GT3\",\"T\",2,3,\"at_home\",\"services\",\"course\",\"mother\",1,2,0,\"yes\",\"no\",\"yes\",\"yes\",\"yes\",\"yes\",\"no\",\"no\",4,4,4,1,1,1,0,\"7\",\"8\",8\\n\"GP\",\"M\",17,\"R\",\"LE3\",\"T\",1,2,\"other\",\"other\",\"reputation\",\"mother\",1,1,3,\"no\",\"no\",\"no\",\"no\",\"yes\",\"yes\",\"no\",\"no\",2,2,2,3,3,5,14,\"9\",\"8\",10\\n\"GP\",\"F\",18,\"R\",\"GT3\",\"T\",1,1,\"at_home\",\"other\",\"course\",\"mother\",3,1,3,\"no\",\"yes\",\"no\",\"yes\",\"no\",\"yes\",\"no\",\"no\",5,2,5,1,5,4,6,\"11\",\"10\",11\\n\"GP\",\"M\",16,\"R\",\"GT3\",\"T\",2,2,\"at_home\",\"other\",\"course\",\"mother\",3,1,0,\"no\",\"no\",\"no\",\"no\",\"no\",\"yes\",\"no\",\"no\",4,2,2,1,2,3,4,\"12\",\"10\",11\\n\"GP\",\"M\",16,\"U\",\"GT3\",\"T\",3,3,\"other\",\"services\",\"course\",\"father\",1,2,1,\"no\",\"yes\",\"no\",\"no\",\"yes\",\"yes\",\"yes\",\"yes\",4,5,5,4,4,5,0,\"10\",\"10\",1\\n\"GP\",\"M\",16,\"U\",\"LE3\",\"T\",1,2,\"health\",\"services\",\"course\",\"mother\",2,1,2,\"no\",\"no\",\"no\",\"no\",\"no\",\"yes\",\"yes\",\"no\",4,4,5,3,5,5,0,\"9\",\"8\",10\\n\"GP\",\"M\",17,\"R\",\"LE3\",\"T\",2,1,\"at_home\",\"other\",\"course\",\"mother\",2,1,1,\"no\",\"no\",\"yes\",\"yes\",\"yes\",\"no\",\"yes\",\"yes\",3,3,2,2,2,5,8,\"8\",\"8\",9\\n\"GP\",\"M\",17,\"R\",\"GT3\",\"T\",3,2,\"other\",\"other\",\"course\",\"mother\",2,2,2,\"yes\",\"yes\",\"no\",\"no\",\"yes\",\"yes\",\"yes\",\"yes\",4,4,4,1,4,3,4,\"7\",\"6\",8\\n\"GP\",\"M\",15,\"U\",\"LE3\",\"T\",1,2,\"other\",\"other\",\"course\",\"mother\",2,1,0,\"no\",\"no\",\"no\",\"yes\",\"yes\",\"yes\",\"no\",\"no\",4,4,4,2,4,5,2,\"8\",\"9\",10\\n\"GP\",\"M\",16,\"U\",\"GT3\",\"T\",1,3,\"at_home\",\"services\",\"course\",\"father\",1,1,1,\"no\",\"no\",\"no\",\"no\",\"yes\",\"no\",\"yes\",\"no\",5,3,3,1,4,2,2,\"9\",\"8\",8\\n\"GP\",\"M\",17,\"R\",\"LE3\",\"T\",1,1,\"other\",\"services\",\"course\",\"mother\",4,2,0,\"no\",\"no\",\"no\",\"yes\",\"yes\",\"no\",\"no\",\"yes\",5,3,5,1,5,5,0,\"8\",\"8\",8\\n\"GP\",\"M\",17,\"U\",\"GT3\",\"T\",3,2,\"services\",\"services\",\"course\",\"mother\",2,1,3,\"no\",\"yes\",\"no\",\"yes\",\"no\",\"no\",\"no\",\"no\",4,5,2,1,1,2,10,\"8\",\"7\",8\\n\"GP\",\"M\",16,\"U\",\"GT3\",\"T\",2,2,\"other\",\"other\",\"course\",\"father\",1,2,0,\"no\",\"no\",\"no\",\"no\",\"yes\",\"no\",\"yes\",\"no\",4,3,5,2,4,4,0,\"9\",\"10\",11\\n\"GP\",\"F\",16,\"U\",\"GT3\",\"T\",4,2,\"health\",\"services\",\"home\",\"father\",1,2,0,\"no\",\"no\",\"no\",\"no\",\"yes\",\"yes\",\"yes\",\"yes\",4,2,3,1,1,3,0,\"17\",\"17\",18\\n\"GP\",\"F\",16,\"U\",\"GT3\",\"T\",2,2,\"other\",\"other\",\"home\",\"mother\",1,2,0,\"no\",\"yes\",\"no\",\"no\",\"no\",\"yes\",\"yes\",\"no\",5,1,5,1,1,4,0,\"12\",\"12\",13\\n\"GP\",\"F\",16,\"U\",\"GT3\",\"T\",4,4,\"health\",\"health\",\"reputation\",\"mother\",1,2,0,\"no\",\"yes\",\"no\",\"no\",\"yes\",\"yes\",\"yes\",\"yes\",4,4,2,1,1,3,0,\"16\",\"16\",17\\n\"GP\",\"M\",16,\"U\",\"GT3\",\"T\",3,4,\"other\",\"other\",\"course\",\"father\",3,1,1,\"no\",\"yes\",\"no\",\"yes\",\"no\",\"yes\",\"yes\",\"no\",3,4,5,2,4,2,4,\"9\",\"9\",10\\n\"GP\",\"M\",16,\"U\",\"GT3\",\"T\",1,0,\"other\",\"other\",\"reputation\",\"mother\",2,2,0,\"no\",\"yes\",\"no\",\"yes\",\"yes\",\"yes\",\"yes\",\"yes\",4,3,2,1,1,3,0,\"16\",\"17\",18\\n\"GP\",\"M\",17,\"U\",\"LE3\",\"T\",4,4,\"teacher\",\"other\",\"reputation\",\"mother\",1,2,0,\"no\",\"yes\",\"no\",\"yes\",\"yes\",\"yes\",\"yes\",\"no\",4,4,4,1,3,5,0,\"11\",\"9\",10\\n\"GP\",\"F\",16,\"U\",\"GT3\",\"T\",1,3,\"at_home\",\"services\",\"home\",\"mother\",1,2,0,\"no\",\"no\",\"no\",\"yes\",\"no\",\"yes\",\"yes\",\"yes\",4,3,5,1,1,3,0,\"14\",\"13\",13\\n\"GP\",\"F\",16,\"U\",\"LE3\",\"T\",3,3,\"other\",\"other\",\"reputation\",\"mother\",2,2,0,\"no\",\"yes\",\"no\",\"yes\",\"yes\",\"yes\",\"yes\",\"no\",4,4,5,1,1,4,0,\"14\",\"14\",15\\n\"GP\",\"M\",17,\"U\",\"LE3\",\"T\",4,3,\"teacher\",\"other\",\"course\",\"mother\",2,2,0,\"no\",\"no\",\"no\",\"yes\",\"yes\",\"yes\",\"yes\",\"no\",4,4,4,4,4,4,0,\"10\",\"11\",11\\n\"GP\",\"F\",16,\"U\",\"GT3\",\"T\",2,2,\"services\",\"other\",\"reputation\",\"mother\",2,2,0,\"no\",\"no\",\"no\",\"yes\",\"no\",\"yes\",\"yes\",\"no\",3,4,4,1,4,5,0,\"13\",\"12\",14\\n\"GP\",\"M\",17,\"U\",\"GT3\",\"T\",3,3,\"other\",\"other\",\"reputation\",\"father\",1,2,0,\"no\",\"no\",\"no\",\"yes\",\"no\",\"yes\",\"yes\",\"no\",4,3,4,1,4,4,4,\"11\",\"9\",10\\n\"GP\",\"M\",16,\"R\",\"GT3\",\"T\",4,2,\"teacher\",\"services\",\"other\",\"mother\",1,1,0,\"no\",\"yes\",\"no\",\"yes\",\"yes\",\"yes\",\"yes\",\"yes\",4,3,3,3,4,3,8,\"10\",\"9\",11\\n\"GP\",\"M\",17,\"U\",\"GT3\",\"T\",4,3,\"other\",\"other\",\"course\",\"mother\",1,2,0,\"no\",\"yes\",\"yes\",\"yes\",\"yes\",\"yes\",\"yes\",\"yes\",5,2,3,1,1,2,4,\"11\",\"11\",13\\n\"GP\",\"M\",16,\"U\",\"GT3\",\"T\",4,3,\"teacher\",\"other\",\"home\",\"mother\",1,2,0,\"no\",\"yes\",\"yes\",\"yes\",\"yes\",\"yes\",\"yes\",\"no\",3,4,3,2,3,3,4,\"11\",\"10\",11\\n\"GP\",\"M\",16,\"U\",\"GT3\",\"T\",3,3,\"services\",\"other\",\"home\",\"mother\",1,2,0,\"no\",\"no\",\"no\",\"yes\",\"yes\",\"yes\",\"yes\",\"yes\",4,2,3,1,2,3,0,\"11\",\"12\",13\\n\"GP\",\"F\",17,\"U\",\"GT3\",\"T\",2,4,\"services\",\"services\",\"reputation\",\"father\",1,2,0,\"no\",\"yes\",\"no\",\"yes\",\"yes\",\"yes\",\"no\",\"no\",5,4,2,2,3,5,0,\"17\",\"18\",17\\n\"GP\",\"F\",17,\"U\",\"LE3\",\"T\",3,3,\"other\",\"other\",\"reputation\",\"mother\",1,2,0,\"no\",\"yes\",\"no\",\"yes\",\"yes\",\"yes\",\"yes\",\"yes\",5,3,3,2,3,1,32,\"14\",\"13\",14\\n\"GP\",\"F\",16,\"U\",\"GT3\",\"T\",3,2,\"other\",\"other\",\"reputation\",\"mother\",1,2,0,\"no\",\"yes\",\"no\",\"no\",\"yes\",\"yes\",\"yes\",\"no\",1,2,2,1,2,1,8,\"14\",\"15\",16\\n\"GP\",\"M\",17,\"U\",\"GT3\",\"T\",3,3,\"services\",\"services\",\"other\",\"mother\",1,2,0,\"no\",\"yes\",\"no\",\"yes\",\"yes\",\"yes\",\"yes\",\"yes\",4,3,4,2,3,4,6,\"11\",\"13\",14\\n\"GP\",\"M\",16,\"U\",\"GT3\",\"T\",1,2,\"services\",\"services\",\"other\",\"mother\",1,1,0,\"no\",\"yes\",\"no\",\"yes\",\"yes\",\"yes\",\"yes\",\"yes\",3,3,3,1,2,3,0,\"10\",\"9\",11\\n\"GP\",\"M\",16,\"U\",\"LE3\",\"T\",2,1,\"other\",\"other\",\"course\",\"mother\",1,2,0,\"no\",\"no\",\"no\",\"yes\",\"yes\",\"yes\",\"yes\",\"yes\",4,2,3,1,2,5,0,\"13\",\"14\",16\\n\"GP\",\"F\",17,\"U\",\"GT3\",\"A\",3,3,\"health\",\"other\",\"reputation\",\"mother\",1,2,0,\"no\",\"yes\",\"no\",\"no\",\"no\",\"yes\",\"yes\",\"yes\",3,3,3,1,3,3,10,\"12\",\"13\",14\\n\"GP\",\"M\",17,\"R\",\"GT3\",\"T\",1,2,\"at_home\",\"other\",\"home\",\"mother\",1,2,0,\"no\",\"no\",\"no\",\"no\",\"yes\",\"yes\",\"no\",\"no\",3,1,3,1,5,3,6,\"9\",\"9\",10\\n\"GP\",\"F\",16,\"U\",\"GT3\",\"T\",2,3,\"services\",\"services\",\"course\",\"mother\",1,2,0,\"no\",\"no\",\"no\",\"no\",\"yes\",\"yes\",\"yes\",\"no\",4,3,3,1,1,2,6,\"12\",\"12\",13\\n\"GP\",\"F\",17,\"U\",\"GT3\",\"T\",1,1,\"at_home\",\"services\",\"course\",\"mother\",1,2,0,\"no\",\"no\",\"no\",\"yes\",\"yes\",\"yes\",\"yes\",\"no\",5,3,3,1,1,3,0,\"12\",\"11\",12\\n\"GP\",\"M\",17,\"U\",\"GT3\",\"T\",1,2,\"at_home\",\"services\",\"other\",\"other\",2,2,0,\"no\",\"no\",\"no\",\"yes\",\"no\",\"yes\",\"yes\",\"no\",4,4,4,4,5,5,16,\"10\",\"11\",12\\n\"GP\",\"M\",16,\"R\",\"GT3\",\"T\",3,3,\"services\",\"services\",\"reputation\",\"mother\",1,1,0,\"no\",\"yes\",\"no\",\"yes\",\"yes\",\"yes\",\"yes\",\"no\",4,3,2,3,4,5,0,\"11\",\"10\",10\\n\"GP\",\"M\",16,\"U\",\"GT3\",\"T\",2,3,\"other\",\"other\",\"home\",\"father\",2,1,0,\"no\",\"no\",\"no\",\"no\",\"yes\",\"yes\",\"yes\",\"no\",5,3,3,1,1,3,0,\"13\",\"12\",12\\n\"GP\",\"F\",17,\"U\",\"LE3\",\"T\",2,4,\"services\",\"services\",\"course\",\"father\",1,2,0,\"no\",\"no\",\"no\",\"yes\",\"yes\",\"yes\",\"yes\",\"yes\",4,3,2,1,1,5,8,\"14\",\"15\",16\\n\"GP\",\"M\",17,\"U\",\"GT3\",\"T\",4,4,\"services\",\"teacher\",\"home\",\"mother\",1,1,0,\"no\",\"no\",\"no\",\"no\",\"yes\",\"yes\",\"yes\",\"no\",5,2,3,1,2,5,4,\"13\",\"13\",14\\n\"GP\",\"M\",16,\"R\",\"LE3\",\"T\",3,3,\"teacher\",\"other\",\"home\",\"father\",3,1,0,\"no\",\"yes\",\"no\",\"yes\",\"yes\",\"yes\",\"yes\",\"no\",3,3,4,3,5,3,16,\"10\",\"11\",12\\n\"GP\",\"F\",17,\"U\",\"GT3\",\"T\",4,4,\"services\",\"teacher\",\"home\",\"mother\",2,1,1,\"no\",\"yes\",\"no\",\"no\",\"yes\",\"yes\",\"yes\",\"no\",4,2,4,2,3,2,30,\"14\",\"15\",16\\n\"GP\",\"F\",16,\"U\",\"LE3\",\"T\",4,4,\"teacher\",\"teacher\",\"reputation\",\"mother\",1,2,0,\"no\",\"yes\",\"no\",\"no\",\"yes\",\"yes\",\"yes\",\"no\",4,5,2,1,2,3,0,\"11\",\"10\",11\\n\"GP\",\"F\",16,\"U\",\"GT3\",\"T\",4,3,\"health\",\"other\",\"home\",\"mother\",1,2,0,\"no\",\"yes\",\"no\",\"yes\",\"yes\",\"yes\",\"yes\",\"no\",4,3,5,1,5,2,2,\"14\",\"14\",15\\n\"GP\",\"F\",16,\"U\",\"GT3\",\"T\",2,3,\"other\",\"other\",\"reputation\",\"mother\",1,2,0,\"yes\",\"yes\",\"no\",\"yes\",\"yes\",\"yes\",\"no\",\"no\",4,4,3,1,3,4,4,\"11\",\"12\",12\\n\"GP\",\"F\",17,\"U\",\"GT3\",\"T\",1,1,\"other\",\"other\",\"course\",\"mother\",1,2,0,\"no\",\"yes\",\"no\",\"no\",\"no\",\"yes\",\"no\",\"no\",4,4,4,1,3,1,0,\"14\",\"15\",15\\n\"GP\",\"F\",17,\"R\",\"GT3\",\"T\",2,2,\"other\",\"other\",\"reputation\",\"mother\",1,1,0,\"no\",\"yes\",\"no\",\"no\",\"yes\",\"yes\",\"yes\",\"no\",5,3,2,1,2,3,21,\"13\",\"13\",13\\n\"GP\",\"F\",16,\"R\",\"GT3\",\"T\",2,2,\"services\",\"services\",\"reputation\",\"mother\",2,4,0,\"no\",\"yes\",\"no\",\"yes\",\"no\",\"yes\",\"yes\",\"no\",5,3,5,1,1,5,6,\"13\",\"13\",13\\n\"GP\",\"F\",17,\"U\",\"GT3\",\"T\",3,4,\"at_home\",\"services\",\"home\",\"mother\",1,3,1,\"no\",\"yes\",\"yes\",\"no\",\"yes\",\"yes\",\"yes\",\"yes\",4,4,3,3,4,5,14,\"8\",\"9\",8\\n\"GP\",\"F\",16,\"U\",\"GT3\",\"A\",3,1,\"services\",\"other\",\"course\",\"mother\",1,2,0,\"no\",\"yes\",\"no\",\"no\",\"yes\",\"yes\",\"yes\",\"no\",2,3,3,2,2,4,2,\"11\",\"11\",12\\n\"GP\",\"F\",16,\"U\",\"GT3\",\"T\",4,3,\"teacher\",\"other\",\"other\",\"mother\",1,2,0,\"no\",\"no\",\"no\",\"yes\",\"yes\",\"yes\",\"yes\",\"yes\",1,3,2,1,1,1,4,\"14\",\"15\",15\\n\"GP\",\"F\",16,\"U\",\"GT3\",\"T\",1,1,\"at_home\",\"other\",\"home\",\"mother\",2,1,0,\"no\",\"yes\",\"no\",\"no\",\"yes\",\"yes\",\"no\",\"no\",4,3,2,1,4,5,2,\"12\",\"13\",13\\n\"GP\",\"F\",17,\"R\",\"GT3\",\"T\",4,3,\"teacher\",\"other\",\"reputation\",\"mother\",2,3,0,\"no\",\"yes\",\"no\",\"yes\",\"yes\",\"yes\",\"yes\",\"yes\",4,4,2,1,1,4,0,\"11\",\"12\",12\\n\"GP\",\"F\",19,\"U\",\"GT3\",\"T\",3,3,\"other\",\"other\",\"reputation\",\"other\",1,4,0,\"no\",\"yes\",\"no\",\"yes\",\"yes\",\"yes\",\"yes\",\"no\",4,3,3,1,2,3,4,\"12\",\"12\",12\\n\"GP\",\"M\",17,\"U\",\"LE3\",\"T\",4,4,\"services\",\"other\",\"home\",\"mother\",1,2,0,\"no\",\"yes\",\"no\",\"no\",\"yes\",\"yes\",\"yes\",\"yes\",5,3,5,4,5,3,15,\"13\",\"12\",12\\n\"GP\",\"F\",16,\"U\",\"GT3\",\"A\",2,2,\"other\",\"other\",\"reputation\",\"mother\",1,2,0,\"yes\",\"yes\",\"no\",\"no\",\"yes\",\"yes\",\"yes\",\"no\",3,3,4,1,1,4,0,\"13\",\"13\",13\\n\"GP\",\"M\",18,\"U\",\"GT3\",\"T\",2,2,\"services\",\"other\",\"home\",\"mother\",1,2,0,\"no\",\"yes\",\"no\",\"yes\",\"yes\",\"yes\",\"yes\",\"no\",4,4,4,2,4,5,10,\"12\",\"11\",11\\n\"GP\",\"F\",17,\"R\",\"LE3\",\"T\",4,4,\"services\",\"other\",\"other\",\"mother\",1,1,0,\"no\",\"yes\",\"no\",\"no\",\"yes\",\"yes\",\"no\",\"no\",5,2,1,1,2,3,6,\"12\",\"11\",11\\n\"GP\",\"F\",17,\"U\",\"LE3\",\"T\",3,2,\"other\",\"other\",\"reputation\",\"mother\",2,2,0,\"no\",\"no\",\"no\",\"no\",\"yes\",\"yes\",\"yes\",\"no\",4,4,4,1,3,1,2,\"14\",\"16\",15\\n\"GP\",\"F\",17,\"U\",\"GT3\",\"T\",4,3,\"other\",\"other\",\"reputation\",\"mother\",1,2,0,\"no\",\"no\",\"no\",\"no\",\"yes\",\"yes\",\"yes\",\"yes\",3,4,5,2,4,1,16,\"11\",\"9\",10\\n\"GP\",\"M\",18,\"U\",\"LE3\",\"T\",3,3,\"services\",\"health\",\"home\",\"father\",1,2,0,\"no\",\"yes\",\"no\",\"no\",\"yes\",\"yes\",\"yes\",\"no\",3,2,4,2,4,4,10,\"10\",\"10\",10\\n\"GP\",\"F\",17,\"U\",\"GT3\",\"T\",2,3,\"at_home\",\"other\",\"home\",\"father\",2,1,0,\"no\",\"yes\",\"no\",\"no\",\"yes\",\"yes\",\"no\",\"no\",3,3,3,1,4,3,4,\"12\",\"13\",13\\n\"GP\",\"F\",17,\"U\",\"GT3\",\"T\",2,2,\"at_home\",\"at_home\",\"course\",\"mother\",1,3,0,\"no\",\"yes\",\"no\",\"yes\",\"yes\",\"yes\",\"yes\",\"no\",4,3,3,1,1,4,0,\"12\",\"12\",13\\n\"GP\",\"F\",17,\"R\",\"GT3\",\"T\",2,1,\"at_home\",\"services\",\"reputation\",\"mother\",2,2,0,\"no\",\"yes\",\"no\",\"yes\",\"yes\",\"yes\",\"yes\",\"no\",4,2,5,1,2,5,0,\"11\",\"10\",11\\n\"GP\",\"F\",17,\"U\",\"GT3\",\"T\",1,1,\"at_home\",\"other\",\"reputation\",\"mother\",1,3,0,\"no\",\"yes\",\"no\",\"yes\",\"yes\",\"yes\",\"no\",\"yes\",4,3,4,1,1,5,12,\"12\",\"12\",12\\n\"GP\",\"F\",16,\"U\",\"GT3\",\"T\",2,3,\"services\",\"teacher\",\"other\",\"mother\",1,2,0,\"yes\",\"no\",\"no\",\"no\",\"yes\",\"yes\",\"yes\",\"no\",2,3,1,1,1,3,0,\"13\",\"13\",14\\n\"GP\",\"M\",18,\"U\",\"GT3\",\"T\",2,2,\"other\",\"other\",\"home\",\"mother\",2,2,3,\"no\",\"yes\",\"yes\",\"no\",\"yes\",\"yes\",\"yes\",\"no\",3,3,3,5,5,4,9,\"10\",\"9\",10\\n\"GP\",\"F\",16,\"U\",\"GT3\",\"T\",4,4,\"teacher\",\"services\",\"home\",\"mother\",1,3,0,\"no\",\"yes\",\"no\",\"yes\",\"no\",\"yes\",\"yes\",\"no\",5,3,2,1,1,5,4,\"15\",\"16\",16\\n\"GP\",\"F\",18,\"R\",\"GT3\",\"T\",3,1,\"other\",\"other\",\"reputation\",\"mother\",1,2,0,\"no\",\"no\",\"no\",\"yes\",\"yes\",\"yes\",\"yes\",\"yes\",5,3,3,1,1,4,4,\"8\",\"8\",8\\n\"GP\",\"F\",17,\"U\",\"GT3\",\"T\",3,2,\"other\",\"other\",\"course\",\"mother\",1,2,0,\"no\",\"no\",\"no\",\"yes\",\"no\",\"yes\",\"yes\",\"no\",5,3,4,1,3,3,2,\"17\",\"18\",17\\n\"GP\",\"M\",17,\"U\",\"LE3\",\"T\",2,3,\"services\",\"services\",\"reputation\",\"father\",1,2,0,\"no\",\"yes\",\"no\",\"no\",\"no\",\"yes\",\"yes\",\"no\",5,3,3,1,3,3,0,\"10\",\"11\",11\\n\"GP\",\"M\",18,\"U\",\"LE3\",\"T\",2,1,\"at_home\",\"other\",\"course\",\"mother\",4,2,0,\"yes\",\"yes\",\"no\",\"yes\",\"yes\",\"yes\",\"yes\",\"yes\",4,3,2,4,5,3,2,\"9\",\"10\",11\\n\"GP\",\"F\",17,\"U\",\"GT3\",\"A\",2,1,\"other\",\"other\",\"course\",\"mother\",2,3,0,\"no\",\"no\",\"no\",\"yes\",\"yes\",\"yes\",\"yes\",\"yes\",3,2,3,1,2,3,0,\"15\",\"15\",16\\n\"GP\",\"F\",17,\"U\",\"LE3\",\"T\",4,3,\"health\",\"other\",\"reputation\",\"father\",1,2,0,\"no\",\"no\",\"no\",\"yes\",\"yes\",\"yes\",\"yes\",\"yes\",3,2,3,1,2,3,0,\"14\",\"12\",12\\n\"GP\",\"M\",17,\"R\",\"GT3\",\"T\",2,2,\"other\",\"other\",\"course\",\"father\",2,2,0,\"no\",\"yes\",\"no\",\"yes\",\"yes\",\"yes\",\"yes\",\"no\",4,5,2,1,1,1,0,\"12\",\"13\",13\\n\"GP\",\"M\",17,\"U\",\"GT3\",\"T\",4,4,\"teacher\",\"teacher\",\"reputation\",\"mother\",1,2,0,\"yes\",\"yes\",\"no\",\"yes\",\"yes\",\"yes\",\"yes\",\"yes\",4,5,5,1,3,2,0,\"13\",\"13\",13\\n\"GP\",\"M\",16,\"U\",\"GT3\",\"T\",4,4,\"health\",\"other\",\"reputation\",\"father\",1,2,0,\"no\",\"yes\",\"no\",\"yes\",\"yes\",\"yes\",\"yes\",\"no\",4,2,4,2,4,1,0,\"13\",\"13\",14\\n\"GP\",\"M\",16,\"U\",\"LE3\",\"T\",1,1,\"other\",\"other\",\"home\",\"mother\",2,2,0,\"no\",\"yes\",\"no\",\"no\",\"yes\",\"yes\",\"yes\",\"no\",3,4,2,1,1,5,2,\"9\",\"9\",9\\n\"GP\",\"M\",16,\"U\",\"GT3\",\"T\",3,2,\"at_home\",\"other\",\"reputation\",\"mother\",2,3,0,\"no\",\"no\",\"no\",\"yes\",\"yes\",\"yes\",\"yes\",\"yes\",5,3,3,1,3,2,0,\"12\",\"12\",12\\n\"GP\",\"M\",17,\"U\",\"LE3\",\"T\",2,2,\"other\",\"other\",\"home\",\"father\",1,2,0,\"no\",\"no\",\"no\",\"yes\",\"no\",\"yes\",\"yes\",\"yes\",4,4,2,5,5,4,0,\"16\",\"16\",16\\n\"GP\",\"F\",16,\"U\",\"GT3\",\"T\",2,1,\"other\",\"other\",\"home\",\"mother\",1,1,0,\"no\",\"no\",\"no\",\"no\",\"yes\",\"yes\",\"yes\",\"yes\",4,5,2,1,1,5,4,\"9\",\"10\",10\\n\"GP\",\"F\",16,\"U\",\"GT3\",\"A\",4,1,\"other\",\"other\",\"home\",\"mother\",1,2,0,\"no\",\"no\",\"no\",\"yes\",\"yes\",\"yes\",\"yes\",\"yes\",5,3,3,1,2,5,0,\"14\",\"13\",13\\n\"GP\",\"F\",18,\"U\",\"LE3\",\"A\",2,4,\"services\",\"other\",\"course\",\"mother\",2,2,1,\"no\",\"yes\",\"no\",\"no\",\"yes\",\"yes\",\"yes\",\"no\",4,3,3,1,1,3,18,\"10\",\"10\",10\\n\"GP\",\"F\",18,\"U\",\"LE3\",\"T\",2,2,\"at_home\",\"services\",\"course\",\"mother\",1,2,1,\"no\",\"yes\",\"no\",\"no\",\"no\",\"yes\",\"yes\",\"yes\",5,3,1,1,1,5,16,\"9\",\"8\",10\\n\"GP\",\"F\",18,\"U\",\"GT3\",\"T\",3,3,\"other\",\"other\",\"course\",\"mother\",2,1,1,\"no\",\"no\",\"no\",\"no\",\"yes\",\"no\",\"yes\",\"no\",4,1,1,1,1,3,14,\"8\",\"7\",7\\n\"GP\",\"M\",18,\"U\",\"GT3\",\"T\",2,2,\"other\",\"at_home\",\"course\",\"other\",1,1,1,\"no\",\"yes\",\"no\",\"yes\",\"no\",\"no\",\"yes\",\"yes\",4,4,3,2,2,1,26,\"7\",\"8\",8\\n\"GP\",\"M\",17,\"U\",\"GT3\",\"T\",4,4,\"teacher\",\"teacher\",\"course\",\"mother\",1,1,0,\"no\",\"yes\",\"no\",\"yes\",\"no\",\"yes\",\"yes\",\"no\",4,2,1,1,2,5,6,\"10\",\"8\",9\\n\"GP\",\"F\",17,\"U\",\"GT3\",\"T\",3,2,\"other\",\"other\",\"course\",\"father\",1,2,0,\"no\",\"no\",\"no\",\"yes\",\"yes\",\"yes\",\"no\",\"no\",5,4,2,1,1,3,4,\"14\",\"14\",15\\n\"GP\",\"F\",17,\"U\",\"LE3\",\"T\",1,1,\"at_home\",\"at_home\",\"course\",\"mother\",1,3,0,\"no\",\"yes\",\"no\",\"yes\",\"yes\",\"yes\",\"yes\",\"yes\",4,3,2,1,2,4,10,\"11\",\"10\",10\\n\"GP\",\"F\",16,\"U\",\"GT3\",\"T\",1,2,\"other\",\"other\",\"course\",\"mother\",1,1,0,\"no\",\"no\",\"no\",\"no\",\"yes\",\"no\",\"yes\",\"no\",5,3,5,1,2,5,4,\"12\",\"11\",11\\n\"GP\",\"F\",17,\"R\",\"GT3\",\"T\",2,1,\"at_home\",\"services\",\"course\",\"mother\",3,2,0,\"no\",\"no\",\"no\",\"yes\",\"yes\",\"yes\",\"no\",\"no\",2,1,1,1,1,3,2,\"13\",\"13\",13\\n\"GP\",\"F\",17,\"R\",\"LE3\",\"A\",1,4,\"other\",\"other\",\"course\",\"other\",4,1,1,\"no\",\"yes\",\"no\",\"no\",\"yes\",\"yes\",\"yes\",\"no\",5,5,4,1,1,5,14,\"9\",\"9\",8\\n\"GP\",\"M\",18,\"U\",\"GT3\",\"T\",2,2,\"other\",\"services\",\"reputation\",\"father\",1,2,0,\"no\",\"no\",\"no\",\"no\",\"yes\",\"no\",\"yes\",\"no\",5,5,4,3,5,2,16,\"8\",\"7\",8\\n\"GP\",\"F\",17,\"U\",\"LE3\",\"A\",2,2,\"other\",\"other\",\"home\",\"mother\",1,1,1,\"no\",\"yes\",\"no\",\"no\",\"no\",\"no\",\"yes\",\"no\",3,1,2,1,1,1,8,\"11\",\"9\",10\\n\"GP\",\"F\",17,\"R\",\"LE3\",\"T\",1,1,\"at_home\",\"other\",\"course\",\"mother\",2,3,0,\"no\",\"no\",\"no\",\"yes\",\"yes\",\"yes\",\"yes\",\"no\",4,3,3,1,3,5,4,\"15\",\"14\",15\\n\"GP\",\"F\",17,\"U\",\"LE3\",\"A\",4,2,\"teacher\",\"other\",\"course\",\"mother\",1,2,0,\"no\",\"yes\",\"no\",\"yes\",\"yes\",\"yes\",\"no\",\"no\",4,3,2,1,1,4,4,\"15\",\"14\",14\\n\"GP\",\"M\",17,\"U\",\"LE3\",\"T\",4,3,\"health\",\"other\",\"course\",\"mother\",2,2,0,\"no\",\"no\",\"no\",\"yes\",\"yes\",\"yes\",\"yes\",\"yes\",2,5,5,1,4,5,8,\"15\",\"15\",15\\n\"GP\",\"M\",17,\"R\",\"LE3\",\"A\",4,4,\"teacher\",\"other\",\"course\",\"mother\",2,2,0,\"no\",\"yes\",\"no\",\"no\",\"yes\",\"yes\",\"yes\",\"no\",3,3,3,2,3,4,0,\"12\",\"12\",12\\n\"GP\",\"M\",16,\"U\",\"LE3\",\"T\",4,3,\"teacher\",\"other\",\"course\",\"mother\",1,1,0,\"no\",\"no\",\"no\",\"yes\",\"no\",\"yes\",\"yes\",\"no\",5,4,5,1,1,3,7,\"14\",\"14\",15\\n\"GP\",\"M\",16,\"U\",\"GT3\",\"T\",4,4,\"services\",\"services\",\"course\",\"mother\",1,1,0,\"no\",\"no\",\"yes\",\"yes\",\"yes\",\"yes\",\"yes\",\"no\",5,3,2,1,2,5,4,\"14\",\"15\",15\\n\"GP\",\"F\",17,\"U\",\"GT3\",\"T\",4,4,\"teacher\",\"services\",\"course\",\"mother\",1,2,0,\"no\",\"yes\",\"yes\",\"no\",\"yes\",\"yes\",\"yes\",\"yes\",5,3,1,1,4,5,2,\"11\",\"11\",12\\n\"GP\",\"M\",17,\"R\",\"GT3\",\"T\",1,1,\"other\",\"other\",\"home\",\"father\",2,3,0,\"no\",\"no\",\"no\",\"no\",\"no\",\"yes\",\"yes\",\"yes\",4,3,3,1,1,1,2,\"13\",\"14\",15\\n\"GP\",\"F\",17,\"U\",\"GT3\",\"T\",3,3,\"services\",\"other\",\"home\",\"mother\",2,3,0,\"no\",\"yes\",\"no\",\"no\",\"yes\",\"yes\",\"yes\",\"yes\",4,2,2,2,3,5,10,\"11\",\"11\",11\\n\"GP\",\"F\",17,\"U\",\"GT3\",\"T\",1,1,\"at_home\",\"other\",\"course\",\"mother\",1,2,0,\"yes\",\"no\",\"no\",\"no\",\"no\",\"yes\",\"no\",\"yes\",4,3,2,1,1,4,10,\"10\",\"9\",10\\n\"GP\",\"F\",18,\"U\",\"GT3\",\"T\",2,1,\"other\",\"other\",\"course\",\"other\",2,3,0,\"no\",\"yes\",\"no\",\"no\",\"no\",\"yes\",\"yes\",\"yes\",4,4,4,1,1,3,10,\"12\",\"10\",11\\n\"GP\",\"M\",16,\"U\",\"GT3\",\"T\",2,1,\"other\",\"other\",\"course\",\"mother\",3,1,0,\"no\",\"no\",\"no\",\"no\",\"yes\",\"yes\",\"yes\",\"no\",4,3,3,1,1,4,7,\"15\",\"16\",16\\n\"GP\",\"F\",17,\"U\",\"GT3\",\"T\",1,1,\"other\",\"services\",\"course\",\"father\",1,2,0,\"no\",\"yes\",\"no\",\"no\",\"yes\",\"yes\",\"no\",\"no\",4,3,4,1,2,5,4,\"11\",\"10\",11\\n\"GP\",\"M\",17,\"U\",\"GT3\",\"T\",2,3,\"other\",\"other\",\"course\",\"father\",2,1,0,\"no\",\"no\",\"no\",\"no\",\"yes\",\"yes\",\"yes\",\"no\",5,2,2,1,1,2,2,\"9\",\"12\",13\\n\"GP\",\"M\",22,\"U\",\"GT3\",\"T\",3,1,\"services\",\"services\",\"other\",\"mother\",1,1,3,\"no\",\"no\",\"no\",\"no\",\"no\",\"no\",\"yes\",\"yes\",5,4,5,5,5,1,12,\"7\",\"8\",5\\n\"GP\",\"M\",18,\"R\",\"LE3\",\"T\",3,3,\"other\",\"services\",\"course\",\"mother\",1,2,0,\"no\",\"yes\",\"no\",\"no\",\"yes\",\"yes\",\"yes\",\"yes\",4,3,3,1,3,5,8,\"10\",\"9\",10\\n\"GP\",\"M\",16,\"U\",\"GT3\",\"T\",0,2,\"other\",\"other\",\"other\",\"mother\",1,1,0,\"no\",\"no\",\"no\",\"no\",\"no\",\"yes\",\"yes\",\"no\",4,3,2,2,4,5,0,\"11\",\"12\",11\\n\"GP\",\"M\",18,\"U\",\"GT3\",\"T\",3,2,\"services\",\"other\",\"course\",\"mother\",2,1,0,\"no\",\"no\",\"no\",\"no\",\"yes\",\"no\",\"yes\",\"no\",4,4,5,2,4,5,8,\"7\",\"8\",7\\n\"GP\",\"M\",16,\"U\",\"GT3\",\"T\",3,3,\"at_home\",\"other\",\"reputation\",\"other\",3,2,1,\"yes\",\"yes\",\"no\",\"no\",\"no\",\"yes\",\"yes\",\"no\",5,3,3,1,3,2,4,\"9\",\"11\",10\\n\"GP\",\"M\",18,\"U\",\"GT3\",\"T\",2,1,\"services\",\"services\",\"other\",\"mother\",1,1,2,\"no\",\"no\",\"no\",\"no\",\"no\",\"no\",\"yes\",\"no\",3,2,5,2,5,5,4,\"7\",\"8\",6\\n\"GP\",\"M\",16,\"R\",\"GT3\",\"T\",2,1,\"other\",\"other\",\"course\",\"mother\",2,1,0,\"no\",\"no\",\"no\",\"yes\",\"no\",\"yes\",\"no\",\"no\",3,3,2,1,3,3,2,\"14\",\"13\",12\\n\"GP\",\"M\",17,\"R\",\"GT3\",\"T\",2,1,\"other\",\"other\",\"course\",\"mother\",1,1,0,\"no\",\"no\",\"no\",\"no\",\"no\",\"yes\",\"yes\",\"no\",4,4,2,2,4,5,0,\"12\",\"12\",13\\n\"GP\",\"M\",17,\"U\",\"LE3\",\"T\",1,1,\"health\",\"other\",\"course\",\"mother\",2,1,1,\"no\",\"yes\",\"no\",\"yes\",\"yes\",\"yes\",\"yes\",\"no\",4,4,4,1,2,5,0,\"9\",\"10\",10\\n\"GP\",\"F\",18,\"U\",\"LE3\",\"A\",2,1,\"other\",\"other\",\"course\",\"mother\",1,2,0,\"no\",\"yes\",\"no\",\"no\",\"no\",\"yes\",\"yes\",\"yes\",4,3,4,1,3,5,2,\"12\",\"12\",13\\n\"GP\",\"F\",17,\"U\",\"LE3\",\"T\",4,2,\"teacher\",\"services\",\"reputation\",\"mother\",1,4,0,\"no\",\"yes\",\"no\",\"yes\",\"yes\",\"yes\",\"yes\",\"no\",4,2,3,1,1,4,2,\"14\",\"15\",17\\n\"GP\",\"F\",19,\"U\",\"GT3\",\"T\",2,2,\"services\",\"services\",\"home\",\"mother\",1,2,0,\"no\",\"yes\",\"no\",\"no\",\"yes\",\"yes\",\"yes\",\"no\",4,3,3,1,1,5,0,\"10\",\"10\",11\\n\"GP\",\"M\",18,\"U\",\"LE3\",\"T\",2,1,\"services\",\"other\",\"course\",\"mother\",3,2,1,\"no\",\"no\",\"no\",\"yes\",\"no\",\"no\",\"yes\",\"no\",4,4,5,4,4,5,4,\"11\",\"10\",11\\n\"GP\",\"F\",17,\"R\",\"GT3\",\"T\",4,2,\"other\",\"other\",\"course\",\"mother\",1,3,0,\"no\",\"yes\",\"no\",\"yes\",\"yes\",\"yes\",\"yes\",\"no\",4,3,4,1,3,5,2,\"11\",\"12\",14\\n\"GP\",\"F\",18,\"U\",\"LE3\",\"T\",1,1,\"other\",\"at_home\",\"home\",\"mother\",1,3,0,\"no\",\"yes\",\"no\",\"no\",\"no\",\"yes\",\"no\",\"no\",4,4,3,2,3,3,4,\"11\",\"12\",14\\n\"GP\",\"F\",18,\"R\",\"GT3\",\"T\",2,2,\"other\",\"other\",\"home\",\"mother\",1,2,0,\"yes\",\"no\",\"no\",\"no\",\"yes\",\"yes\",\"no\",\"no\",3,2,3,1,1,5,4,\"11\",\"11\",13\\n\"GP\",\"M\",19,\"U\",\"LE3\",\"A\",4,3,\"services\",\"at_home\",\"reputation\",\"mother\",1,2,0,\"no\",\"yes\",\"no\",\"no\",\"yes\",\"yes\",\"yes\",\"no\",4,3,1,1,1,1,4,\"11\",\"13\",14\\n\"GP\",\"M\",18,\"U\",\"GT3\",\"T\",2,1,\"other\",\"other\",\"home\",\"mother\",1,2,0,\"no\",\"no\",\"no\",\"yes\",\"yes\",\"yes\",\"yes\",\"no\",5,2,4,1,2,4,2,\"16\",\"16\",16\\n\"GP\",\"M\",17,\"R\",\"GT3\",\"T\",2,2,\"other\",\"services\",\"other\",\"mother\",2,1,0,\"no\",\"no\",\"no\",\"no\",\"no\",\"no\",\"no\",\"no\",5,2,2,1,1,4,0,\"9\",\"10\",10\\n\"GP\",\"F\",17,\"U\",\"LE3\",\"T\",2,2,\"services\",\"services\",\"course\",\"father\",1,4,0,\"no\",\"no\",\"no\",\"yes\",\"yes\",\"yes\",\"yes\",\"yes\",3,4,1,1,1,2,2,\"10\",\"11\",12\\n\"GP\",\"F\",20,\"R\",\"GT3\",\"T\",2,1,\"other\",\"other\",\"course\",\"other\",2,2,0,\"no\",\"yes\",\"yes\",\"yes\",\"yes\",\"no\",\"yes\",\"yes\",1,2,3,1,2,2,8,\"10\",\"12\",12\\n\"GP\",\"F\",18,\"U\",\"GT3\",\"T\",4,3,\"services\",\"other\",\"home\",\"father\",1,2,0,\"no\",\"yes\",\"no\",\"no\",\"yes\",\"yes\",\"yes\",\"yes\",3,1,2,1,3,2,2,\"15\",\"15\",15\\n\"GP\",\"M\",18,\"U\",\"GT3\",\"T\",4,3,\"teacher\",\"other\",\"course\",\"mother\",1,2,0,\"no\",\"yes\",\"no\",\"no\",\"no\",\"yes\",\"yes\",\"no\",4,3,2,1,1,3,2,\"10\",\"10\",11\\n\"GP\",\"M\",18,\"R\",\"GT3\",\"T\",3,2,\"other\",\"other\",\"course\",\"mother\",1,3,0,\"no\",\"no\",\"no\",\"yes\",\"no\",\"yes\",\"no\",\"no\",5,3,2,1,1,3,2,\"10\",\"11\",12\\n\"GP\",\"F\",17,\"U\",\"GT3\",\"T\",3,3,\"other\",\"other\",\"home\",\"mother\",1,3,0,\"no\",\"no\",\"no\",\"yes\",\"no\",\"yes\",\"no\",\"no\",3,2,3,1,1,4,2,\"15\",\"12\",13\\n\"GP\",\"F\",18,\"U\",\"GT3\",\"T\",2,2,\"at_home\",\"services\",\"home\",\"mother\",1,3,0,\"no\",\"yes\",\"no\",\"yes\",\"yes\",\"yes\",\"yes\",\"yes\",4,3,3,1,1,3,0,\"11\",\"12\",13\\n\"GP\",\"M\",17,\"U\",\"GT3\",\"T\",2,2,\"other\",\"other\",\"home\",\"father\",2,1,0,\"no\",\"no\",\"no\",\"no\",\"yes\",\"no\",\"yes\",\"no\",4,4,4,2,3,4,8,\"8\",\"8\",9\\n\"GP\",\"M\",18,\"R\",\"LE3\",\"A\",3,4,\"other\",\"other\",\"reputation\",\"mother\",2,2,0,\"no\",\"yes\",\"no\",\"yes\",\"yes\",\"yes\",\"yes\",\"no\",4,2,5,3,4,1,6,\"15\",\"16\",16\\n\"GP\",\"M\",17,\"U\",\"GT3\",\"T\",3,1,\"services\",\"other\",\"other\",\"mother\",1,2,0,\"no\",\"no\",\"no\",\"yes\",\"yes\",\"yes\",\"yes\",\"yes\",5,4,4,3,4,5,0,\"11\",\"11\",14\\n\"GP\",\"F\",18,\"R\",\"GT3\",\"T\",4,4,\"teacher\",\"other\",\"reputation\",\"mother\",2,2,0,\"no\",\"no\",\"no\",\"yes\",\"yes\",\"yes\",\"yes\",\"no\",4,3,4,2,2,4,8,\"10\",\"11\",12\\n\"GP\",\"M\",18,\"U\",\"GT3\",\"T\",4,2,\"health\",\"other\",\"reputation\",\"father\",1,2,0,\"no\",\"yes\",\"no\",\"yes\",\"yes\",\"yes\",\"yes\",\"yes\",5,4,5,1,3,5,4,\"10\",\"12\",14\\n\"GP\",\"F\",18,\"R\",\"GT3\",\"T\",2,1,\"other\",\"other\",\"reputation\",\"mother\",2,2,0,\"no\",\"yes\",\"no\",\"no\",\"yes\",\"no\",\"yes\",\"yes\",4,3,5,1,2,3,12,\"8\",\"9\",10\\n\"GP\",\"F\",19,\"U\",\"GT3\",\"T\",3,3,\"other\",\"services\",\"home\",\"other\",1,2,0,\"no\",\"yes\",\"no\",\"yes\",\"yes\",\"yes\",\"yes\",\"no\",4,3,5,3,3,5,16,\"11\",\"12\",12\\n\"GP\",\"F\",18,\"U\",\"GT3\",\"T\",2,3,\"other\",\"services\",\"reputation\",\"father\",1,4,0,\"no\",\"yes\",\"no\",\"yes\",\"yes\",\"yes\",\"yes\",\"yes\",4,5,5,1,3,2,10,\"16\",\"16\",16\\n\"GP\",\"F\",18,\"U\",\"LE3\",\"T\",1,1,\"other\",\"other\",\"home\",\"mother\",2,2,0,\"no\",\"yes\",\"no\",\"no\",\"no\",\"yes\",\"no\",\"no\",4,4,3,1,1,3,2,\"13\",\"13\",13\\n\"GP\",\"M\",17,\"R\",\"GT3\",\"T\",1,2,\"at_home\",\"at_home\",\"home\",\"mother\",1,2,0,\"no\",\"yes\",\"no\",\"yes\",\"no\",\"yes\",\"no\",\"yes\",3,5,2,2,2,1,2,\"16\",\"17\",18\\n\"GP\",\"F\",18,\"U\",\"GT3\",\"T\",2,1,\"other\",\"other\",\"home\",\"mother\",1,2,0,\"no\",\"yes\",\"no\",\"no\",\"yes\",\"yes\",\"yes\",\"yes\",4,2,5,1,2,1,8,\"14\",\"14\",15\\n\"GP\",\"F\",17,\"U\",\"GT3\",\"T\",2,4,\"at_home\",\"health\",\"reputation\",\"mother\",2,2,0,\"no\",\"yes\",\"no\",\"no\",\"yes\",\"yes\",\"yes\",\"yes\",4,3,3,1,1,1,6,\"15\",\"16\",16\\n\"GP\",\"F\",17,\"U\",\"LE3\",\"T\",2,2,\"services\",\"other\",\"course\",\"mother\",2,2,0,\"yes\",\"yes\",\"no\",\"no\",\"yes\",\"yes\",\"yes\",\"yes\",4,4,4,2,3,5,6,\"12\",\"12\",12\\n\"GP\",\"F\",18,\"R\",\"GT3\",\"A\",3,2,\"other\",\"services\",\"home\",\"mother\",2,2,0,\"no\",\"no\",\"no\",\"no\",\"no\",\"no\",\"yes\",\"yes\",4,1,1,1,1,5,15,\"12\",\"9\",10\\n\"GP\",\"M\",18,\"U\",\"GT3\",\"T\",4,4,\"teacher\",\"services\",\"home\",\"mother\",2,1,0,\"no\",\"no\",\"no\",\"yes\",\"yes\",\"yes\",\"yes\",\"no\",3,2,4,1,4,3,6,\"11\",\"12\",12\\n\"GP\",\"F\",18,\"U\",\"GT3\",\"T\",4,4,\"health\",\"health\",\"reputation\",\"father\",1,2,1,\"yes\",\"yes\",\"no\",\"yes\",\"yes\",\"yes\",\"yes\",\"yes\",2,4,4,1,1,4,2,\"14\",\"12\",13\\n\"GP\",\"F\",17,\"U\",\"GT3\",\"T\",2,2,\"other\",\"services\",\"reputation\",\"father\",3,3,0,\"no\",\"yes\",\"no\",\"no\",\"yes\",\"yes\",\"yes\",\"yes\",4,2,3,1,1,1,8,\"13\",\"15\",15\\n\"GP\",\"F\",19,\"R\",\"GT3\",\"T\",3,2,\"services\",\"services\",\"reputation\",\"father\",1,2,1,\"yes\",\"yes\",\"no\",\"no\",\"yes\",\"no\",\"yes\",\"no\",3,3,3,4,3,3,0,\"9\",\"8\",10\\n\"GP\",\"M\",18,\"U\",\"LE3\",\"T\",4,3,\"teacher\",\"services\",\"course\",\"mother\",2,1,0,\"no\",\"no\",\"no\",\"yes\",\"yes\",\"yes\",\"yes\",\"no\",4,2,3,1,2,1,0,\"10\",\"10\",10\\n\"GP\",\"M\",18,\"U\",\"GT3\",\"T\",1,2,\"at_home\",\"other\",\"home\",\"other\",2,1,0,\"no\",\"no\",\"no\",\"no\",\"no\",\"no\",\"yes\",\"no\",3,4,4,2,4,4,10,\"10\",\"10\",11\\n\"GP\",\"M\",17,\"U\",\"LE3\",\"A\",4,1,\"services\",\"other\",\"home\",\"mother\",2,1,0,\"no\",\"no\",\"no\",\"yes\",\"yes\",\"yes\",\"yes\",\"yes\",4,5,4,2,4,5,22,\"11\",\"11\",10\\n\"GP\",\"M\",17,\"U\",\"LE3\",\"A\",3,2,\"teacher\",\"services\",\"home\",\"mother\",1,1,0,\"no\",\"no\",\"no\",\"no\",\"yes\",\"yes\",\"yes\",\"no\",4,4,4,3,4,3,18,\"13\",\"13\",13\\n\"GP\",\"F\",18,\"R\",\"LE3\",\"T\",1,1,\"at_home\",\"other\",\"reputation\",\"mother\",2,4,0,\"no\",\"yes\",\"no\",\"yes\",\"yes\",\"yes\",\"no\",\"no\",5,2,2,1,1,3,2,\"17\",\"17\",18\\n\"GP\",\"F\",18,\"U\",\"GT3\",\"T\",1,1,\"other\",\"other\",\"home\",\"mother\",2,2,0,\"yes\",\"no\",\"no\",\"yes\",\"yes\",\"yes\",\"yes\",\"no\",5,4,4,1,1,4,0,\"12\",\"13\",13\\n\"GP\",\"F\",17,\"U\",\"GT3\",\"T\",2,2,\"other\",\"other\",\"course\",\"mother\",1,2,0,\"no\",\"yes\",\"no\",\"no\",\"no\",\"yes\",\"yes\",\"no\",5,4,5,1,2,5,12,\"12\",\"12\",14\\n\"GP\",\"F\",18,\"U\",\"GT3\",\"T\",2,1,\"other\",\"other\",\"reputation\",\"mother\",2,2,0,\"no\",\"no\",\"no\",\"yes\",\"yes\",\"yes\",\"yes\",\"yes\",4,3,1,1,1,5,10,\"12\",\"13\",14\\n\"GP\",\"M\",17,\"U\",\"GT3\",\"T\",1,1,\"other\",\"other\",\"reputation\",\"father\",1,2,0,\"no\",\"no\",\"no\",\"no\",\"no\",\"yes\",\"yes\",\"no\",4,3,3,1,2,4,0,\"12\",\"12\",12\\n\"GP\",\"F\",18,\"U\",\"GT3\",\"T\",2,2,\"at_home\",\"at_home\",\"other\",\"mother\",1,3,0,\"no\",\"yes\",\"no\",\"no\",\"yes\",\"yes\",\"yes\",\"no\",4,3,3,1,2,2,0,\"18\",\"18\",18\\n\"GP\",\"F\",17,\"U\",\"GT3\",\"T\",1,1,\"services\",\"teacher\",\"reputation\",\"mother\",1,3,0,\"no\",\"yes\",\"no\",\"no\",\"yes\",\"yes\",\"yes\",\"no\",4,3,3,1,1,3,0,\"13\",\"13\",14\\n\"GP\",\"M\",18,\"U\",\"GT3\",\"T\",2,1,\"services\",\"services\",\"reputation\",\"mother\",1,3,0,\"no\",\"no\",\"no\",\"yes\",\"yes\",\"yes\",\"yes\",\"no\",4,2,4,1,3,2,0,\"14\",\"15\",15\\n\"GP\",\"M\",18,\"U\",\"LE3\",\"A\",4,4,\"teacher\",\"teacher\",\"reputation\",\"mother\",1,2,0,\"no\",\"yes\",\"no\",\"yes\",\"yes\",\"yes\",\"yes\",\"no\",5,4,3,1,1,2,0,\"17\",\"17\",17\\n\"GP\",\"M\",18,\"U\",\"GT3\",\"T\",4,2,\"teacher\",\"other\",\"home\",\"mother\",1,2,0,\"no\",\"yes\",\"no\",\"yes\",\"yes\",\"yes\",\"yes\",\"yes\",4,3,2,1,4,5,2,\"15\",\"16\",16\\n\"GP\",\"F\",17,\"U\",\"GT3\",\"T\",4,3,\"health\",\"services\",\"reputation\",\"mother\",1,3,0,\"no\",\"yes\",\"no\",\"no\",\"yes\",\"yes\",\"yes\",\"no\",4,2,2,1,2,3,0,\"17\",\"18\",18\\n\"GP\",\"F\",17,\"R\",\"LE3\",\"T\",3,1,\"services\",\"other\",\"reputation\",\"mother\",2,4,0,\"no\",\"yes\",\"no\",\"no\",\"yes\",\"yes\",\"no\",\"no\",3,1,2,1,1,3,0,\"18\",\"19\",19\\n\"GP\",\"M\",18,\"R\",\"LE3\",\"T\",3,2,\"services\",\"other\",\"reputation\",\"mother\",2,3,0,\"no\",\"yes\",\"no\",\"yes\",\"yes\",\"yes\",\"yes\",\"no\",5,4,2,1,1,4,0,\"14\",\"15\",15\\n\"GP\",\"M\",17,\"U\",\"GT3\",\"T\",3,3,\"health\",\"other\",\"home\",\"mother\",1,1,0,\"no\",\"yes\",\"no\",\"no\",\"yes\",\"yes\",\"yes\",\"no\",4,4,3,1,3,5,0,\"14\",\"15\",15\\n\"GP\",\"F\",19,\"U\",\"GT3\",\"T\",4,4,\"health\",\"other\",\"reputation\",\"other\",2,2,0,\"no\",\"yes\",\"no\",\"yes\",\"yes\",\"yes\",\"yes\",\"no\",2,3,4,2,3,2,2,\"14\",\"13\",13\\n\"GP\",\"F\",18,\"U\",\"LE3\",\"T\",4,3,\"other\",\"other\",\"home\",\"other\",2,2,0,\"no\",\"yes\",\"no\",\"no\",\"yes\",\"yes\",\"yes\",\"yes\",4,4,5,1,2,2,0,\"13\",\"14\",14\\n\"GP\",\"F\",18,\"U\",\"GT3\",\"T\",4,3,\"other\",\"other\",\"reputation\",\"father\",1,4,0,\"no\",\"yes\",\"no\",\"no\",\"yes\",\"yes\",\"yes\",\"no\",4,3,3,1,1,3,0,\"16\",\"17\",17\\n\"GP\",\"M\",18,\"U\",\"LE3\",\"T\",4,4,\"teacher\",\"teacher\",\"home\",\"mother\",1,1,0,\"no\",\"yes\",\"no\",\"no\",\"yes\",\"yes\",\"yes\",\"yes\",1,4,2,2,2,1,0,\"18\",\"18\",17\\n\"GP\",\"F\",18,\"U\",\"LE3\",\"A\",4,4,\"health\",\"other\",\"home\",\"mother\",1,2,0,\"no\",\"yes\",\"yes\",\"no\",\"yes\",\"yes\",\"yes\",\"yes\",4,2,4,1,1,4,0,\"14\",\"15\",15\\n\"GP\",\"M\",17,\"U\",\"LE3\",\"T\",4,4,\"other\",\"teacher\",\"home\",\"father\",2,1,0,\"no\",\"no\",\"no\",\"no\",\"yes\",\"yes\",\"yes\",\"no\",4,1,1,2,2,5,0,\"12\",\"13\",13\\n\"GP\",\"F\",17,\"R\",\"GT3\",\"T\",4,4,\"services\",\"services\",\"reputation\",\"mother\",2,3,0,\"no\",\"yes\",\"no\",\"yes\",\"yes\",\"yes\",\"yes\",\"no\",5,3,4,1,1,5,0,\"7\",\"7\",8\\n\"GP\",\"F\",17,\"U\",\"GT3\",\"T\",4,2,\"other\",\"other\",\"reputation\",\"mother\",2,3,0,\"no\",\"yes\",\"no\",\"no\",\"yes\",\"yes\",\"yes\",\"no\",4,3,3,1,1,3,0,\"16\",\"16\",16\\n\"GP\",\"F\",17,\"U\",\"GT3\",\"T\",3,2,\"health\",\"health\",\"reputation\",\"father\",1,4,0,\"no\",\"yes\",\"no\",\"yes\",\"no\",\"yes\",\"yes\",\"no\",5,2,2,1,2,5,0,\"18\",\"18\",18\\n\"GP\",\"M\",19,\"R\",\"LE3\",\"T\",2,1,\"at_home\",\"services\",\"course\",\"mother\",2,3,1,\"no\",\"no\",\"no\",\"yes\",\"yes\",\"yes\",\"yes\",\"yes\",4,3,1,1,1,5,0,\"9\",\"10\",11\\n\"GP\",\"M\",20,\"U\",\"GT3\",\"A\",3,2,\"services\",\"other\",\"course\",\"other\",1,1,2,\"no\",\"no\",\"no\",\"yes\",\"yes\",\"yes\",\"no\",\"no\",5,5,3,1,1,5,0,\"14\",\"15\",15\\n\"GP\",\"M\",19,\"R\",\"GT3\",\"T\",3,3,\"other\",\"services\",\"reputation\",\"father\",1,2,0,\"no\",\"no\",\"no\",\"yes\",\"yes\",\"yes\",\"no\",\"yes\",4,5,3,1,2,5,0,\"10\",\"10\",11\\n\"GP\",\"F\",18,\"U\",\"GT3\",\"T\",1,4,\"other\",\"teacher\",\"home\",\"mother\",1,2,0,\"yes\",\"yes\",\"no\",\"no\",\"no\",\"yes\",\"no\",\"yes\",3,4,4,1,2,5,2,\"10\",\"10\",11\\n\"GP\",\"F\",18,\"U\",\"GT3\",\"T\",2,1,\"services\",\"other\",\"course\",\"mother\",2,2,0,\"no\",\"yes\",\"no\",\"yes\",\"yes\",\"yes\",\"yes\",\"no\",5,3,3,1,2,1,2,\"12\",\"12\",15\\n\"GP\",\"F\",17,\"U\",\"GT3\",\"T\",2,3,\"other\",\"other\",\"course\",\"father\",2,2,0,\"no\",\"no\",\"no\",\"yes\",\"yes\",\"yes\",\"yes\",\"yes\",4,2,1,1,1,3,2,\"11\",\"12\",14\\n\"GP\",\"F\",17,\"R\",\"GT3\",\"T\",4,4,\"teacher\",\"teacher\",\"course\",\"mother\",1,1,0,\"no\",\"no\",\"no\",\"yes\",\"yes\",\"yes\",\"yes\",\"no\",4,4,4,1,1,5,2,\"15\",\"16\",17\\n\"GP\",\"F\",18,\"U\",\"GT3\",\"T\",4,3,\"other\",\"other\",\"course\",\"mother\",1,3,0,\"no\",\"yes\",\"no\",\"yes\",\"yes\",\"yes\",\"yes\",\"yes\",4,3,4,1,1,5,2,\"14\",\"15\",17\\n\"GP\",\"F\",18,\"U\",\"LE3\",\"T\",4,3,\"health\",\"services\",\"course\",\"mother\",2,1,0,\"no\",\"yes\",\"no\",\"no\",\"yes\",\"yes\",\"yes\",\"no\",3,2,4,1,4,1,8,\"12\",\"12\",15\\n\"GP\",\"F\",17,\"R\",\"GT3\",\"T\",3,4,\"at_home\",\"services\",\"course\",\"father\",1,3,0,\"no\",\"yes\",\"no\",\"yes\",\"no\",\"yes\",\"yes\",\"no\",4,3,4,2,5,5,2,\"15\",\"15\",17\\n\"GP\",\"F\",18,\"U\",\"GT3\",\"T\",3,3,\"at_home\",\"other\",\"course\",\"father\",1,2,0,\"no\",\"yes\",\"no\",\"no\",\"yes\",\"yes\",\"yes\",\"no\",4,1,4,1,1,3,8,\"11\",\"12\",14\\n\"GP\",\"M\",19,\"U\",\"GT3\",\"T\",4,2,\"health\",\"other\",\"course\",\"mother\",2,2,0,\"no\",\"yes\",\"no\",\"yes\",\"yes\",\"yes\",\"yes\",\"yes\",5,4,4,1,1,1,9,\"11\",\"10\",10\\n\"GP\",\"F\",18,\"U\",\"GT3\",\"T\",4,4,\"teacher\",\"other\",\"course\",\"mother\",1,2,0,\"no\",\"yes\",\"no\",\"no\",\"yes\",\"yes\",\"yes\",\"no\",4,4,4,3,3,5,0,\"12\",\"11\",13\\n\"GP\",\"F\",18,\"U\",\"GT3\",\"T\",3,4,\"other\",\"other\",\"course\",\"mother\",1,1,0,\"no\",\"yes\",\"no\",\"yes\",\"yes\",\"yes\",\"yes\",\"yes\",5,4,4,1,1,1,4,\"11\",\"12\",14\\n\"GP\",\"F\",17,\"U\",\"GT3\",\"T\",4,4,\"health\",\"health\",\"course\",\"mother\",1,1,0,\"no\",\"no\",\"no\",\"yes\",\"yes\",\"yes\",\"yes\",\"no\",5,3,4,1,2,5,2,\"14\",\"15\",17\\n\"GP\",\"F\",17,\"U\",\"GT3\",\"A\",4,3,\"services\",\"services\",\"course\",\"mother\",1,2,0,\"no\",\"yes\",\"no\",\"no\",\"yes\",\"yes\",\"yes\",\"yes\",5,2,2,1,2,5,14,\"15\",\"14\",17\\n\"GP\",\"F\",17,\"U\",\"LE3\",\"A\",3,3,\"services\",\"other\",\"home\",\"mother\",1,2,0,\"yes\",\"yes\",\"no\",\"no\",\"yes\",\"yes\",\"yes\",\"no\",5,3,3,1,1,5,0,\"12\",\"12\",13\\n\"GP\",\"F\",17,\"U\",\"LE3\",\"T\",2,1,\"other\",\"other\",\"home\",\"father\",1,2,0,\"no\",\"no\",\"no\",\"yes\",\"yes\",\"yes\",\"yes\",\"no\",4,2,3,2,2,2,2,\"11\",\"12\",14\\n\"GP\",\"M\",18,\"U\",\"LE3\",\"T\",4,4,\"other\",\"other\",\"reputation\",\"father\",1,1,0,\"no\",\"yes\",\"no\",\"no\",\"yes\",\"yes\",\"yes\",\"no\",4,2,5,3,4,5,2,\"8\",\"9\",11\\n\"GP\",\"F\",19,\"U\",\"GT3\",\"T\",1,1,\"other\",\"other\",\"course\",\"other\",3,3,0,\"no\",\"no\",\"no\",\"yes\",\"yes\",\"no\",\"no\",\"yes\",1,5,5,4,3,5,12,\"10\",\"10\",11\\n\"GP\",\"F\",19,\"U\",\"LE3\",\"A\",1,1,\"other\",\"other\",\"course\",\"other\",3,2,2,\"no\",\"yes\",\"no\",\"no\",\"no\",\"yes\",\"yes\",\"yes\",5,3,4,1,1,4,2,\"8\",\"8\",9\\n\"GP\",\"F\",18,\"U\",\"GT3\",\"T\",2,2,\"other\",\"other\",\"course\",\"mother\",1,1,0,\"no\",\"yes\",\"no\",\"yes\",\"yes\",\"yes\",\"yes\",\"yes\",4,3,5,2,4,5,2,\"10\",\"10\",10\\n\"GP\",\"F\",17,\"U\",\"GT3\",\"T\",2,2,\"other\",\"other\",\"course\",\"mother\",1,2,0,\"no\",\"yes\",\"no\",\"no\",\"yes\",\"yes\",\"no\",\"yes\",4,2,2,1,1,3,4,\"14\",\"13\",13\\n\"GP\",\"F\",17,\"R\",\"LE3\",\"T\",2,2,\"services\",\"services\",\"course\",\"mother\",1,3,0,\"no\",\"yes\",\"no\",\"yes\",\"yes\",\"yes\",\"yes\",\"no\",3,3,2,2,2,3,0,\"11\",\"11\",10\\n\"GP\",\"F\",17,\"U\",\"GT3\",\"T\",3,1,\"services\",\"services\",\"course\",\"father\",1,3,0,\"no\",\"yes\",\"no\",\"no\",\"no\",\"yes\",\"yes\",\"no\",3,4,3,2,3,5,0,\"17\",\"18\",17\\n\"GP\",\"F\",17,\"U\",\"LE3\",\"T\",0,2,\"at_home\",\"at_home\",\"home\",\"father\",2,3,0,\"no\",\"no\",\"no\",\"no\",\"yes\",\"yes\",\"yes\",\"no\",3,3,3,2,3,2,0,\"14\",\"14\",15\\n\"GP\",\"F\",18,\"U\",\"GT3\",\"T\",1,1,\"other\",\"other\",\"home\",\"mother\",2,3,0,\"no\",\"no\",\"no\",\"yes\",\"yes\",\"yes\",\"yes\",\"no\",4,5,5,1,2,2,0,\"14\",\"14\",14\\n\"GP\",\"M\",18,\"U\",\"GT3\",\"T\",4,4,\"other\",\"other\",\"course\",\"mother\",1,3,0,\"no\",\"no\",\"no\",\"yes\",\"yes\",\"yes\",\"yes\",\"no\",4,3,3,2,2,3,0,\"13\",\"14\",13\\n\"GP\",\"M\",17,\"U\",\"GT3\",\"T\",3,3,\"other\",\"services\",\"reputation\",\"mother\",1,1,0,\"no\",\"no\",\"no\",\"yes\",\"no\",\"yes\",\"yes\",\"no\",4,3,5,3,5,5,0,\"17\",\"18\",17\\n\"GP\",\"M\",17,\"R\",\"GT3\",\"T\",2,2,\"services\",\"other\",\"course\",\"mother\",4,1,0,\"no\",\"yes\",\"no\",\"no\",\"yes\",\"yes\",\"yes\",\"no\",4,4,5,5,5,4,2,\"11\",\"10\",10\\n\"GP\",\"F\",17,\"U\",\"GT3\",\"T\",4,4,\"teacher\",\"services\",\"course\",\"mother\",1,3,0,\"no\",\"yes\",\"no\",\"yes\",\"yes\",\"yes\",\"yes\",\"no\",5,4,4,1,3,4,0,\"13\",\"12\",13\\n\"GP\",\"F\",17,\"U\",\"GT3\",\"T\",4,4,\"teacher\",\"teacher\",\"course\",\"mother\",2,3,0,\"no\",\"yes\",\"no\",\"no\",\"no\",\"yes\",\"yes\",\"yes\",4,3,3,1,2,4,4,\"15\",\"14\",15\\n\"GP\",\"F\",17,\"U\",\"GT3\",\"T\",3,3,\"at_home\",\"other\",\"course\",\"mother\",1,1,0,\"no\",\"yes\",\"yes\",\"yes\",\"yes\",\"yes\",\"yes\",\"no\",4,2,5,2,5,5,2,\"11\",\"12\",11\\n\"GP\",\"M\",18,\"U\",\"LE3\",\"T\",2,2,\"other\",\"other\",\"course\",\"mother\",1,4,0,\"no\",\"yes\",\"yes\",\"yes\",\"yes\",\"yes\",\"yes\",\"no\",4,5,5,2,4,5,0,\"11\",\"11\",12\\n\"GP\",\"M\",19,\"R\",\"GT3\",\"T\",3,2,\"at_home\",\"services\",\"home\",\"other\",1,1,0,\"no\",\"yes\",\"no\",\"no\",\"no\",\"yes\",\"no\",\"yes\",5,3,4,2,2,5,0,\"11\",\"10\",10\\n\"GP\",\"F\",18,\"U\",\"GT3\",\"T\",2,2,\"at_home\",\"other\",\"course\",\"mother\",4,2,0,\"no\",\"no\",\"no\",\"yes\",\"yes\",\"yes\",\"no\",\"yes\",4,2,5,1,1,2,2,\"10\",\"9\",10\\n\"GP\",\"F\",17,\"R\",\"GT3\",\"T\",2,4,\"at_home\",\"other\",\"course\",\"father\",1,3,0,\"no\",\"yes\",\"no\",\"no\",\"yes\",\"yes\",\"yes\",\"yes\",4,4,3,1,1,5,0,\"15\",\"15\",15\\n\"GP\",\"M\",18,\"U\",\"GT3\",\"T\",2,2,\"other\",\"other\",\"reputation\",\"mother\",1,1,0,\"no\",\"no\",\"no\",\"no\",\"no\",\"yes\",\"yes\",\"no\",5,4,2,1,2,5,6,\"15\",\"14\",15\\n\"GP\",\"F\",18,\"U\",\"GT3\",\"T\",3,3,\"services\",\"services\",\"home\",\"mother\",1,2,0,\"no\",\"no\",\"no\",\"yes\",\"yes\",\"yes\",\"yes\",\"no\",5,3,4,1,1,4,8,\"10\",\"11\",12\\n\"GP\",\"F\",18,\"U\",\"LE3\",\"T\",2,2,\"other\",\"other\",\"home\",\"other\",1,2,0,\"no\",\"no\",\"no\",\"yes\",\"no\",\"yes\",\"yes\",\"yes\",4,3,3,1,1,2,0,\"10\",\"9\",12\\n\"GP\",\"F\",18,\"R\",\"GT3\",\"T\",2,2,\"at_home\",\"other\",\"course\",\"mother\",2,4,0,\"no\",\"no\",\"no\",\"yes\",\"yes\",\"yes\",\"no\",\"no\",4,4,4,1,1,4,6,\"14\",\"13\",14\\n\"GP\",\"F\",17,\"U\",\"GT3\",\"T\",3,4,\"services\",\"other\",\"course\",\"mother\",1,3,0,\"no\",\"no\",\"no\",\"no\",\"yes\",\"yes\",\"yes\",\"no\",4,4,5,1,3,5,8,\"11\",\"13\",14\\n\"GP\",\"F\",17,\"U\",\"GT3\",\"T\",3,2,\"other\",\"other\",\"home\",\"mother\",1,2,0,\"no\",\"yes\",\"no\",\"no\",\"yes\",\"yes\",\"yes\",\"yes\",4,3,2,2,3,2,0,\"12\",\"13\",15\\n\"GP\",\"F\",18,\"U\",\"LE3\",\"T\",3,3,\"services\",\"services\",\"home\",\"mother\",1,4,0,\"no\",\"yes\",\"no\",\"no\",\"yes\",\"yes\",\"yes\",\"no\",5,3,3,1,1,1,4,\"14\",\"14\",15\\n\"GP\",\"F\",17,\"R\",\"GT3\",\"A\",3,2,\"other\",\"other\",\"home\",\"mother\",1,2,0,\"no\",\"yes\",\"no\",\"no\",\"yes\",\"yes\",\"yes\",\"no\",4,3,3,2,3,2,0,\"14\",\"14\",16\\n\"GP\",\"M\",18,\"U\",\"GT3\",\"T\",4,4,\"teacher\",\"services\",\"home\",\"father\",1,2,0,\"no\",\"yes\",\"no\",\"yes\",\"yes\",\"yes\",\"yes\",\"no\",4,3,3,2,2,2,0,\"12\",\"12\",13\\n\"GP\",\"M\",18,\"U\",\"LE3\",\"T\",3,4,\"services\",\"other\",\"home\",\"mother\",1,2,0,\"no\",\"no\",\"no\",\"yes\",\"yes\",\"yes\",\"yes\",\"yes\",4,3,3,1,3,5,6,\"16\",\"16\",17\\n\"GP\",\"F\",17,\"U\",\"GT3\",\"A\",2,2,\"at_home\",\"at_home\",\"home\",\"father\",1,2,0,\"no\",\"yes\",\"no\",\"no\",\"yes\",\"yes\",\"yes\",\"yes\",3,3,1,1,2,4,18,\"10\",\"12\",14\\n\"GP\",\"F\",18,\"U\",\"GT3\",\"T\",2,3,\"at_home\",\"other\",\"course\",\"mother\",1,3,0,\"no\",\"yes\",\"no\",\"no\",\"yes\",\"yes\",\"yes\",\"no\",4,3,3,1,2,3,0,\"11\",\"12\",14\\n\"GP\",\"F\",18,\"U\",\"GT3\",\"T\",3,2,\"other\",\"services\",\"other\",\"mother\",1,3,0,\"no\",\"no\",\"no\",\"no\",\"yes\",\"yes\",\"yes\",\"yes\",5,4,3,2,3,1,4,\"14\",\"16\",17\\n\"GP\",\"M\",18,\"R\",\"GT3\",\"T\",4,3,\"teacher\",\"services\",\"course\",\"mother\",1,3,0,\"no\",\"no\",\"no\",\"no\",\"yes\",\"yes\",\"yes\",\"yes\",5,3,2,1,2,4,4,\"15\",\"14\",17\\n\"GP\",\"M\",18,\"U\",\"GT3\",\"T\",4,3,\"teacher\",\"other\",\"course\",\"mother\",1,3,0,\"no\",\"yes\",\"no\",\"no\",\"yes\",\"yes\",\"yes\",\"yes\",5,4,5,2,3,5,0,\"14\",\"13\",14\\n\"GP\",\"F\",17,\"U\",\"GT3\",\"T\",4,3,\"health\",\"other\",\"reputation\",\"mother\",1,3,0,\"no\",\"yes\",\"no\",\"yes\",\"yes\",\"yes\",\"yes\",\"yes\",4,4,3,1,3,4,0,\"11\",\"12\",13\\n\"GP\",\"F\",17,\"U\",\"GT3\",\"T\",2,1,\"services\",\"other\",\"course\",\"mother\",2,2,0,\"no\",\"yes\",\"no\",\"yes\",\"yes\",\"yes\",\"yes\",\"yes\",4,3,4,2,2,1,10,\"12\",\"15\",15\\n\"GP\",\"F\",17,\"U\",\"GT3\",\"T\",2,1,\"services\",\"other\",\"reputation\",\"mother\",1,2,0,\"no\",\"yes\",\"no\",\"yes\",\"yes\",\"yes\",\"yes\",\"no\",4,3,5,2,4,4,4,\"12\",\"16\",16\\n\"GP\",\"F\",19,\"U\",\"LE3\",\"A\",2,3,\"at_home\",\"other\",\"home\",\"other\",2,1,1,\"no\",\"no\",\"no\",\"no\",\"yes\",\"no\",\"yes\",\"no\",2,2,3,3,4,5,16,\"10\",\"11\",11\\n\"GP\",\"F\",17,\"U\",\"GT3\",\"T\",3,1,\"other\",\"at_home\",\"home\",\"mother\",1,1,1,\"no\",\"yes\",\"yes\",\"no\",\"yes\",\"yes\",\"yes\",\"yes\",4,1,2,1,1,3,6,\"10\",\"13\",13\\n\"GP\",\"F\",21,\"U\",\"LE3\",\"T\",4,4,\"other\",\"other\",\"reputation\",\"other\",1,3,2,\"no\",\"no\",\"yes\",\"yes\",\"yes\",\"yes\",\"yes\",\"no\",3,3,2,1,1,5,0,\"9\",\"12\",12\\n\"GP\",\"M\",18,\"U\",\"LE3\",\"T\",2,2,\"services\",\"services\",\"reputation\",\"mother\",1,2,0,\"no\",\"yes\",\"no\",\"yes\",\"no\",\"no\",\"yes\",\"no\",4,4,4,1,3,3,11,\"9\",\"11\",12\\n\"GP\",\"M\",18,\"U\",\"LE3\",\"A\",3,4,\"other\",\"other\",\"reputation\",\"other\",1,2,0,\"no\",\"no\",\"no\",\"yes\",\"yes\",\"yes\",\"yes\",\"yes\",4,3,5,1,4,2,9,\"13\",\"14\",15\\n\"GP\",\"F\",17,\"U\",\"GT3\",\"T\",2,2,\"services\",\"services\",\"reputation\",\"mother\",1,2,0,\"no\",\"yes\",\"no\",\"yes\",\"yes\",\"yes\",\"yes\",\"no\",4,3,4,1,3,4,0,\"13\",\"17\",17\\n\"GP\",\"M\",17,\"U\",\"LE3\",\"A\",4,4,\"health\",\"other\",\"reputation\",\"mother\",1,3,0,\"no\",\"yes\",\"no\",\"no\",\"yes\",\"yes\",\"yes\",\"no\",4,4,2,1,2,4,2,\"12\",\"15\",15\\n\"GP\",\"F\",18,\"U\",\"LE3\",\"T\",4,2,\"teacher\",\"other\",\"course\",\"mother\",1,2,0,\"no\",\"yes\",\"no\",\"yes\",\"yes\",\"yes\",\"yes\",\"no\",4,2,2,1,1,3,0,\"14\",\"17\",17\\n\"GP\",\"M\",21,\"R\",\"LE3\",\"T\",1,1,\"at_home\",\"other\",\"course\",\"other\",2,2,2,\"no\",\"yes\",\"no\",\"yes\",\"yes\",\"no\",\"yes\",\"yes\",5,3,3,5,2,4,21,\"9\",\"10\",10\\n\"GP\",\"F\",20,\"R\",\"GT3\",\"T\",1,1,\"other\",\"other\",\"reputation\",\"other\",2,3,0,\"no\",\"no\",\"no\",\"no\",\"yes\",\"yes\",\"yes\",\"yes\",3,2,2,1,3,3,8,\"11\",\"15\",15\\n\"GP\",\"F\",19,\"U\",\"GT3\",\"T\",4,4,\"teacher\",\"other\",\"home\",\"other\",1,1,1,\"no\",\"yes\",\"no\",\"no\",\"yes\",\"yes\",\"yes\",\"yes\",3,2,5,4,4,5,5,\"9\",\"10\",11\\n\"GP\",\"M\",17,\"U\",\"LE3\",\"A\",3,2,\"other\",\"other\",\"reputation\",\"mother\",1,2,0,\"no\",\"yes\",\"no\",\"no\",\"yes\",\"yes\",\"yes\",\"no\",4,4,4,1,2,5,10,\"16\",\"18\",18\\n\"GP\",\"F\",18,\"U\",\"GT3\",\"T\",3,2,\"at_home\",\"other\",\"reputation\",\"father\",1,3,0,\"no\",\"yes\",\"no\",\"no\",\"yes\",\"yes\",\"yes\",\"yes\",4,3,4,1,2,2,5,\"14\",\"17\",17\\n\"GP\",\"M\",18,\"R\",\"GT3\",\"T\",2,3,\"other\",\"services\",\"reputation\",\"father\",1,1,0,\"no\",\"no\",\"no\",\"no\",\"yes\",\"yes\",\"yes\",\"no\",3,1,3,4,5,4,13,\"13\",\"14\",14\\n\"GP\",\"M\",19,\"U\",\"GT3\",\"T\",2,1,\"other\",\"other\",\"reputation\",\"mother\",1,1,0,\"no\",\"no\",\"no\",\"no\",\"yes\",\"yes\",\"yes\",\"no\",5,3,4,1,4,4,10,\"7\",\"11\",11\\n\"GP\",\"F\",18,\"U\",\"LE3\",\"A\",2,2,\"services\",\"other\",\"reputation\",\"mother\",2,2,0,\"no\",\"yes\",\"no\",\"no\",\"yes\",\"yes\",\"yes\",\"no\",4,1,4,1,3,4,10,\"14\",\"17\",17\\n\"GP\",\"F\",20,\"U\",\"GT3\",\"T\",1,0,\"other\",\"other\",\"reputation\",\"mother\",2,1,1,\"yes\",\"no\",\"no\",\"no\",\"yes\",\"yes\",\"yes\",\"yes\",5,3,1,1,1,5,5,\"8\",\"10\",10\\n\"GP\",\"F\",18,\"U\",\"GT3\",\"T\",3,2,\"services\",\"other\",\"home\",\"mother\",1,2,0,\"no\",\"yes\",\"no\",\"yes\",\"no\",\"yes\",\"yes\",\"yes\",3,1,2,1,2,1,4,\"10\",\"13\",13\\n\"MS\",\"F\",16,\"U\",\"GT3\",\"T\",1,3,\"at_home\",\"other\",\"other\",\"father\",2,1,0,\"no\",\"yes\",\"no\",\"no\",\"yes\",\"no\",\"yes\",\"yes\",4,3,3,1,3,5,11,\"10\",\"11\",11\\n\"MS\",\"F\",16,\"R\",\"GT3\",\"T\",2,2,\"other\",\"other\",\"course\",\"mother\",2,2,0,\"no\",\"yes\",\"no\",\"yes\",\"yes\",\"yes\",\"yes\",\"no\",4,4,4,1,1,5,0,\"12\",\"12\",12\\n\"MS\",\"F\",15,\"R\",\"GT3\",\"T\",1,1,\"at_home\",\"services\",\"other\",\"mother\",1,1,1,\"no\",\"yes\",\"no\",\"no\",\"yes\",\"yes\",\"no\",\"yes\",4,1,3,1,1,2,6,\"10\",\"10\",10\\n\"MS\",\"F\",15,\"R\",\"GT3\",\"T\",3,3,\"at_home\",\"other\",\"course\",\"mother\",2,1,0,\"no\",\"yes\",\"no\",\"no\",\"yes\",\"yes\",\"yes\",\"no\",5,4,4,2,3,5,4,\"10\",\"10\",11\\n\"MS\",\"F\",16,\"R\",\"GT3\",\"T\",2,3,\"at_home\",\"services\",\"course\",\"mother\",2,2,0,\"no\",\"no\",\"no\",\"no\",\"yes\",\"yes\",\"no\",\"no\",4,5,2,1,2,5,0,\"16\",\"17\",17\\n\"MS\",\"F\",15,\"R\",\"LE3\",\"T\",2,1,\"at_home\",\"other\",\"home\",\"mother\",2,1,0,\"no\",\"no\",\"no\",\"no\",\"yes\",\"no\",\"no\",\"no\",1,3,4,1,1,1,0,\"6\",\"8\",9\\n\"MS\",\"M\",16,\"R\",\"LE3\",\"A\",4,4,\"at_home\",\"other\",\"home\",\"mother\",1,2,0,\"no\",\"yes\",\"no\",\"no\",\"yes\",\"yes\",\"no\",\"no\",5,3,2,1,3,2,5,\"10\",\"11\",11\\n\"MS\",\"M\",16,\"U\",\"GT3\",\"A\",1,2,\"other\",\"other\",\"other\",\"mother\",1,3,0,\"yes\",\"no\",\"no\",\"no\",\"yes\",\"yes\",\"yes\",\"no\",4,4,3,1,1,5,0,\"10\",\"11\",11\\n\"MS\",\"F\",17,\"R\",\"GT3\",\"T\",3,2,\"at_home\",\"other\",\"course\",\"father\",1,2,1,\"no\",\"no\",\"no\",\"no\",\"yes\",\"yes\",\"no\",\"yes\",4,5,4,1,2,5,0,\"10\",\"10\",10\\n\"MS\",\"F\",17,\"R\",\"GT3\",\"T\",1,1,\"other\",\"other\",\"other\",\"father\",1,1,1,\"no\",\"yes\",\"no\",\"no\",\"no\",\"no\",\"yes\",\"no\",5,4,4,2,2,5,0,\"6\",\"6\",7\\n\"MS\",\"F\",15,\"R\",\"GT3\",\"T\",4,4,\"teacher\",\"other\",\"course\",\"mother\",2,1,0,\"no\",\"no\",\"no\",\"no\",\"yes\",\"yes\",\"yes\",\"yes\",1,5,1,3,5,5,0,\"13\",\"14\",14\\n\"MS\",\"F\",16,\"U\",\"LE3\",\"A\",2,2,\"at_home\",\"other\",\"reputation\",\"mother\",2,4,0,\"no\",\"no\",\"no\",\"yes\",\"no\",\"no\",\"no\",\"yes\",1,2,1,1,1,1,4,\"10\",\"9\",11\\n\"MS\",\"F\",15,\"R\",\"LE3\",\"T\",1,1,\"at_home\",\"services\",\"reputation\",\"father\",2,2,0,\"no\",\"yes\",\"no\",\"no\",\"yes\",\"yes\",\"yes\",\"no\",5,4,3,1,2,4,0,\"10\",\"10\",10\\n\"MS\",\"F\",15,\"R\",\"LE3\",\"T\",1,1,\"other\",\"services\",\"course\",\"mother\",2,1,1,\"no\",\"yes\",\"no\",\"no\",\"yes\",\"yes\",\"yes\",\"yes\",4,4,3,1,2,2,4,\"6\",\"7\",8\\n\"MS\",\"F\",16,\"R\",\"GT3\",\"T\",0,2,\"other\",\"other\",\"other\",\"mother\",2,1,0,\"no\",\"yes\",\"no\",\"yes\",\"yes\",\"yes\",\"no\",\"no\",3,2,3,1,2,2,0,\"12\",\"11\",12\\n\"MS\",\"F\",17,\"R\",\"GT3\",\"T\",2,3,\"other\",\"other\",\"course\",\"mother\",2,1,0,\"no\",\"yes\",\"no\",\"no\",\"yes\",\"yes\",\"yes\",\"no\",5,5,5,1,3,3,2,\"10\",\"11\",12\\n\"MS\",\"F\",15,\"R\",\"GT3\",\"T\",3,3,\"other\",\"services\",\"course\",\"father\",2,1,0,\"no\",\"no\",\"no\",\"no\",\"no\",\"yes\",\"yes\",\"no\",4,1,3,1,1,4,0,\"14\",\"16\",16\\n\"MS\",\"M\",16,\"U\",\"GT3\",\"T\",1,1,\"at_home\",\"services\",\"home\",\"mother\",2,2,0,\"no\",\"yes\",\"no\",\"yes\",\"yes\",\"yes\",\"no\",\"yes\",5,4,5,4,5,3,0,\"7\",\"0\",0\\n\"MS\",\"M\",17,\"U\",\"GT3\",\"T\",1,1,\"other\",\"other\",\"home\",\"mother\",1,2,0,\"no\",\"no\",\"yes\",\"no\",\"no\",\"yes\",\"yes\",\"no\",4,4,3,2,4,5,4,\"8\",\"9\",9\\n\"MS\",\"M\",15,\"R\",\"LE3\",\"T\",4,1,\"health\",\"services\",\"reputation\",\"father\",1,2,0,\"no\",\"yes\",\"no\",\"yes\",\"yes\",\"yes\",\"yes\",\"no\",5,3,4,1,2,2,0,\"12\",\"13\",14\\n\"MS\",\"M\",15,\"R\",\"LE3\",\"T\",4,1,\"health\",\"services\",\"reputation\",\"father\",1,2,0,\"no\",\"yes\",\"no\",\"yes\",\"yes\",\"yes\",\"yes\",\"no\",5,3,4,1,2,2,7,\"7\",\"9\",8\\n\"MS\",\"M\",16,\"R\",\"GT3\",\"T\",3,4,\"other\",\"health\",\"other\",\"mother\",3,2,0,\"no\",\"no\",\"no\",\"no\",\"no\",\"yes\",\"no\",\"no\",3,4,5,1,2,5,4,\"9\",\"10\",11\\n\"MS\",\"M\",15,\"R\",\"GT3\",\"T\",1,1,\"other\",\"other\",\"course\",\"mother\",4,2,0,\"no\",\"yes\",\"no\",\"yes\",\"yes\",\"yes\",\"no\",\"yes\",5,4,5,2,4,4,8,\"7\",\"9\",9\\n\"MS\",\"M\",15,\"U\",\"LE3\",\"T\",3,3,\"at_home\",\"at_home\",\"reputation\",\"father\",1,2,0,\"no\",\"yes\",\"no\",\"yes\",\"yes\",\"yes\",\"yes\",\"no\",5,3,3,1,1,5,0,\"11\",\"11\",11\\n\"MS\",\"M\",17,\"R\",\"GT3\",\"T\",2,1,\"other\",\"other\",\"other\",\"mother\",3,1,0,\"no\",\"no\",\"no\",\"yes\",\"yes\",\"no\",\"no\",\"yes\",5,5,5,5,5,3,8,\"8\",\"10\",9\\n\"MS\",\"F\",16,\"R\",\"GT3\",\"T\",4,4,\"teacher\",\"teacher\",\"course\",\"mother\",2,3,0,\"no\",\"no\",\"no\",\"yes\",\"yes\",\"yes\",\"yes\",\"yes\",4,2,2,1,1,4,6,\"16\",\"16\",17\\n\"MS\",\"F\",15,\"R\",\"GT3\",\"T\",1,2,\"other\",\"services\",\"course\",\"mother\",2,1,0,\"no\",\"no\",\"no\",\"no\",\"yes\",\"yes\",\"no\",\"no\",5,1,2,1,1,1,3,\"11\",\"13\",13\\n\"MS\",\"F\",16,\"R\",\"GT3\",\"T\",2,3,\"other\",\"services\",\"course\",\"mother\",3,2,0,\"no\",\"yes\",\"no\",\"no\",\"yes\",\"yes\",\"yes\",\"no\",4,5,4,1,2,1,2,\"15\",\"15\",15\\n\"MS\",\"M\",16,\"R\",\"GT3\",\"T\",1,2,\"other\",\"other\",\"course\",\"father\",2,2,0,\"no\",\"no\",\"no\",\"no\",\"yes\",\"yes\",\"no\",\"no\",4,3,3,1,1,5,0,\"10\",\"11\",11\\n\"MS\",\"F\",16,\"R\",\"GT3\",\"T\",2,2,\"other\",\"other\",\"course\",\"mother\",3,2,0,\"no\",\"yes\",\"no\",\"no\",\"yes\",\"yes\",\"yes\",\"no\",4,4,5,1,1,4,4,\"9\",\"10\",11\\n\"MS\",\"F\",16,\"U\",\"GT3\",\"T\",1,2,\"other\",\"services\",\"course\",\"mother\",1,3,1,\"no\",\"yes\",\"no\",\"no\",\"yes\",\"yes\",\"no\",\"no\",1,3,2,1,2,4,0,\"10\",\"8\",8\\n\"MS\",\"F\",16,\"U\",\"GT3\",\"T\",1,2,\"other\",\"services\",\"course\",\"mother\",1,3,1,\"no\",\"yes\",\"no\",\"no\",\"yes\",\"yes\",\"no\",\"no\",1,3,2,1,2,4,3,\"9\",\"8\",8\\n\"MS\",\"F\",15,\"U\",\"GT3\",\"T\",2,1,\"at_home\",\"other\",\"home\",\"mother\",1,2,0,\"yes\",\"yes\",\"no\",\"no\",\"no\",\"yes\",\"yes\",\"no\",4,4,2,3,3,2,0,\"9\",\"10\",9\\n\"MS\",\"F\",16,\"U\",\"GT3\",\"T\",1,1,\"at_home\",\"other\",\"course\",\"father\",1,2,0,\"no\",\"yes\",\"no\",\"no\",\"no\",\"yes\",\"no\",\"yes\",5,4,3,2,1,2,0,\"13\",\"14\",15\\n\"MS\",\"M\",17,\"R\",\"LE3\",\"T\",1,2,\"at_home\",\"services\",\"reputation\",\"mother\",1,1,0,\"no\",\"yes\",\"no\",\"yes\",\"yes\",\"yes\",\"yes\",\"no\",5,5,5,5,5,3,4,\"10\",\"11\",11\\n\"MS\",\"F\",16,\"R\",\"GT3\",\"T\",1,1,\"other\",\"other\",\"home\",\"father\",4,4,0,\"no\",\"yes\",\"no\",\"no\",\"no\",\"yes\",\"yes\",\"no\",4,3,2,1,1,1,0,\"13\",\"10\",13\\n\"MS\",\"F\",16,\"R\",\"GT3\",\"T\",1,1,\"at_home\",\"other\",\"other\",\"father\",4,3,0,\"yes\",\"yes\",\"no\",\"no\",\"yes\",\"yes\",\"no\",\"no\",4,4,3,1,1,5,2,\"10\",\"9\",10\\n\"MS\",\"F\",15,\"R\",\"GT3\",\"T\",1,1,\"at_home\",\"other\",\"home\",\"father\",2,2,0,\"no\",\"yes\",\"no\",\"yes\",\"yes\",\"yes\",\"yes\",\"no\",4,3,3,1,1,2,1,\"11\",\"10\",11\\n\"MS\",\"F\",16,\"R\",\"GT3\",\"T\",1,1,\"at_home\",\"other\",\"other\",\"mother\",2,1,0,\"no\",\"no\",\"no\",\"yes\",\"yes\",\"yes\",\"yes\",\"yes\",4,2,2,4,3,2,0,\"13\",\"12\",14\\n\"MS\",\"F\",15,\"R\",\"GT3\",\"T\",1,1,\"at_home\",\"at_home\",\"course\",\"father\",3,2,0,\"no\",\"yes\",\"no\",\"no\",\"yes\",\"yes\",\"no\",\"no\",4,2,1,1,2,2,0,\"13\",\"14\",14\\n\"MS\",\"F\",15,\"R\",\"LE3\",\"T\",2,2,\"other\",\"other\",\"other\",\"father\",1,3,0,\"yes\",\"yes\",\"no\",\"no\",\"yes\",\"yes\",\"no\",\"no\",4,4,3,2,2,5,2,\"14\",\"11\",12\\n\"MS\",\"M\",16,\"R\",\"GT3\",\"T\",1,1,\"at_home\",\"other\",\"other\",\"father\",2,1,0,\"no\",\"no\",\"no\",\"yes\",\"yes\",\"yes\",\"no\",\"no\",3,4,4,3,4,5,6,\"11\",\"11\",11\\n\"MS\",\"F\",18,\"U\",\"GT3\",\"T\",1,2,\"other\",\"other\",\"course\",\"father\",1,2,1,\"no\",\"yes\",\"no\",\"yes\",\"yes\",\"yes\",\"yes\",\"yes\",3,4,4,2,3,5,9,\"9\",\"8\",8\\n\"MS\",\"M\",15,\"U\",\"GT3\",\"T\",3,1,\"other\",\"services\",\"home\",\"mother\",2,1,0,\"no\",\"yes\",\"no\",\"no\",\"yes\",\"yes\",\"no\",\"no\",3,2,3,1,3,4,0,\"10\",\"9\",11\\n\"MS\",\"F\",16,\"R\",\"GT3\",\"T\",2,2,\"other\",\"services\",\"course\",\"father\",3,2,0,\"no\",\"yes\",\"no\",\"yes\",\"yes\",\"yes\",\"yes\",\"no\",5,3,4,1,1,2,1,\"14\",\"13\",14\\n\"MS\",\"M\",15,\"U\",\"GT3\",\"T\",2,2,\"health\",\"other\",\"reputation\",\"mother\",3,1,0,\"no\",\"no\",\"no\",\"no\",\"yes\",\"yes\",\"no\",\"no\",4,3,3,1,2,4,1,\"13\",\"12\",13\\n\"MS\",\"M\",16,\"U\",\"GT3\",\"T\",4,4,\"other\",\"teacher\",\"course\",\"father\",1,2,0,\"no\",\"yes\",\"no\",\"yes\",\"yes\",\"yes\",\"no\",\"yes\",4,3,1,1,1,3,0,\"13\",\"12\",13\\n\"MS\",\"F\",15,\"R\",\"GT3\",\"T\",3,3,\"services\",\"other\",\"reputation\",\"mother\",1,2,0,\"no\",\"yes\",\"no\",\"no\",\"yes\",\"yes\",\"yes\",\"yes\",4,5,4,1,1,1,4,\"13\",\"12\",12\\n\"MS\",\"F\",16,\"R\",\"GT3\",\"T\",2,2,\"at_home\",\"other\",\"course\",\"mother\",2,2,1,\"no\",\"yes\",\"no\",\"yes\",\"no\",\"yes\",\"no\",\"no\",4,4,4,2,3,5,2,\"12\",\"11\",12\\n\"MS\",\"F\",16,\"R\",\"LE3\",\"T\",2,2,\"other\",\"other\",\"home\",\"father\",3,1,0,\"no\",\"yes\",\"no\",\"yes\",\"yes\",\"yes\",\"no\",\"yes\",4,3,2,1,1,4,0,\"14\",\"14\",16\\n\"MS\",\"M\",16,\"U\",\"LE3\",\"T\",2,1,\"at_home\",\"services\",\"course\",\"mother\",2,1,0,\"no\",\"yes\",\"no\",\"yes\",\"yes\",\"yes\",\"yes\",\"no\",2,4,3,2,3,4,4,\"10\",\"8\",10\\n\"MS\",\"M\",15,\"R\",\"LE3\",\"T\",1,3,\"at_home\",\"other\",\"reputation\",\"father\",3,1,0,\"no\",\"yes\",\"no\",\"yes\",\"yes\",\"yes\",\"yes\",\"no\",4,2,4,3,5,3,2,\"10\",\"11\",11\\n\"MS\",\"F\",15,\"U\",\"GT3\",\"T\",2,2,\"other\",\"services\",\"course\",\"mother\",2,3,0,\"no\",\"yes\",\"no\",\"yes\",\"yes\",\"yes\",\"no\",\"no\",5,3,2,1,1,4,0,\"12\",\"13\",14\\n\"MS\",\"F\",16,\"R\",\"LE3\",\"T\",2,1,\"other\",\"other\",\"home\",\"mother\",1,1,0,\"no\",\"yes\",\"no\",\"no\",\"yes\",\"yes\",\"yes\",\"yes\",5,4,3,1,1,5,2,\"10\",\"8\",8\\n\"MS\",\"M\",15,\"U\",\"GT3\",\"T\",3,3,\"services\",\"services\",\"course\",\"father\",2,1,0,\"no\",\"yes\",\"no\",\"yes\",\"no\",\"yes\",\"yes\",\"no\",4,3,3,2,4,3,11,\"12\",\"10\",11\\n\"MS\",\"F\",16,\"R\",\"GT3\",\"T\",1,1,\"at_home\",\"other\",\"course\",\"father\",2,2,3,\"yes\",\"yes\",\"no\",\"no\",\"yes\",\"yes\",\"no\",\"no\",3,4,3,1,1,1,0,\"7\",\"7\",8\\n\"MS\",\"F\",17,\"U\",\"GT3\",\"T\",2,2,\"other\",\"at_home\",\"course\",\"mother\",1,1,0,\"no\",\"yes\",\"no\",\"yes\",\"yes\",\"no\",\"no\",\"no\",4,5,3,1,1,5,4,\"9\",\"9\",10\\n\"MS\",\"F\",19,\"U\",\"GT3\",\"T\",2,3,\"at_home\",\"services\",\"course\",\"other\",1,1,1,\"no\",\"no\",\"no\",\"no\",\"yes\",\"no\",\"yes\",\"yes\",4,4,4,1,1,2,0,\"9\",\"9\",10\\n\"MS\",\"F\",17,\"R\",\"GT3\",\"T\",2,1,\"at_home\",\"other\",\"course\",\"mother\",3,1,0,\"no\",\"yes\",\"no\",\"yes\",\"yes\",\"no\",\"no\",\"yes\",5,5,3,1,1,3,2,\"9\",\"10\",11\\n\"MS\",\"F\",15,\"R\",\"LE3\",\"T\",1,1,\"at_home\",\"other\",\"course\",\"mother\",2,1,0,\"no\",\"yes\",\"no\",\"no\",\"yes\",\"no\",\"no\",\"yes\",5,2,1,1,3,4,0,\"9\",\"10\",9\\n\"MS\",\"F\",16,\"R\",\"GT3\",\"T\",2,2,\"other\",\"other\",\"course\",\"father\",3,2,0,\"no\",\"yes\",\"no\",\"no\",\"yes\",\"no\",\"yes\",\"no\",3,4,5,1,2,1,1,\"9\",\"10\",11\\n\"MS\",\"F\",16,\"U\",\"LE3\",\"A\",2,2,\"other\",\"other\",\"home\",\"mother\",1,1,0,\"no\",\"yes\",\"no\",\"no\",\"yes\",\"no\",\"no\",\"no\",4,3,4,1,2,1,6,\"7\",\"7\",8\\n\"MS\",\"F\",17,\"R\",\"GT3\",\"T\",2,2,\"at_home\",\"other\",\"course\",\"mother\",2,2,0,\"no\",\"yes\",\"no\",\"no\",\"yes\",\"yes\",\"yes\",\"no\",4,3,5,1,2,4,0,\"11\",\"10\",11\\n\"MS\",\"F\",16,\"U\",\"GT3\",\"T\",2,2,\"other\",\"services\",\"course\",\"father\",1,1,1,\"no\",\"yes\",\"yes\",\"yes\",\"no\",\"yes\",\"yes\",\"no\",4,4,3,1,4,3,1,\"9\",\"10\",10\\n\"MS\",\"F\",18,\"R\",\"LE3\",\"A\",3,2,\"other\",\"other\",\"course\",\"other\",2,3,2,\"no\",\"yes\",\"no\",\"no\",\"no\",\"no\",\"no\",\"yes\",3,3,2,1,1,2,6,\"7\",\"9\",10\\n\"MS\",\"F\",19,\"U\",\"GT3\",\"T\",1,1,\"at_home\",\"services\",\"course\",\"mother\",1,3,1,\"no\",\"no\",\"no\",\"yes\",\"yes\",\"no\",\"no\",\"yes\",5,3,1,1,1,3,6,\"7\",\"9\",9\\n\"MS\",\"M\",18,\"R\",\"GT3\",\"T\",1,1,\"other\",\"other\",\"home\",\"mother\",2,1,1,\"no\",\"no\",\"no\",\"yes\",\"yes\",\"no\",\"yes\",\"no\",4,4,3,3,4,4,0,\"8\",\"9\",10\\n\"MS\",\"F\",18,\"R\",\"GT3\",\"T\",1,1,\"at_home\",\"at_home\",\"course\",\"mother\",2,1,1,\"no\",\"no\",\"no\",\"no\",\"no\",\"no\",\"yes\",\"yes\",3,2,3,1,1,2,4,\"9\",\"11\",10\\n\"MS\",\"F\",19,\"U\",\"GT3\",\"T\",1,1,\"other\",\"other\",\"course\",\"other\",2,2,1,\"no\",\"yes\",\"no\",\"no\",\"yes\",\"yes\",\"yes\",\"yes\",1,1,4,4,1,1,12,\"7\",\"8\",9\\n\"MS\",\"F\",16,\"R\",\"GT3\",\"A\",2,2,\"health\",\"other\",\"course\",\"mother\",1,2,0,\"no\",\"no\",\"no\",\"no\",\"no\",\"yes\",\"no\",\"yes\",3,3,2,1,1,3,2,\"8\",\"10\",10\\n\"MS\",\"F\",17,\"U\",\"GT3\",\"T\",0,1,\"other\",\"at_home\",\"course\",\"father\",2,1,0,\"no\",\"no\",\"no\",\"yes\",\"no\",\"yes\",\"no\",\"no\",2,4,4,3,5,5,5,\"9\",\"9\",10\\n\"MS\",\"F\",16,\"R\",\"LE3\",\"T\",1,2,\"at_home\",\"other\",\"course\",\"mother\",1,2,0,\"no\",\"no\",\"no\",\"yes\",\"yes\",\"no\",\"yes\",\"no\",4,4,5,1,3,3,0,\"8\",\"9\",9\\n\"MS\",\"F\",16,\"U\",\"GT3\",\"T\",3,3,\"other\",\"other\",\"reputation\",\"mother\",1,1,0,\"no\",\"no\",\"no\",\"yes\",\"yes\",\"no\",\"yes\",\"yes\",4,5,4,1,1,4,0,\"14\",\"13\",13\\n\"MS\",\"F\",16,\"R\",\"LE3\",\"T\",1,1,\"services\",\"services\",\"home\",\"mother\",1,1,0,\"no\",\"yes\",\"no\",\"yes\",\"yes\",\"yes\",\"yes\",\"yes\",4,4,4,2,2,4,2,\"14\",\"14\",14\\n\"MS\",\"M\",17,\"U\",\"GT3\",\"T\",3,3,\"services\",\"at_home\",\"course\",\"mother\",2,4,1,\"no\",\"yes\",\"yes\",\"yes\",\"yes\",\"yes\",\"no\",\"no\",5,4,5,3,4,5,0,\"10\",\"11\",10\\n\"MS\",\"F\",16,\"U\",\"GT3\",\"T\",2,1,\"other\",\"services\",\"course\",\"mother\",1,2,0,\"no\",\"yes\",\"no\",\"yes\",\"yes\",\"yes\",\"yes\",\"no\",5,3,3,1,1,1,0,\"14\",\"13\",14\\n\"MS\",\"F\",16,\"U\",\"GT3\",\"T\",2,2,\"services\",\"other\",\"course\",\"mother\",1,1,0,\"no\",\"yes\",\"yes\",\"yes\",\"yes\",\"yes\",\"no\",\"yes\",4,2,5,1,2,5,0,\"17\",\"16\",16\\n\"MS\",\"M\",17,\"U\",\"GT3\",\"T\",1,2,\"other\",\"other\",\"course\",\"father\",1,1,1,\"no\",\"yes\",\"no\",\"yes\",\"yes\",\"no\",\"yes\",\"yes\",5,3,5,5,5,1,12,\"6\",\"7\",7\\n\"MS\",\"M\",16,\"U\",\"LE3\",\"T\",4,3,\"other\",\"other\",\"course\",\"father\",1,1,0,\"no\",\"no\",\"no\",\"yes\",\"yes\",\"yes\",\"yes\",\"no\",4,2,5,1,5,5,8,\"14\",\"12\",13\\n\"MS\",\"M\",17,\"R\",\"LE3\",\"T\",2,2,\"services\",\"services\",\"other\",\"mother\",3,4,1,\"no\",\"yes\",\"no\",\"no\",\"yes\",\"yes\",\"no\",\"no\",1,3,5,3,5,3,2,\"10\",\"8\",9\\n\"MS\",\"F\",16,\"U\",\"GT3\",\"T\",1,1,\"other\",\"other\",\"course\",\"other\",1,4,0,\"yes\",\"yes\",\"no\",\"yes\",\"yes\",\"yes\",\"yes\",\"no\",2,2,1,1,1,5,0,\"14\",\"14\",14\\n\"MS\",\"F\",19,\"U\",\"LE3\",\"T\",2,2,\"other\",\"other\",\"home\",\"mother\",1,3,0,\"no\",\"no\",\"no\",\"no\",\"yes\",\"yes\",\"yes\",\"yes\",5,4,5,1,1,1,0,\"12\",\"13\",13\\n\"MS\",\"F\",17,\"R\",\"GT3\",\"T\",1,1,\"at_home\",\"other\",\"reputation\",\"mother\",2,1,0,\"no\",\"yes\",\"no\",\"yes\",\"no\",\"yes\",\"yes\",\"yes\",4,4,5,1,2,5,0,\"11\",\"11\",11\\n\"MS\",\"F\",20,\"U\",\"GT3\",\"T\",3,3,\"at_home\",\"services\",\"other\",\"mother\",2,2,1,\"no\",\"no\",\"no\",\"yes\",\"yes\",\"yes\",\"yes\",\"yes\",3,3,4,2,4,3,8,\"11\",\"9\",10\\n\"MS\",\"F\",17,\"U\",\"LE3\",\"T\",1,1,\"other\",\"services\",\"course\",\"father\",1,3,0,\"no\",\"yes\",\"no\",\"no\",\"yes\",\"yes\",\"no\",\"yes\",4,3,3,1,1,3,0,\"11\",\"11\",10\\n\"MS\",\"M\",17,\"R\",\"GT3\",\"T\",2,2,\"other\",\"other\",\"course\",\"mother\",3,1,1,\"no\",\"yes\",\"no\",\"no\",\"no\",\"yes\",\"yes\",\"no\",4,4,5,1,2,5,0,\"10\",\"9\",9\\n\"MS\",\"F\",16,\"R\",\"LE3\",\"T\",1,1,\"at_home\",\"other\",\"course\",\"father\",3,2,0,\"no\",\"yes\",\"no\",\"no\",\"yes\",\"yes\",\"no\",\"no\",5,3,2,1,1,1,0,\"16\",\"17\",18\\n\"MS\",\"F\",17,\"R\",\"GT3\",\"T\",2,2,\"other\",\"other\",\"reputation\",\"mother\",2,2,0,\"no\",\"yes\",\"no\",\"yes\",\"yes\",\"yes\",\"no\",\"no\",5,3,2,1,1,1,0,\"15\",\"17\",17\\n\"MS\",\"F\",17,\"U\",\"GT3\",\"A\",1,0,\"other\",\"other\",\"other\",\"mother\",2,2,0,\"no\",\"no\",\"no\",\"no\",\"yes\",\"yes\",\"yes\",\"yes\",4,4,5,1,1,4,1,\"11\",\"9\",10\\n\"MS\",\"F\",18,\"R\",\"GT3\",\"T\",1,1,\"at_home\",\"other\",\"other\",\"mother\",1,2,1,\"no\",\"yes\",\"no\",\"no\",\"yes\",\"yes\",\"yes\",\"yes\",4,3,2,1,1,5,9,\"7\",\"7\",7\\n\"MS\",\"F\",16,\"U\",\"GT3\",\"T\",3,1,\"other\",\"other\",\"course\",\"mother\",1,1,0,\"no\",\"no\",\"no\",\"yes\",\"yes\",\"yes\",\"yes\",\"no\",3,1,3,1,3,1,0,\"8\",\"6\",8\\n\"MS\",\"F\",16,\"U\",\"GT3\",\"T\",3,2,\"services\",\"at_home\",\"course\",\"mother\",1,1,0,\"no\",\"no\",\"no\",\"no\",\"yes\",\"yes\",\"yes\",\"no\",3,1,3,1,4,3,2,\"7\",\"6\",7\\n\"MS\",\"F\",18,\"U\",\"LE3\",\"T\",1,1,\"other\",\"at_home\",\"reputation\",\"mother\",2,2,0,\"yes\",\"no\",\"no\",\"no\",\"yes\",\"yes\",\"no\",\"no\",2,3,5,1,4,3,8,\"9\",\"8\",10\\n\"MS\",\"F\",16,\"R\",\"GT3\",\"T\",4,4,\"health\",\"teacher\",\"reputation\",\"father\",1,2,0,\"no\",\"no\",\"no\",\"yes\",\"no\",\"yes\",\"yes\",\"yes\",4,3,3,2,3,2,0,\"14\",\"16\",16\\n\"MS\",\"F\",16,\"R\",\"LE3\",\"T\",1,2,\"other\",\"other\",\"reputation\",\"mother\",2,1,0,\"no\",\"no\",\"no\",\"yes\",\"yes\",\"yes\",\"yes\",\"no\",5,4,5,1,4,2,0,\"14\",\"14\",15\\n\"MS\",\"F\",18,\"U\",\"GT3\",\"A\",2,4,\"other\",\"services\",\"reputation\",\"father\",1,2,1,\"no\",\"yes\",\"no\",\"no\",\"yes\",\"yes\",\"yes\",\"no\",2,3,2,1,3,1,8,\"8\",\"5\",8\\n\"MS\",\"M\",16,\"R\",\"GT3\",\"T\",2,1,\"other\",\"services\",\"reputation\",\"mother\",2,2,0,\"no\",\"no\",\"no\",\"yes\",\"yes\",\"yes\",\"yes\",\"no\",5,2,1,1,1,2,0,\"8\",\"7\",0\\n\"MS\",\"F\",16,\"U\",\"LE3\",\"T\",1,1,\"at_home\",\"other\",\"other\",\"mother\",3,2,0,\"no\",\"yes\",\"no\",\"no\",\"yes\",\"yes\",\"yes\",\"no\",4,3,2,1,3,5,6,\"6\",\"8\",8\\n\"MS\",\"F\",16,\"R\",\"GT3\",\"T\",2,3,\"at_home\",\"services\",\"other\",\"mother\",2,2,0,\"no\",\"yes\",\"no\",\"yes\",\"yes\",\"yes\",\"yes\",\"no\",3,3,3,1,1,2,0,\"8\",\"10\",10\\n\"MS\",\"F\",16,\"U\",\"GT3\",\"T\",4,4,\"health\",\"health\",\"course\",\"mother\",1,2,0,\"no\",\"yes\",\"no\",\"no\",\"yes\",\"yes\",\"yes\",\"yes\",4,3,4,1,2,3,4,\"8\",\"8\",8\\n\"MS\",\"M\",18,\"U\",\"LE3\",\"T\",4,4,\"at_home\",\"health\",\"home\",\"mother\",1,4,0,\"no\",\"yes\",\"no\",\"yes\",\"yes\",\"no\",\"yes\",\"yes\",5,5,5,5,5,5,2,\"5\",\"6\",6\\n\"MS\",\"F\",16,\"R\",\"LE3\",\"T\",3,4,\"at_home\",\"other\",\"other\",\"mother\",3,2,0,\"no\",\"yes\",\"no\",\"no\",\"no\",\"yes\",\"no\",\"no\",4,2,1,1,1,2,2,\"7\",\"9\",8\\n\"MS\",\"M\",17,\"U\",\"LE3\",\"T\",4,4,\"other\",\"services\",\"home\",\"mother\",1,3,0,\"no\",\"yes\",\"no\",\"no\",\"yes\",\"yes\",\"yes\",\"no\",4,4,3,1,2,5,0,\"15\",\"14\",16\\n\"MS\",\"F\",17,\"R\",\"GT3\",\"T\",4,1,\"other\",\"other\",\"other\",\"mother\",1,1,0,\"no\",\"no\",\"no\",\"no\",\"yes\",\"yes\",\"yes\",\"yes\",4,2,3,1,2,5,1,\"13\",\"14\",14\\n\"MS\",\"M\",16,\"U\",\"LE3\",\"T\",2,2,\"services\",\"services\",\"other\",\"mother\",4,3,0,\"no\",\"no\",\"no\",\"no\",\"yes\",\"yes\",\"no\",\"no\",5,1,3,2,2,3,0,\"10\",\"9\",10\\n\"MS\",\"F\",17,\"R\",\"GT3\",\"T\",2,2,\"at_home\",\"other\",\"other\",\"mother\",1,1,0,\"no\",\"yes\",\"yes\",\"no\",\"yes\",\"yes\",\"yes\",\"no\",5,1,3,1,2,5,5,\"9\",\"9\",9\\n\"MS\",\"F\",16,\"U\",\"LE3\",\"T\",4,4,\"services\",\"services\",\"other\",\"father\",2,1,0,\"no\",\"yes\",\"no\",\"no\",\"yes\",\"yes\",\"no\",\"no\",5,1,3,1,2,5,1,\"11\",\"11\",11\\n\"MS\",\"M\",17,\"U\",\"GT3\",\"T\",3,3,\"services\",\"services\",\"home\",\"mother\",1,1,0,\"no\",\"yes\",\"no\",\"yes\",\"yes\",\"yes\",\"yes\",\"no\",4,1,4,5,5,3,8,\"7\",\"10\",9\\n\"MS\",\"M\",17,\"U\",\"GT3\",\"T\",1,1,\"at_home\",\"services\",\"other\",\"mother\",3,2,0,\"no\",\"no\",\"no\",\"no\",\"yes\",\"yes\",\"yes\",\"yes\",5,1,3,3,3,1,0,\"10\",\"10\",10\\n\"MS\",\"M\",16,\"U\",\"GT3\",\"T\",2,1,\"health\",\"services\",\"other\",\"mother\",2,2,0,\"no\",\"no\",\"no\",\"no\",\"no\",\"yes\",\"yes\",\"yes\",4,2,2,1,4,5,2,\"9\",\"7\",8\\n\"MS\",\"F\",16,\"U\",\"LE3\",\"T\",2,1,\"other\",\"services\",\"other\",\"mother\",1,2,0,\"no\",\"no\",\"no\",\"no\",\"yes\",\"yes\",\"yes\",\"yes\",3,2,2,1,1,3,0,\"14\",\"15\",16\\n\"MS\",\"M\",16,\"U\",\"LE3\",\"T\",4,4,\"teacher\",\"health\",\"other\",\"father\",1,1,0,\"no\",\"yes\",\"no\",\"no\",\"yes\",\"yes\",\"yes\",\"no\",4,1,2,2,5,5,0,\"11\",\"12\",12\\n\"MS\",\"M\",15,\"R\",\"GT3\",\"T\",1,2,\"other\",\"services\",\"course\",\"mother\",3,2,0,\"no\",\"yes\",\"no\",\"yes\",\"yes\",\"yes\",\"no\",\"no\",5,5,5,1,3,5,11,\"9\",\"11\",10\\n\"MS\",\"M\",15,\"U\",\"LE3\",\"A\",2,2,\"other\",\"other\",\"reputation\",\"mother\",3,4,0,\"no\",\"yes\",\"no\",\"yes\",\"yes\",\"yes\",\"no\",\"no\",5,4,5,2,3,5,8,\"13\",\"14\",14\\n\"MS\",\"M\",15,\"U\",\"LE3\",\"A\",2,1,\"services\",\"services\",\"course\",\"mother\",1,1,0,\"no\",\"no\",\"no\",\"yes\",\"yes\",\"yes\",\"yes\",\"no\",4,3,3,1,2,5,11,\"12\",\"13\",12\\n\"MS\",\"F\",16,\"R\",\"LE3\",\"T\",2,2,\"other\",\"other\",\"course\",\"mother\",1,3,0,\"no\",\"yes\",\"no\",\"no\",\"no\",\"yes\",\"no\",\"yes\",4,3,3,2,2,5,2,\"11\",\"11\",11\\n\"MS\",\"F\",16,\"U\",\"LE3\",\"T\",4,1,\"other\",\"other\",\"home\",\"mother\",2,2,0,\"no\",\"yes\",\"no\",\"yes\",\"yes\",\"yes\",\"yes\",\"no\",1,2,4,2,2,1,8,\"9\",\"10\",10\\n\"MS\",\"F\",17,\"U\",\"GT3\",\"T\",3,2,\"at_home\",\"other\",\"home\",\"mother\",2,1,0,\"no\",\"no\",\"no\",\"no\",\"yes\",\"yes\",\"no\",\"yes\",4,3,3,2,2,1,5,\"9\",\"11\",11\\n\"MS\",\"F\",17,\"R\",\"GT3\",\"T\",2,2,\"other\",\"other\",\"other\",\"mother\",2,2,0,\"yes\",\"no\",\"yes\",\"no\",\"yes\",\"yes\",\"no\",\"no\",5,1,3,1,1,5,0,\"11\",\"9\",11\\n\"MS\",\"F\",16,\"U\",\"GT3\",\"T\",4,4,\"teacher\",\"services\",\"course\",\"mother\",2,3,0,\"no\",\"yes\",\"no\",\"no\",\"yes\",\"yes\",\"yes\",\"yes\",5,3,5,1,4,5,1,\"10\",\"11\",12\\n\"MS\",\"M\",17,\"R\",\"GT3\",\"T\",4,4,\"health\",\"other\",\"course\",\"father\",3,1,3,\"no\",\"no\",\"no\",\"yes\",\"yes\",\"yes\",\"yes\",\"yes\",3,3,3,1,3,5,2,\"9\",\"9\",8\\n\"MS\",\"M\",17,\"R\",\"LE3\",\"T\",1,3,\"other\",\"other\",\"course\",\"father\",2,1,0,\"no\",\"no\",\"no\",\"yes\",\"yes\",\"yes\",\"no\",\"yes\",5,1,2,3,3,5,2,\"12\",\"11\",12\\n\"MS\",\"M\",17,\"U\",\"GT3\",\"T\",3,4,\"services\",\"other\",\"other\",\"mother\",1,2,1,\"no\",\"yes\",\"no\",\"yes\",\"no\",\"yes\",\"yes\",\"yes\",5,4,4,3,4,5,8,\"8\",\"9\",8\\n\"MS\",\"F\",17,\"U\",\"GT3\",\"T\",4,4,\"health\",\"health\",\"course\",\"father\",1,2,0,\"no\",\"yes\",\"no\",\"no\",\"yes\",\"yes\",\"yes\",\"no\",5,2,5,1,1,5,0,\"13\",\"15\",16\\n\"MS\",\"M\",16,\"R\",\"LE3\",\"T\",4,1,\"other\",\"at_home\",\"other\",\"father\",1,1,0,\"no\",\"no\",\"no\",\"no\",\"yes\",\"yes\",\"yes\",\"no\",4,1,2,2,1,2,0,\"10\",\"11\",11\\n\"MS\",\"F\",17,\"U\",\"GT3\",\"A\",1,1,\"at_home\",\"at_home\",\"other\",\"mother\",1,2,0,\"no\",\"no\",\"no\",\"yes\",\"yes\",\"yes\",\"yes\",\"yes\",4,5,5,1,2,3,2,\"11\",\"10\",11\\n\"MS\",\"F\",17,\"R\",\"GT3\",\"T\",4,2,\"other\",\"other\",\"course\",\"mother\",2,2,0,\"yes\",\"yes\",\"no\",\"no\",\"no\",\"yes\",\"yes\",\"no\",4,3,3,2,3,5,0,\"17\",\"18\",18\\n\"MS\",\"M\",16,\"U\",\"LE3\",\"A\",2,2,\"other\",\"services\",\"course\",\"father\",2,2,0,\"no\",\"yes\",\"no\",\"no\",\"no\",\"yes\",\"yes\",\"yes\",4,1,2,2,2,5,0,\"12\",\"13\",13\\n\"MS\",\"M\",17,\"U\",\"GT3\",\"T\",3,2,\"other\",\"other\",\"other\",\"father\",2,2,0,\"no\",\"yes\",\"yes\",\"no\",\"yes\",\"yes\",\"yes\",\"no\",4,1,2,2,2,1,0,\"13\",\"14\",13\\n\"MS\",\"M\",19,\"U\",\"GT3\",\"T\",1,1,\"other\",\"other\",\"other\",\"mother\",1,2,2,\"no\",\"yes\",\"no\",\"yes\",\"yes\",\"no\",\"yes\",\"no\",4,4,3,3,4,4,2,\"9\",\"9\",10\\n\"MS\",\"M\",17,\"U\",\"LE3\",\"A\",1,0,\"other\",\"other\",\"home\",\"mother\",1,1,0,\"no\",\"no\",\"no\",\"no\",\"yes\",\"yes\",\"no\",\"yes\",4,1,2,1,1,5,4,\"11\",\"11\",12\\n\"MS\",\"F\",17,\"R\",\"GT3\",\"T\",1,1,\"at_home\",\"at_home\",\"course\",\"father\",2,1,0,\"no\",\"yes\",\"no\",\"yes\",\"yes\",\"no\",\"yes\",\"yes\",3,5,5,2,2,4,3,\"10\",\"11\",10\\n\"MS\",\"F\",16,\"R\",\"GT3\",\"T\",1,2,\"other\",\"other\",\"home\",\"father\",1,3,0,\"yes\",\"yes\",\"no\",\"no\",\"no\",\"yes\",\"yes\",\"yes\",4,3,4,1,1,3,5,\"13\",\"14\",13\\n\"MS\",\"M\",16,\"R\",\"LE3\",\"T\",1,2,\"other\",\"at_home\",\"course\",\"mother\",1,1,0,\"no\",\"no\",\"no\",\"no\",\"yes\",\"yes\",\"no\",\"no\",4,4,4,2,4,5,4,\"9\",\"10\",11\\n\"MS\",\"F\",17,\"R\",\"GT3\",\"T\",3,1,\"other\",\"other\",\"course\",\"mother\",2,2,3,\"no\",\"yes\",\"no\",\"yes\",\"no\",\"yes\",\"yes\",\"yes\",5,4,4,1,1,5,2,\"7\",\"9\",10\\n\"MS\",\"M\",17,\"R\",\"GT3\",\"T\",2,2,\"other\",\"other\",\"course\",\"mother\",2,1,0,\"no\",\"no\",\"no\",\"yes\",\"yes\",\"no\",\"no\",\"yes\",5,5,5,3,5,5,0,\"8\",\"13\",10\\n\"MS\",\"M\",18,\"R\",\"GT3\",\"T\",1,0,\"at_home\",\"at_home\",\"course\",\"other\",3,1,1,\"yes\",\"yes\",\"no\",\"no\",\"yes\",\"yes\",\"no\",\"no\",4,3,2,1,1,4,0,\"12\",\"12\",13\\n\"MS\",\"M\",17,\"R\",\"GT3\",\"T\",1,1,\"other\",\"services\",\"course\",\"mother\",2,1,0,\"no\",\"yes\",\"no\",\"yes\",\"no\",\"yes\",\"yes\",\"yes\",4,5,5,1,3,2,0,\"10\",\"9\",10\\n\"MS\",\"M\",18,\"U\",\"LE3\",\"T\",1,1,\"at_home\",\"at_home\",\"course\",\"mother\",2,2,0,\"no\",\"yes\",\"no\",\"yes\",\"yes\",\"yes\",\"no\",\"no\",4,3,3,1,4,5,6,\"10\",\"9\",10\\n\"MS\",\"F\",16,\"R\",\"LE3\",\"T\",2,2,\"other\",\"services\",\"course\",\"father\",1,2,0,\"no\",\"no\",\"no\",\"yes\",\"yes\",\"yes\",\"no\",\"yes\",5,4,3,1,1,1,0,\"11\",\"13\",12\\n\"MS\",\"M\",17,\"U\",\"GT3\",\"T\",2,2,\"other\",\"other\",\"course\",\"mother\",1,1,1,\"no\",\"no\",\"no\",\"yes\",\"yes\",\"yes\",\"no\",\"yes\",1,2,1,2,3,5,0,\"7\",\"0\",0\\n\"MS\",\"M\",16,\"R\",\"GT3\",\"T\",3,2,\"services\",\"other\",\"course\",\"father\",2,1,0,\"no\",\"no\",\"no\",\"no\",\"yes\",\"yes\",\"yes\",\"no\",4,5,5,2,3,5,2,\"11\",\"9\",10\\n\"MS\",\"M\",16,\"R\",\"LE3\",\"T\",1,1,\"at_home\",\"other\",\"course\",\"mother\",2,1,0,\"no\",\"no\",\"no\",\"yes\",\"yes\",\"yes\",\"yes\",\"no\",4,5,5,2,4,5,0,\"10\",\"10\",9\\n\"MS\",\"M\",18,\"R\",\"GT3\",\"T\",1,1,\"services\",\"other\",\"course\",\"other\",2,1,1,\"no\",\"yes\",\"no\",\"no\",\"yes\",\"no\",\"yes\",\"yes\",5,3,3,2,3,5,2,\"9\",\"7\",9\\n\"MS\",\"M\",18,\"R\",\"GT3\",\"T\",3,2,\"services\",\"other\",\"course\",\"mother\",1,1,1,\"no\",\"no\",\"no\",\"no\",\"yes\",\"no\",\"yes\",\"no\",2,3,1,2,2,5,0,\"4\",\"0\",0\\n\"MS\",\"M\",19,\"U\",\"GT3\",\"T\",3,2,\"at_home\",\"services\",\"course\",\"mother\",2,1,3,\"no\",\"no\",\"no\",\"yes\",\"yes\",\"yes\",\"no\",\"no\",3,2,1,1,1,3,4,\"6\",\"11\",9\\n\"MS\",\"M\",18,\"U\",\"GT3\",\"T\",3,3,\"at_home\",\"at_home\",\"course\",\"mother\",1,2,2,\"no\",\"yes\",\"no\",\"yes\",\"yes\",\"no\",\"yes\",\"no\",4,4,5,1,3,3,9,\"4\",\"8\",8\\n\"MS\",\"M\",16,\"R\",\"GT3\",\"T\",2,2,\"services\",\"services\",\"course\",\"mother\",2,1,0,\"no\",\"yes\",\"no\",\"yes\",\"yes\",\"yes\",\"yes\",\"yes\",5,4,3,2,4,4,6,\"7\",\"8\",8\\n\"MS\",\"M\",19,\"U\",\"GT3\",\"T\",2,1,\"at_home\",\"other\",\"course\",\"other\",2,1,3,\"no\",\"no\",\"no\",\"yes\",\"no\",\"no\",\"yes\",\"yes\",4,4,3,1,3,5,4,\"8\",\"9\",9\\n\"MS\",\"F\",16,\"U\",\"GT3\",\"A\",3,2,\"services\",\"at_home\",\"course\",\"mother\",2,2,2,\"no\",\"yes\",\"no\",\"yes\",\"yes\",\"yes\",\"no\",\"yes\",2,5,5,1,1,1,8,\"5\",\"5\",7\\n\"MS\",\"F\",17,\"U\",\"GT3\",\"T\",1,1,\"other\",\"at_home\",\"course\",\"mother\",1,1,0,\"no\",\"yes\",\"no\",\"yes\",\"yes\",\"yes\",\"no\",\"no\",4,3,2,1,2,5,9,\"7\",\"9\",10\\n\"MS\",\"M\",20,\"R\",\"GT3\",\"T\",1,1,\"other\",\"other\",\"course\",\"other\",2,1,1,\"no\",\"yes\",\"no\",\"no\",\"yes\",\"no\",\"yes\",\"yes\",4,4,3,2,4,4,12,\"8\",\"11\",10\\n\"MS\",\"F\",18,\"R\",\"GT3\",\"A\",4,3,\"services\",\"services\",\"course\",\"mother\",1,1,0,\"no\",\"yes\",\"no\",\"no\",\"yes\",\"yes\",\"yes\",\"no\",5,4,4,3,4,2,8,\"10\",\"11\",10\\n\"MS\",\"M\",18,\"R\",\"GT3\",\"T\",3,2,\"other\",\"other\",\"course\",\"mother\",2,1,0,\"no\",\"yes\",\"no\",\"no\",\"no\",\"yes\",\"yes\",\"no\",2,5,5,5,5,5,8,\"9\",\"10\",11\\n\"MS\",\"M\",19,\"R\",\"GT3\",\"T\",1,1,\"other\",\"services\",\"home\",\"other\",3,2,1,\"no\",\"no\",\"no\",\"no\",\"yes\",\"yes\",\"yes\",\"no\",5,4,4,3,3,2,8,\"10\",\"9\",11\\n\"MS\",\"M\",17,\"U\",\"GT3\",\"T\",3,3,\"health\",\"other\",\"course\",\"mother\",2,2,1,\"no\",\"yes\",\"no\",\"no\",\"yes\",\"yes\",\"yes\",\"no\",4,5,4,2,3,3,4,\"8\",\"9\",10\\n\"MS\",\"M\",18,\"U\",\"LE3\",\"T\",1,3,\"at_home\",\"services\",\"course\",\"mother\",1,1,0,\"no\",\"no\",\"no\",\"no\",\"yes\",\"no\",\"yes\",\"yes\",4,3,3,2,3,3,0,\"9\",\"10\",9\\n\"MS\",\"M\",19,\"R\",\"GT3\",\"T\",1,1,\"other\",\"other\",\"home\",\"other\",3,1,1,\"no\",\"yes\",\"no\",\"no\",\"yes\",\"yes\",\"yes\",\"no\",4,4,4,3,3,5,4,\"8\",\"9\",10\\n\"MS\",\"F\",18,\"U\",\"GT3\",\"A\",1,2,\"at_home\",\"other\",\"course\",\"mother\",2,2,2,\"no\",\"yes\",\"no\",\"no\",\"yes\",\"yes\",\"no\",\"no\",4,3,3,1,1,5,2,\"6\",\"8\",8\\n\"MS\",\"F\",19,\"U\",\"LE3\",\"A\",1,1,\"at_home\",\"other\",\"course\",\"mother\",1,1,0,\"no\",\"yes\",\"no\",\"no\",\"yes\",\"no\",\"no\",\"no\",1,4,4,1,1,5,0,\"6\",\"8\",7\\n\"MS\",\"F\",18,\"R\",\"GT3\",\"T\",2,2,\"other\",\"other\",\"other\",\"mother\",2,1,1,\"no\",\"no\",\"no\",\"no\",\"yes\",\"no\",\"yes\",\"yes\",5,5,5,1,1,3,0,\"8\",\"6\",0\\n\"MS\",\"F\",17,\"R\",\"GT3\",\"T\",0,0,\"at_home\",\"other\",\"course\",\"mother\",2,1,0,\"no\",\"yes\",\"no\",\"no\",\"yes\",\"yes\",\"yes\",\"no\",4,4,3,1,1,5,0,\"10\",\"11\",11\\n\"MS\",\"F\",17,\"R\",\"LE3\",\"A\",3,1,\"other\",\"at_home\",\"course\",\"other\",2,3,0,\"no\",\"yes\",\"yes\",\"no\",\"yes\",\"no\",\"no\",\"no\",4,2,3,2,2,3,5,\"8\",\"7\",8\\n\"MS\",\"F\",17,\"U\",\"GT3\",\"T\",4,2,\"teacher\",\"services\",\"home\",\"mother\",1,2,0,\"yes\",\"yes\",\"no\",\"yes\",\"yes\",\"yes\",\"yes\",\"no\",5,5,5,1,3,5,0,\"8\",\"8\",0\\n\"MS\",\"F\",18,\"R\",\"LE3\",\"T\",2,2,\"services\",\"services\",\"course\",\"mother\",1,2,1,\"no\",\"yes\",\"no\",\"yes\",\"yes\",\"yes\",\"yes\",\"no\",2,3,3,1,2,4,3,\"7\",\"6\",8\\n\"MS\",\"F\",17,\"U\",\"GT3\",\"T\",4,1,\"health\",\"at_home\",\"course\",\"mother\",1,1,0,\"no\",\"yes\",\"no\",\"no\",\"yes\",\"yes\",\"no\",\"yes\",3,2,2,1,1,5,0,\"8\",\"10\",9\\n\"MS\",\"F\",17,\"U\",\"LE3\",\"T\",1,2,\"at_home\",\"other\",\"course\",\"father\",1,1,0,\"no\",\"no\",\"no\",\"no\",\"yes\",\"yes\",\"yes\",\"no\",5,5,1,1,1,3,0,\"7\",\"10\",10\\n\"MS\",\"F\",18,\"U\",\"GT3\",\"T\",1,1,\"other\",\"other\",\"course\",\"mother\",3,2,2,\"no\",\"no\",\"no\",\"yes\",\"yes\",\"yes\",\"no\",\"yes\",3,4,4,2,2,5,3,\"7\",\"8\",7\\n\"MS\",\"F\",18,\"U\",\"GT3\",\"T\",2,2,\"services\",\"at_home\",\"reputation\",\"father\",2,2,0,\"no\",\"no\",\"no\",\"yes\",\"no\",\"yes\",\"yes\",\"no\",4,3,5,1,1,1,2,\"12\",\"13\",14\\n\"MS\",\"F\",17,\"U\",\"GT3\",\"T\",3,3,\"services\",\"services\",\"course\",\"mother\",2,1,0,\"no\",\"yes\",\"no\",\"no\",\"yes\",\"yes\",\"yes\",\"no\",4,4,3,1,1,4,0,\"11\",\"12\",13\\n\"MS\",\"F\",18,\"U\",\"LE3\",\"A\",1,2,\"at_home\",\"other\",\"reputation\",\"mother\",2,2,0,\"no\",\"no\",\"no\",\"no\",\"yes\",\"yes\",\"yes\",\"no\",4,4,3,1,2,4,0,\"12\",\"13\",14\\n\"MS\",\"F\",18,\"U\",\"GT3\",\"T\",4,4,\"teacher\",\"teacher\",\"reputation\",\"mother\",2,2,0,\"no\",\"no\",\"no\",\"yes\",\"no\",\"yes\",\"yes\",\"no\",4,3,5,1,2,1,0,\"18\",\"18\",18\\n\"MS\",\"M\",18,\"U\",\"LE3\",\"T\",4,4,\"services\",\"other\",\"reputation\",\"mother\",1,1,0,\"no\",\"yes\",\"no\",\"yes\",\"yes\",\"yes\",\"yes\",\"no\",5,4,5,1,1,5,3,\"17\",\"17\",17\\n\"MS\",\"F\",17,\"U\",\"GT3\",\"T\",4,2,\"other\",\"other\",\"course\",\"mother\",2,2,0,\"no\",\"yes\",\"no\",\"no\",\"yes\",\"yes\",\"yes\",\"no\",4,3,3,1,2,4,0,\"17\",\"18\",18\\n\"MS\",\"F\",18,\"R\",\"GT3\",\"T\",2,2,\"at_home\",\"other\",\"course\",\"mother\",3,2,1,\"no\",\"no\",\"no\",\"yes\",\"yes\",\"yes\",\"no\",\"yes\",4,3,3,1,1,4,0,\"9\",\"0\",0\\n\"MS\",\"M\",18,\"U\",\"LE3\",\"T\",1,2,\"at_home\",\"services\",\"home\",\"mother\",2,1,0,\"no\",\"yes\",\"no\",\"no\",\"no\",\"yes\",\"no\",\"no\",4,1,4,5,5,1,8,\"10\",\"11\",11\\n\"MS\",\"M\",18,\"R\",\"GT3\",\"T\",4,4,\"at_home\",\"services\",\"other\",\"mother\",3,1,0,\"no\",\"yes\",\"yes\",\"yes\",\"yes\",\"yes\",\"yes\",\"yes\",2,5,5,1,1,1,5,\"12\",\"13\",14\\n\"MS\",\"M\",17,\"R\",\"GT3\",\"T\",1,1,\"other\",\"services\",\"other\",\"father\",3,1,0,\"no\",\"no\",\"no\",\"no\",\"no\",\"no\",\"no\",\"no\",4,2,3,3,4,4,4,\"12\",\"13\",14\\n\"MS\",\"F\",18,\"U\",\"GT3\",\"T\",2,2,\"other\",\"other\",\"course\",\"mother\",2,2,0,\"no\",\"yes\",\"no\",\"no\",\"no\",\"yes\",\"yes\",\"yes\",1,3,1,1,1,2,4,\"8\",\"8\",10\\n\"MS\",\"F\",18,\"U\",\"LE3\",\"T\",2,2,\"services\",\"services\",\"course\",\"father\",2,3,0,\"no\",\"no\",\"no\",\"no\",\"yes\",\"yes\",\"yes\",\"yes\",5,4,5,1,4,3,0,\"11\",\"12\",13\\n\"MS\",\"F\",18,\"R\",\"LE3\",\"A\",4,2,\"teacher\",\"other\",\"reputation\",\"mother\",1,2,0,\"no\",\"no\",\"no\",\"yes\",\"yes\",\"yes\",\"yes\",\"yes\",5,3,1,1,1,5,0,\"5\",\"0\",0\\n\"MS\",\"F\",18,\"U\",\"GT3\",\"T\",1,1,\"at_home\",\"services\",\"course\",\"mother\",3,2,1,\"no\",\"no\",\"no\",\"no\",\"yes\",\"no\",\"no\",\"no\",4,4,2,1,2,2,2,\"9\",\"10\",10\\n\"MS\",\"F\",19,\"U\",\"GT3\",\"T\",1,1,\"at_home\",\"services\",\"other\",\"father\",2,1,1,\"no\",\"no\",\"no\",\"no\",\"yes\",\"no\",\"no\",\"no\",5,5,5,2,3,2,0,\"5\",\"0\",0\\n\"MS\",\"F\",17,\"U\",\"GT3\",\"T\",4,2,\"teacher\",\"other\",\"course\",\"father\",2,4,0,\"no\",\"no\",\"no\",\"no\",\"yes\",\"yes\",\"yes\",\"yes\",4,2,3,3,1,5,0,\"18\",\"18\",18\\n\"MS\",\"F\",17,\"R\",\"LE3\",\"A\",2,1,\"services\",\"other\",\"reputation\",\"mother\",2,2,0,\"no\",\"no\",\"no\",\"yes\",\"yes\",\"yes\",\"yes\",\"yes\",5,3,3,1,2,2,5,\"11\",\"11\",12\\n\"MS\",\"F\",18,\"U\",\"LE3\",\"A\",1,1,\"at_home\",\"services\",\"course\",\"mother\",1,2,0,\"no\",\"no\",\"no\",\"no\",\"yes\",\"yes\",\"no\",\"yes\",5,2,3,1,2,3,2,\"8\",\"10\",11\\n\"MS\",\"F\",18,\"U\",\"GT3\",\"T\",1,2,\"at_home\",\"at_home\",\"course\",\"father\",2,2,0,\"no\",\"yes\",\"no\",\"no\",\"yes\",\"no\",\"no\",\"no\",4,1,1,1,1,4,0,\"11\",\"11\",12\\n\"MS\",\"F\",19,\"R\",\"GT3\",\"A\",1,1,\"at_home\",\"at_home\",\"course\",\"other\",2,2,3,\"no\",\"yes\",\"no\",\"yes\",\"yes\",\"no\",\"no\",\"yes\",3,5,4,1,4,1,0,\"8\",\"0\",0\\n\"MS\",\"F\",18,\"R\",\"GT3\",\"T\",2,2,\"services\",\"other\",\"home\",\"mother\",2,3,0,\"no\",\"no\",\"no\",\"no\",\"yes\",\"yes\",\"yes\",\"yes\",4,2,1,1,1,4,5,\"14\",\"14\",15\\n\"MS\",\"M\",17,\"R\",\"GT3\",\"T\",4,3,\"services\",\"other\",\"home\",\"mother\",2,2,1,\"no\",\"yes\",\"yes\",\"yes\",\"no\",\"yes\",\"yes\",\"yes\",4,5,5,1,3,2,4,\"10\",\"11\",11\\n\"MS\",\"F\",18,\"U\",\"GT3\",\"T\",3,3,\"services\",\"services\",\"course\",\"father\",1,2,0,\"no\",\"yes\",\"no\",\"no\",\"yes\",\"yes\",\"no\",\"yes\",5,3,4,1,1,5,0,\"10\",\"10\",10\\n\"MS\",\"F\",17,\"R\",\"GT3\",\"T\",4,4,\"teacher\",\"services\",\"other\",\"father\",2,2,0,\"no\",\"yes\",\"yes\",\"yes\",\"yes\",\"yes\",\"yes\",\"no\",4,3,3,1,2,5,2,\"12\",\"12\",12\\n\"MS\",\"F\",17,\"U\",\"LE3\",\"A\",3,2,\"services\",\"other\",\"reputation\",\"mother\",2,2,0,\"no\",\"no\",\"no\",\"no\",\"yes\",\"yes\",\"no\",\"yes\",1,2,3,1,2,5,0,\"15\",\"14\",15\\n\"MS\",\"M\",18,\"U\",\"LE3\",\"T\",1,1,\"other\",\"services\",\"home\",\"father\",2,1,0,\"no\",\"no\",\"no\",\"no\",\"no\",\"yes\",\"yes\",\"yes\",3,3,2,1,2,3,2,\"14\",\"13\",14\\n\"MS\",\"F\",18,\"U\",\"LE3\",\"T\",1,1,\"at_home\",\"services\",\"course\",\"father\",2,3,0,\"no\",\"no\",\"no\",\"no\",\"yes\",\"yes\",\"yes\",\"no\",5,3,2,1,1,4,0,\"19\",\"17\",18\\n\"MS\",\"F\",18,\"R\",\"LE3\",\"A\",1,2,\"at_home\",\"other\",\"course\",\"mother\",3,2,0,\"no\",\"no\",\"no\",\"no\",\"yes\",\"yes\",\"no\",\"yes\",4,3,4,1,4,5,0,\"16\",\"15\",15\\n\"MS\",\"F\",18,\"U\",\"GT3\",\"T\",3,3,\"services\",\"services\",\"other\",\"mother\",2,2,0,\"no\",\"yes\",\"no\",\"no\",\"yes\",\"yes\",\"yes\",\"yes\",4,3,2,1,3,3,6,\"13\",\"12\",13\\n\"MS\",\"F\",17,\"U\",\"LE3\",\"T\",4,4,\"at_home\",\"at_home\",\"course\",\"mother\",1,2,0,\"no\",\"yes\",\"no\",\"yes\",\"yes\",\"yes\",\"yes\",\"yes\",2,3,4,1,1,1,4,\"15\",\"14\",15\\n\"MS\",\"F\",17,\"R\",\"GT3\",\"T\",1,2,\"other\",\"services\",\"course\",\"father\",2,2,0,\"no\",\"no\",\"no\",\"no\",\"no\",\"yes\",\"no\",\"no\",3,2,2,1,2,3,0,\"13\",\"13\",13\\n\"MS\",\"M\",18,\"R\",\"GT3\",\"T\",1,3,\"at_home\",\"other\",\"course\",\"mother\",2,2,0,\"no\",\"yes\",\"yes\",\"no\",\"yes\",\"yes\",\"no\",\"no\",3,3,4,2,4,3,0,\"8\",\"10\",9\\n\"MS\",\"M\",18,\"U\",\"LE3\",\"T\",4,4,\"teacher\",\"services\",\"other\",\"mother\",2,3,0,\"no\",\"no\",\"no\",\"no\",\"yes\",\"yes\",\"yes\",\"yes\",4,2,2,2,2,5,0,\"15\",\"16\",16\\n\"MS\",\"F\",17,\"R\",\"GT3\",\"T\",1,1,\"other\",\"services\",\"reputation\",\"mother\",3,1,1,\"no\",\"yes\",\"no\",\"no\",\"yes\",\"yes\",\"yes\",\"yes\",5,2,1,1,2,1,0,\"8\",\"8\",9\\n\"MS\",\"F\",18,\"U\",\"GT3\",\"T\",2,3,\"at_home\",\"services\",\"course\",\"father\",2,1,0,\"no\",\"yes\",\"no\",\"no\",\"yes\",\"yes\",\"yes\",\"yes\",5,2,3,1,2,4,0,\"10\",\"10\",10\\n\"MS\",\"F\",18,\"R\",\"GT3\",\"T\",4,4,\"other\",\"teacher\",\"other\",\"father\",3,2,0,\"no\",\"yes\",\"no\",\"no\",\"no\",\"yes\",\"yes\",\"yes\",3,2,2,4,2,5,0,\"7\",\"5\",0\\n\"MS\",\"M\",18,\"R\",\"LE3\",\"T\",1,2,\"at_home\",\"services\",\"other\",\"father\",3,1,0,\"no\",\"yes\",\"no\",\"yes\",\"yes\",\"no\",\"yes\",\"yes\",4,3,3,2,3,3,3,\"9\",\"10\",10\\n\"MS\",\"F\",17,\"U\",\"GT3\",\"T\",2,2,\"other\",\"at_home\",\"home\",\"mother\",1,3,0,\"no\",\"no\",\"no\",\"yes\",\"yes\",\"yes\",\"no\",\"yes\",3,4,3,1,1,3,8,\"10\",\"11\",12\\n\"MS\",\"F\",17,\"R\",\"GT3\",\"T\",1,2,\"other\",\"other\",\"course\",\"mother\",1,1,0,\"no\",\"no\",\"no\",\"yes\",\"yes\",\"yes\",\"yes\",\"no\",3,5,5,1,3,1,4,\"7\",\"8\",9\\n\"MS\",\"F\",18,\"R\",\"LE3\",\"T\",4,4,\"other\",\"other\",\"reputation\",\"mother\",2,3,0,\"no\",\"no\",\"no\",\"no\",\"yes\",\"yes\",\"yes\",\"no\",5,4,4,1,1,1,0,\"15\",\"17\",17\\n\"MS\",\"F\",18,\"R\",\"GT3\",\"T\",1,1,\"other\",\"other\",\"home\",\"mother\",4,3,0,\"no\",\"no\",\"no\",\"no\",\"yes\",\"yes\",\"yes\",\"no\",4,3,2,1,2,4,4,\"10\",\"11\",12\\n\"MS\",\"F\",19,\"R\",\"GT3\",\"T\",1,1,\"at_home\",\"other\",\"course\",\"other\",2,2,1,\"no\",\"yes\",\"no\",\"no\",\"yes\",\"yes\",\"yes\",\"yes\",4,3,3,1,1,3,4,\"7\",\"8\",9\\n\"MS\",\"F\",18,\"R\",\"LE3\",\"T\",4,4,\"teacher\",\"services\",\"course\",\"mother\",1,2,0,\"no\",\"no\",\"no\",\"yes\",\"yes\",\"yes\",\"yes\",\"no\",5,4,3,3,4,2,1,\"13\",\"14\",14\\n\"MS\",\"F\",18,\"U\",\"GT3\",\"T\",3,3,\"other\",\"other\",\"home\",\"mother\",1,2,0,\"no\",\"no\",\"no\",\"no\",\"yes\",\"yes\",\"yes\",\"yes\",4,1,3,1,2,1,1,\"16\",\"16\",16\\n\"MS\",\"F\",17,\"R\",\"GT3\",\"T\",3,1,\"at_home\",\"other\",\"reputation\",\"mother\",1,2,0,\"no\",\"yes\",\"no\",\"yes\",\"no\",\"yes\",\"yes\",\"no\",4,5,4,2,3,1,10,\"8\",\"9\",9\\n\"MS\",\"M\",18,\"U\",\"GT3\",\"T\",4,4,\"teacher\",\"teacher\",\"home\",\"father\",1,2,0,\"no\",\"no\",\"no\",\"yes\",\"no\",\"yes\",\"yes\",\"no\",3,2,4,1,4,2,4,\"17\",\"18\",19\\n\"MS\",\"M\",18,\"R\",\"GT3\",\"T\",2,1,\"other\",\"other\",\"other\",\"mother\",2,1,0,\"no\",\"no\",\"no\",\"yes\",\"no\",\"yes\",\"yes\",\"yes\",4,4,3,1,3,5,0,\"7\",\"7\",0\\n\"MS\",\"M\",17,\"U\",\"GT3\",\"T\",2,3,\"other\",\"services\",\"home\",\"father\",2,2,0,\"no\",\"no\",\"no\",\"yes\",\"yes\",\"yes\",\"yes\",\"no\",4,4,3,1,1,3,4,\"14\",\"15\",16\\n\"MS\",\"M\",19,\"R\",\"GT3\",\"T\",1,1,\"other\",\"services\",\"other\",\"mother\",2,1,1,\"no\",\"no\",\"no\",\"no\",\"yes\",\"yes\",\"no\",\"no\",4,3,2,1,3,5,0,\"5\",\"8\",0\\n\"MS\",\"M\",18,\"R\",\"GT3\",\"T\",4,2,\"other\",\"other\",\"home\",\"father\",2,1,1,\"no\",\"no\",\"yes\",\"no\",\"yes\",\"yes\",\"no\",\"no\",5,4,3,4,3,3,0,\"7\",\"7\",0\\n\"MS\",\"F\",18,\"R\",\"GT3\",\"T\",2,2,\"at_home\",\"other\",\"other\",\"mother\",2,3,0,\"no\",\"no\",\"no\",\"no\",\"yes\",\"yes\",\"no\",\"no\",5,3,3,1,3,4,0,\"14\",\"17\",15\\n\"MS\",\"F\",17,\"U\",\"GT3\",\"T\",4,3,\"teacher\",\"other\",\"other\",\"mother\",2,2,0,\"no\",\"no\",\"no\",\"no\",\"yes\",\"yes\",\"yes\",\"no\",5,5,4,1,1,1,0,\"6\",\"9\",11\\n\"MS\",\"F\",18,\"R\",\"GT3\",\"T\",4,4,\"teacher\",\"at_home\",\"reputation\",\"mother\",3,1,0,\"no\",\"yes\",\"no\",\"yes\",\"yes\",\"yes\",\"yes\",\"yes\",4,4,3,2,2,5,4,\"7\",\"9\",10\\n\"MS\",\"F\",19,\"R\",\"GT3\",\"T\",2,3,\"services\",\"other\",\"course\",\"mother\",1,3,1,\"no\",\"no\",\"no\",\"yes\",\"no\",\"yes\",\"yes\",\"no\",5,4,2,1,2,5,4,\"10\",\"11\",10\\n\"MS\",\"F\",18,\"U\",\"LE3\",\"T\",3,1,\"teacher\",\"services\",\"course\",\"mother\",1,2,0,\"no\",\"yes\",\"no\",\"no\",\"yes\",\"yes\",\"yes\",\"no\",4,3,4,1,1,1,4,\"15\",\"15\",16\\n\"MS\",\"F\",18,\"U\",\"GT3\",\"T\",1,1,\"other\",\"other\",\"course\",\"mother\",2,2,0,\"no\",\"no\",\"no\",\"yes\",\"yes\",\"yes\",\"no\",\"no\",1,1,1,1,1,5,6,\"11\",\"12\",9\\n\"MS\",\"M\",17,\"U\",\"LE3\",\"T\",3,1,\"services\",\"services\",\"course\",\"mother\",2,1,0,\"no\",\"no\",\"no\",\"no\",\"no\",\"yes\",\"yes\",\"no\",2,4,5,3,4,2,6,\"10\",\"10\",10\\n\"MS\",\"M\",18,\"R\",\"LE3\",\"T\",3,2,\"services\",\"other\",\"course\",\"mother\",3,1,0,\"no\",\"no\",\"no\",\"no\",\"no\",\"yes\",\"yes\",\"no\",4,4,1,3,4,5,4,\"10\",\"11\",11\\n'}"
            ]
          },
          "metadata": {
            "tags": []
          },
          "execution_count": 2
        }
      ]
    },
    {
      "cell_type": "code",
      "metadata": {
        "id": "ViSirIvKdV7j"
      },
      "source": [
        "import pandas as pd\r\n",
        "import sklearn "
      ],
      "execution_count": 3,
      "outputs": []
    },
    {
      "cell_type": "code",
      "metadata": {
        "colab": {
          "base_uri": "https://localhost:8080/",
          "height": 363
        },
        "id": "1IILUM6dduF7",
        "outputId": "5304e3b3-f4db-495b-bab0-189044d6c91b"
      },
      "source": [
        "df = pd.read_csv('student-por.csv')\r\n",
        "df.head(10)"
      ],
      "execution_count": 4,
      "outputs": [
        {
          "output_type": "execute_result",
          "data": {
            "text/html": [
              "<div>\n",
              "<style scoped>\n",
              "    .dataframe tbody tr th:only-of-type {\n",
              "        vertical-align: middle;\n",
              "    }\n",
              "\n",
              "    .dataframe tbody tr th {\n",
              "        vertical-align: top;\n",
              "    }\n",
              "\n",
              "    .dataframe thead th {\n",
              "        text-align: right;\n",
              "    }\n",
              "</style>\n",
              "<table border=\"1\" class=\"dataframe\">\n",
              "  <thead>\n",
              "    <tr style=\"text-align: right;\">\n",
              "      <th></th>\n",
              "      <th>school</th>\n",
              "      <th>sex</th>\n",
              "      <th>age</th>\n",
              "      <th>address</th>\n",
              "      <th>famsize</th>\n",
              "      <th>Pstatus</th>\n",
              "      <th>Medu</th>\n",
              "      <th>Fedu</th>\n",
              "      <th>Mjob</th>\n",
              "      <th>Fjob</th>\n",
              "      <th>reason</th>\n",
              "      <th>guardian</th>\n",
              "      <th>traveltime</th>\n",
              "      <th>studytime</th>\n",
              "      <th>failures</th>\n",
              "      <th>schoolsup</th>\n",
              "      <th>famsup</th>\n",
              "      <th>paid</th>\n",
              "      <th>activities</th>\n",
              "      <th>nursery</th>\n",
              "      <th>higher</th>\n",
              "      <th>internet</th>\n",
              "      <th>romantic</th>\n",
              "      <th>famrel</th>\n",
              "      <th>freetime</th>\n",
              "      <th>goout</th>\n",
              "      <th>Dalc</th>\n",
              "      <th>Walc</th>\n",
              "      <th>health</th>\n",
              "      <th>absences</th>\n",
              "      <th>G1</th>\n",
              "      <th>G2</th>\n",
              "      <th>G3</th>\n",
              "    </tr>\n",
              "  </thead>\n",
              "  <tbody>\n",
              "    <tr>\n",
              "      <th>0</th>\n",
              "      <td>GP</td>\n",
              "      <td>F</td>\n",
              "      <td>18</td>\n",
              "      <td>U</td>\n",
              "      <td>GT3</td>\n",
              "      <td>A</td>\n",
              "      <td>4</td>\n",
              "      <td>4</td>\n",
              "      <td>at_home</td>\n",
              "      <td>teacher</td>\n",
              "      <td>course</td>\n",
              "      <td>mother</td>\n",
              "      <td>2</td>\n",
              "      <td>2</td>\n",
              "      <td>0</td>\n",
              "      <td>yes</td>\n",
              "      <td>no</td>\n",
              "      <td>no</td>\n",
              "      <td>no</td>\n",
              "      <td>yes</td>\n",
              "      <td>yes</td>\n",
              "      <td>no</td>\n",
              "      <td>no</td>\n",
              "      <td>4</td>\n",
              "      <td>3</td>\n",
              "      <td>4</td>\n",
              "      <td>1</td>\n",
              "      <td>1</td>\n",
              "      <td>3</td>\n",
              "      <td>4</td>\n",
              "      <td>0</td>\n",
              "      <td>11</td>\n",
              "      <td>11</td>\n",
              "    </tr>\n",
              "    <tr>\n",
              "      <th>1</th>\n",
              "      <td>GP</td>\n",
              "      <td>F</td>\n",
              "      <td>17</td>\n",
              "      <td>U</td>\n",
              "      <td>GT3</td>\n",
              "      <td>T</td>\n",
              "      <td>1</td>\n",
              "      <td>1</td>\n",
              "      <td>at_home</td>\n",
              "      <td>other</td>\n",
              "      <td>course</td>\n",
              "      <td>father</td>\n",
              "      <td>1</td>\n",
              "      <td>2</td>\n",
              "      <td>0</td>\n",
              "      <td>no</td>\n",
              "      <td>yes</td>\n",
              "      <td>no</td>\n",
              "      <td>no</td>\n",
              "      <td>no</td>\n",
              "      <td>yes</td>\n",
              "      <td>yes</td>\n",
              "      <td>no</td>\n",
              "      <td>5</td>\n",
              "      <td>3</td>\n",
              "      <td>3</td>\n",
              "      <td>1</td>\n",
              "      <td>1</td>\n",
              "      <td>3</td>\n",
              "      <td>2</td>\n",
              "      <td>9</td>\n",
              "      <td>11</td>\n",
              "      <td>11</td>\n",
              "    </tr>\n",
              "    <tr>\n",
              "      <th>2</th>\n",
              "      <td>GP</td>\n",
              "      <td>F</td>\n",
              "      <td>15</td>\n",
              "      <td>U</td>\n",
              "      <td>LE3</td>\n",
              "      <td>T</td>\n",
              "      <td>1</td>\n",
              "      <td>1</td>\n",
              "      <td>at_home</td>\n",
              "      <td>other</td>\n",
              "      <td>other</td>\n",
              "      <td>mother</td>\n",
              "      <td>1</td>\n",
              "      <td>2</td>\n",
              "      <td>0</td>\n",
              "      <td>yes</td>\n",
              "      <td>no</td>\n",
              "      <td>no</td>\n",
              "      <td>no</td>\n",
              "      <td>yes</td>\n",
              "      <td>yes</td>\n",
              "      <td>yes</td>\n",
              "      <td>no</td>\n",
              "      <td>4</td>\n",
              "      <td>3</td>\n",
              "      <td>2</td>\n",
              "      <td>2</td>\n",
              "      <td>3</td>\n",
              "      <td>3</td>\n",
              "      <td>6</td>\n",
              "      <td>12</td>\n",
              "      <td>13</td>\n",
              "      <td>12</td>\n",
              "    </tr>\n",
              "    <tr>\n",
              "      <th>3</th>\n",
              "      <td>GP</td>\n",
              "      <td>F</td>\n",
              "      <td>15</td>\n",
              "      <td>U</td>\n",
              "      <td>GT3</td>\n",
              "      <td>T</td>\n",
              "      <td>4</td>\n",
              "      <td>2</td>\n",
              "      <td>health</td>\n",
              "      <td>services</td>\n",
              "      <td>home</td>\n",
              "      <td>mother</td>\n",
              "      <td>1</td>\n",
              "      <td>3</td>\n",
              "      <td>0</td>\n",
              "      <td>no</td>\n",
              "      <td>yes</td>\n",
              "      <td>no</td>\n",
              "      <td>yes</td>\n",
              "      <td>yes</td>\n",
              "      <td>yes</td>\n",
              "      <td>yes</td>\n",
              "      <td>yes</td>\n",
              "      <td>3</td>\n",
              "      <td>2</td>\n",
              "      <td>2</td>\n",
              "      <td>1</td>\n",
              "      <td>1</td>\n",
              "      <td>5</td>\n",
              "      <td>0</td>\n",
              "      <td>14</td>\n",
              "      <td>14</td>\n",
              "      <td>14</td>\n",
              "    </tr>\n",
              "    <tr>\n",
              "      <th>4</th>\n",
              "      <td>GP</td>\n",
              "      <td>F</td>\n",
              "      <td>16</td>\n",
              "      <td>U</td>\n",
              "      <td>GT3</td>\n",
              "      <td>T</td>\n",
              "      <td>3</td>\n",
              "      <td>3</td>\n",
              "      <td>other</td>\n",
              "      <td>other</td>\n",
              "      <td>home</td>\n",
              "      <td>father</td>\n",
              "      <td>1</td>\n",
              "      <td>2</td>\n",
              "      <td>0</td>\n",
              "      <td>no</td>\n",
              "      <td>yes</td>\n",
              "      <td>no</td>\n",
              "      <td>no</td>\n",
              "      <td>yes</td>\n",
              "      <td>yes</td>\n",
              "      <td>no</td>\n",
              "      <td>no</td>\n",
              "      <td>4</td>\n",
              "      <td>3</td>\n",
              "      <td>2</td>\n",
              "      <td>1</td>\n",
              "      <td>2</td>\n",
              "      <td>5</td>\n",
              "      <td>0</td>\n",
              "      <td>11</td>\n",
              "      <td>13</td>\n",
              "      <td>13</td>\n",
              "    </tr>\n",
              "    <tr>\n",
              "      <th>5</th>\n",
              "      <td>GP</td>\n",
              "      <td>M</td>\n",
              "      <td>16</td>\n",
              "      <td>U</td>\n",
              "      <td>LE3</td>\n",
              "      <td>T</td>\n",
              "      <td>4</td>\n",
              "      <td>3</td>\n",
              "      <td>services</td>\n",
              "      <td>other</td>\n",
              "      <td>reputation</td>\n",
              "      <td>mother</td>\n",
              "      <td>1</td>\n",
              "      <td>2</td>\n",
              "      <td>0</td>\n",
              "      <td>no</td>\n",
              "      <td>yes</td>\n",
              "      <td>no</td>\n",
              "      <td>yes</td>\n",
              "      <td>yes</td>\n",
              "      <td>yes</td>\n",
              "      <td>yes</td>\n",
              "      <td>no</td>\n",
              "      <td>5</td>\n",
              "      <td>4</td>\n",
              "      <td>2</td>\n",
              "      <td>1</td>\n",
              "      <td>2</td>\n",
              "      <td>5</td>\n",
              "      <td>6</td>\n",
              "      <td>12</td>\n",
              "      <td>12</td>\n",
              "      <td>13</td>\n",
              "    </tr>\n",
              "    <tr>\n",
              "      <th>6</th>\n",
              "      <td>GP</td>\n",
              "      <td>M</td>\n",
              "      <td>16</td>\n",
              "      <td>U</td>\n",
              "      <td>LE3</td>\n",
              "      <td>T</td>\n",
              "      <td>2</td>\n",
              "      <td>2</td>\n",
              "      <td>other</td>\n",
              "      <td>other</td>\n",
              "      <td>home</td>\n",
              "      <td>mother</td>\n",
              "      <td>1</td>\n",
              "      <td>2</td>\n",
              "      <td>0</td>\n",
              "      <td>no</td>\n",
              "      <td>no</td>\n",
              "      <td>no</td>\n",
              "      <td>no</td>\n",
              "      <td>yes</td>\n",
              "      <td>yes</td>\n",
              "      <td>yes</td>\n",
              "      <td>no</td>\n",
              "      <td>4</td>\n",
              "      <td>4</td>\n",
              "      <td>4</td>\n",
              "      <td>1</td>\n",
              "      <td>1</td>\n",
              "      <td>3</td>\n",
              "      <td>0</td>\n",
              "      <td>13</td>\n",
              "      <td>12</td>\n",
              "      <td>13</td>\n",
              "    </tr>\n",
              "    <tr>\n",
              "      <th>7</th>\n",
              "      <td>GP</td>\n",
              "      <td>F</td>\n",
              "      <td>17</td>\n",
              "      <td>U</td>\n",
              "      <td>GT3</td>\n",
              "      <td>A</td>\n",
              "      <td>4</td>\n",
              "      <td>4</td>\n",
              "      <td>other</td>\n",
              "      <td>teacher</td>\n",
              "      <td>home</td>\n",
              "      <td>mother</td>\n",
              "      <td>2</td>\n",
              "      <td>2</td>\n",
              "      <td>0</td>\n",
              "      <td>yes</td>\n",
              "      <td>yes</td>\n",
              "      <td>no</td>\n",
              "      <td>no</td>\n",
              "      <td>yes</td>\n",
              "      <td>yes</td>\n",
              "      <td>no</td>\n",
              "      <td>no</td>\n",
              "      <td>4</td>\n",
              "      <td>1</td>\n",
              "      <td>4</td>\n",
              "      <td>1</td>\n",
              "      <td>1</td>\n",
              "      <td>1</td>\n",
              "      <td>2</td>\n",
              "      <td>10</td>\n",
              "      <td>13</td>\n",
              "      <td>13</td>\n",
              "    </tr>\n",
              "    <tr>\n",
              "      <th>8</th>\n",
              "      <td>GP</td>\n",
              "      <td>M</td>\n",
              "      <td>15</td>\n",
              "      <td>U</td>\n",
              "      <td>LE3</td>\n",
              "      <td>A</td>\n",
              "      <td>3</td>\n",
              "      <td>2</td>\n",
              "      <td>services</td>\n",
              "      <td>other</td>\n",
              "      <td>home</td>\n",
              "      <td>mother</td>\n",
              "      <td>1</td>\n",
              "      <td>2</td>\n",
              "      <td>0</td>\n",
              "      <td>no</td>\n",
              "      <td>yes</td>\n",
              "      <td>no</td>\n",
              "      <td>no</td>\n",
              "      <td>yes</td>\n",
              "      <td>yes</td>\n",
              "      <td>yes</td>\n",
              "      <td>no</td>\n",
              "      <td>4</td>\n",
              "      <td>2</td>\n",
              "      <td>2</td>\n",
              "      <td>1</td>\n",
              "      <td>1</td>\n",
              "      <td>1</td>\n",
              "      <td>0</td>\n",
              "      <td>15</td>\n",
              "      <td>16</td>\n",
              "      <td>17</td>\n",
              "    </tr>\n",
              "    <tr>\n",
              "      <th>9</th>\n",
              "      <td>GP</td>\n",
              "      <td>M</td>\n",
              "      <td>15</td>\n",
              "      <td>U</td>\n",
              "      <td>GT3</td>\n",
              "      <td>T</td>\n",
              "      <td>3</td>\n",
              "      <td>4</td>\n",
              "      <td>other</td>\n",
              "      <td>other</td>\n",
              "      <td>home</td>\n",
              "      <td>mother</td>\n",
              "      <td>1</td>\n",
              "      <td>2</td>\n",
              "      <td>0</td>\n",
              "      <td>no</td>\n",
              "      <td>yes</td>\n",
              "      <td>no</td>\n",
              "      <td>yes</td>\n",
              "      <td>yes</td>\n",
              "      <td>yes</td>\n",
              "      <td>yes</td>\n",
              "      <td>no</td>\n",
              "      <td>5</td>\n",
              "      <td>5</td>\n",
              "      <td>1</td>\n",
              "      <td>1</td>\n",
              "      <td>1</td>\n",
              "      <td>5</td>\n",
              "      <td>0</td>\n",
              "      <td>12</td>\n",
              "      <td>12</td>\n",
              "      <td>13</td>\n",
              "    </tr>\n",
              "  </tbody>\n",
              "</table>\n",
              "</div>"
            ],
            "text/plain": [
              "  school sex  age address famsize Pstatus  ...  Walc  health absences  G1  G2  G3\n",
              "0     GP   F   18       U     GT3       A  ...     1       3        4   0  11  11\n",
              "1     GP   F   17       U     GT3       T  ...     1       3        2   9  11  11\n",
              "2     GP   F   15       U     LE3       T  ...     3       3        6  12  13  12\n",
              "3     GP   F   15       U     GT3       T  ...     1       5        0  14  14  14\n",
              "4     GP   F   16       U     GT3       T  ...     2       5        0  11  13  13\n",
              "5     GP   M   16       U     LE3       T  ...     2       5        6  12  12  13\n",
              "6     GP   M   16       U     LE3       T  ...     1       3        0  13  12  13\n",
              "7     GP   F   17       U     GT3       A  ...     1       1        2  10  13  13\n",
              "8     GP   M   15       U     LE3       A  ...     1       1        0  15  16  17\n",
              "9     GP   M   15       U     GT3       T  ...     1       5        0  12  12  13\n",
              "\n",
              "[10 rows x 33 columns]"
            ]
          },
          "metadata": {
            "tags": []
          },
          "execution_count": 4
        }
      ]
    },
    {
      "cell_type": "code",
      "metadata": {
        "id": "Uk4qPGLWdzwJ"
      },
      "source": [
        "df['total']= df.G1.values+df.G2.values+df.G3.values"
      ],
      "execution_count": 5,
      "outputs": []
    },
    {
      "cell_type": "code",
      "metadata": {
        "colab": {
          "base_uri": "https://localhost:8080/"
        },
        "id": "da-_PTRxg1D6",
        "outputId": "3a993feb-37a9-4516-dea6-6775da537871"
      },
      "source": [
        "print(df.G1.max())\r\n",
        "print(df.G2.max())\r\n",
        "print(df.G3.max())"
      ],
      "execution_count": 6,
      "outputs": [
        {
          "output_type": "stream",
          "text": [
            "19\n",
            "19\n",
            "19\n"
          ],
          "name": "stdout"
        }
      ]
    },
    {
      "cell_type": "code",
      "metadata": {
        "colab": {
          "base_uri": "https://localhost:8080/"
        },
        "id": "5LKztp0InDjM",
        "outputId": "98361054-218f-403e-eef6-8b12e809e6f5"
      },
      "source": [
        "df.dtypes"
      ],
      "execution_count": 7,
      "outputs": [
        {
          "output_type": "execute_result",
          "data": {
            "text/plain": [
              "school        object\n",
              "sex           object\n",
              "age            int64\n",
              "address       object\n",
              "famsize       object\n",
              "Pstatus       object\n",
              "Medu           int64\n",
              "Fedu           int64\n",
              "Mjob          object\n",
              "Fjob          object\n",
              "reason        object\n",
              "guardian      object\n",
              "traveltime     int64\n",
              "studytime      int64\n",
              "failures       int64\n",
              "schoolsup     object\n",
              "famsup        object\n",
              "paid          object\n",
              "activities    object\n",
              "nursery       object\n",
              "higher        object\n",
              "internet      object\n",
              "romantic      object\n",
              "famrel         int64\n",
              "freetime       int64\n",
              "goout          int64\n",
              "Dalc           int64\n",
              "Walc           int64\n",
              "health         int64\n",
              "absences       int64\n",
              "G1             int64\n",
              "G2             int64\n",
              "G3             int64\n",
              "total          int64\n",
              "dtype: object"
            ]
          },
          "metadata": {
            "tags": []
          },
          "execution_count": 7
        }
      ]
    },
    {
      "cell_type": "code",
      "metadata": {
        "id": "SnybJH6kqyxv"
      },
      "source": [
        "import numpy as np\r\n",
        "\r\n",
        "conditions=[\r\n",
        "            df['total'].between(48, 60),\r\n",
        "            df['total'].between(40, 47),\r\n",
        "            df['total'].between(32, 39),\r\n",
        "            df['total'].between(0, 31),\r\n",
        "            ]\r\n",
        "val = ['Very Good', 'Satisfactory', 'Good', 'Avg']\r\n",
        "\r\n",
        "df['Grade']= np.select(conditions,val,default ='Avg')"
      ],
      "execution_count": 8,
      "outputs": []
    },
    {
      "cell_type": "code",
      "metadata": {
        "colab": {
          "base_uri": "https://localhost:8080/",
          "height": 343
        },
        "id": "1-WvlcaxeOjq",
        "outputId": "b579109f-1b87-4e4f-b6cf-6b8fec256a98"
      },
      "source": [
        "df[['total','Grade']].head(10)"
      ],
      "execution_count": 9,
      "outputs": [
        {
          "output_type": "execute_result",
          "data": {
            "text/html": [
              "<div>\n",
              "<style scoped>\n",
              "    .dataframe tbody tr th:only-of-type {\n",
              "        vertical-align: middle;\n",
              "    }\n",
              "\n",
              "    .dataframe tbody tr th {\n",
              "        vertical-align: top;\n",
              "    }\n",
              "\n",
              "    .dataframe thead th {\n",
              "        text-align: right;\n",
              "    }\n",
              "</style>\n",
              "<table border=\"1\" class=\"dataframe\">\n",
              "  <thead>\n",
              "    <tr style=\"text-align: right;\">\n",
              "      <th></th>\n",
              "      <th>total</th>\n",
              "      <th>Grade</th>\n",
              "    </tr>\n",
              "  </thead>\n",
              "  <tbody>\n",
              "    <tr>\n",
              "      <th>0</th>\n",
              "      <td>22</td>\n",
              "      <td>Avg</td>\n",
              "    </tr>\n",
              "    <tr>\n",
              "      <th>1</th>\n",
              "      <td>31</td>\n",
              "      <td>Avg</td>\n",
              "    </tr>\n",
              "    <tr>\n",
              "      <th>2</th>\n",
              "      <td>37</td>\n",
              "      <td>Good</td>\n",
              "    </tr>\n",
              "    <tr>\n",
              "      <th>3</th>\n",
              "      <td>42</td>\n",
              "      <td>Satisfactory</td>\n",
              "    </tr>\n",
              "    <tr>\n",
              "      <th>4</th>\n",
              "      <td>37</td>\n",
              "      <td>Good</td>\n",
              "    </tr>\n",
              "    <tr>\n",
              "      <th>5</th>\n",
              "      <td>37</td>\n",
              "      <td>Good</td>\n",
              "    </tr>\n",
              "    <tr>\n",
              "      <th>6</th>\n",
              "      <td>38</td>\n",
              "      <td>Good</td>\n",
              "    </tr>\n",
              "    <tr>\n",
              "      <th>7</th>\n",
              "      <td>36</td>\n",
              "      <td>Good</td>\n",
              "    </tr>\n",
              "    <tr>\n",
              "      <th>8</th>\n",
              "      <td>48</td>\n",
              "      <td>Very Good</td>\n",
              "    </tr>\n",
              "    <tr>\n",
              "      <th>9</th>\n",
              "      <td>37</td>\n",
              "      <td>Good</td>\n",
              "    </tr>\n",
              "  </tbody>\n",
              "</table>\n",
              "</div>"
            ],
            "text/plain": [
              "   total         Grade\n",
              "0     22           Avg\n",
              "1     31           Avg\n",
              "2     37          Good\n",
              "3     42  Satisfactory\n",
              "4     37          Good\n",
              "5     37          Good\n",
              "6     38          Good\n",
              "7     36          Good\n",
              "8     48     Very Good\n",
              "9     37          Good"
            ]
          },
          "metadata": {
            "tags": []
          },
          "execution_count": 9
        }
      ]
    },
    {
      "cell_type": "code",
      "metadata": {
        "id": "VdSv30Unec12"
      },
      "source": [
        "x = df.iloc[:,:-5]"
      ],
      "execution_count": 10,
      "outputs": []
    },
    {
      "cell_type": "code",
      "metadata": {
        "colab": {
          "base_uri": "https://localhost:8080/",
          "height": 422
        },
        "id": "rquN1HUOep8y",
        "outputId": "c0c790c7-b43e-4392-ff29-faa8822f4f7d"
      },
      "source": [
        "x"
      ],
      "execution_count": 11,
      "outputs": [
        {
          "output_type": "execute_result",
          "data": {
            "text/html": [
              "<div>\n",
              "<style scoped>\n",
              "    .dataframe tbody tr th:only-of-type {\n",
              "        vertical-align: middle;\n",
              "    }\n",
              "\n",
              "    .dataframe tbody tr th {\n",
              "        vertical-align: top;\n",
              "    }\n",
              "\n",
              "    .dataframe thead th {\n",
              "        text-align: right;\n",
              "    }\n",
              "</style>\n",
              "<table border=\"1\" class=\"dataframe\">\n",
              "  <thead>\n",
              "    <tr style=\"text-align: right;\">\n",
              "      <th></th>\n",
              "      <th>school</th>\n",
              "      <th>sex</th>\n",
              "      <th>age</th>\n",
              "      <th>address</th>\n",
              "      <th>famsize</th>\n",
              "      <th>Pstatus</th>\n",
              "      <th>Medu</th>\n",
              "      <th>Fedu</th>\n",
              "      <th>Mjob</th>\n",
              "      <th>Fjob</th>\n",
              "      <th>reason</th>\n",
              "      <th>guardian</th>\n",
              "      <th>traveltime</th>\n",
              "      <th>studytime</th>\n",
              "      <th>failures</th>\n",
              "      <th>schoolsup</th>\n",
              "      <th>famsup</th>\n",
              "      <th>paid</th>\n",
              "      <th>activities</th>\n",
              "      <th>nursery</th>\n",
              "      <th>higher</th>\n",
              "      <th>internet</th>\n",
              "      <th>romantic</th>\n",
              "      <th>famrel</th>\n",
              "      <th>freetime</th>\n",
              "      <th>goout</th>\n",
              "      <th>Dalc</th>\n",
              "      <th>Walc</th>\n",
              "      <th>health</th>\n",
              "      <th>absences</th>\n",
              "    </tr>\n",
              "  </thead>\n",
              "  <tbody>\n",
              "    <tr>\n",
              "      <th>0</th>\n",
              "      <td>GP</td>\n",
              "      <td>F</td>\n",
              "      <td>18</td>\n",
              "      <td>U</td>\n",
              "      <td>GT3</td>\n",
              "      <td>A</td>\n",
              "      <td>4</td>\n",
              "      <td>4</td>\n",
              "      <td>at_home</td>\n",
              "      <td>teacher</td>\n",
              "      <td>course</td>\n",
              "      <td>mother</td>\n",
              "      <td>2</td>\n",
              "      <td>2</td>\n",
              "      <td>0</td>\n",
              "      <td>yes</td>\n",
              "      <td>no</td>\n",
              "      <td>no</td>\n",
              "      <td>no</td>\n",
              "      <td>yes</td>\n",
              "      <td>yes</td>\n",
              "      <td>no</td>\n",
              "      <td>no</td>\n",
              "      <td>4</td>\n",
              "      <td>3</td>\n",
              "      <td>4</td>\n",
              "      <td>1</td>\n",
              "      <td>1</td>\n",
              "      <td>3</td>\n",
              "      <td>4</td>\n",
              "    </tr>\n",
              "    <tr>\n",
              "      <th>1</th>\n",
              "      <td>GP</td>\n",
              "      <td>F</td>\n",
              "      <td>17</td>\n",
              "      <td>U</td>\n",
              "      <td>GT3</td>\n",
              "      <td>T</td>\n",
              "      <td>1</td>\n",
              "      <td>1</td>\n",
              "      <td>at_home</td>\n",
              "      <td>other</td>\n",
              "      <td>course</td>\n",
              "      <td>father</td>\n",
              "      <td>1</td>\n",
              "      <td>2</td>\n",
              "      <td>0</td>\n",
              "      <td>no</td>\n",
              "      <td>yes</td>\n",
              "      <td>no</td>\n",
              "      <td>no</td>\n",
              "      <td>no</td>\n",
              "      <td>yes</td>\n",
              "      <td>yes</td>\n",
              "      <td>no</td>\n",
              "      <td>5</td>\n",
              "      <td>3</td>\n",
              "      <td>3</td>\n",
              "      <td>1</td>\n",
              "      <td>1</td>\n",
              "      <td>3</td>\n",
              "      <td>2</td>\n",
              "    </tr>\n",
              "    <tr>\n",
              "      <th>2</th>\n",
              "      <td>GP</td>\n",
              "      <td>F</td>\n",
              "      <td>15</td>\n",
              "      <td>U</td>\n",
              "      <td>LE3</td>\n",
              "      <td>T</td>\n",
              "      <td>1</td>\n",
              "      <td>1</td>\n",
              "      <td>at_home</td>\n",
              "      <td>other</td>\n",
              "      <td>other</td>\n",
              "      <td>mother</td>\n",
              "      <td>1</td>\n",
              "      <td>2</td>\n",
              "      <td>0</td>\n",
              "      <td>yes</td>\n",
              "      <td>no</td>\n",
              "      <td>no</td>\n",
              "      <td>no</td>\n",
              "      <td>yes</td>\n",
              "      <td>yes</td>\n",
              "      <td>yes</td>\n",
              "      <td>no</td>\n",
              "      <td>4</td>\n",
              "      <td>3</td>\n",
              "      <td>2</td>\n",
              "      <td>2</td>\n",
              "      <td>3</td>\n",
              "      <td>3</td>\n",
              "      <td>6</td>\n",
              "    </tr>\n",
              "    <tr>\n",
              "      <th>3</th>\n",
              "      <td>GP</td>\n",
              "      <td>F</td>\n",
              "      <td>15</td>\n",
              "      <td>U</td>\n",
              "      <td>GT3</td>\n",
              "      <td>T</td>\n",
              "      <td>4</td>\n",
              "      <td>2</td>\n",
              "      <td>health</td>\n",
              "      <td>services</td>\n",
              "      <td>home</td>\n",
              "      <td>mother</td>\n",
              "      <td>1</td>\n",
              "      <td>3</td>\n",
              "      <td>0</td>\n",
              "      <td>no</td>\n",
              "      <td>yes</td>\n",
              "      <td>no</td>\n",
              "      <td>yes</td>\n",
              "      <td>yes</td>\n",
              "      <td>yes</td>\n",
              "      <td>yes</td>\n",
              "      <td>yes</td>\n",
              "      <td>3</td>\n",
              "      <td>2</td>\n",
              "      <td>2</td>\n",
              "      <td>1</td>\n",
              "      <td>1</td>\n",
              "      <td>5</td>\n",
              "      <td>0</td>\n",
              "    </tr>\n",
              "    <tr>\n",
              "      <th>4</th>\n",
              "      <td>GP</td>\n",
              "      <td>F</td>\n",
              "      <td>16</td>\n",
              "      <td>U</td>\n",
              "      <td>GT3</td>\n",
              "      <td>T</td>\n",
              "      <td>3</td>\n",
              "      <td>3</td>\n",
              "      <td>other</td>\n",
              "      <td>other</td>\n",
              "      <td>home</td>\n",
              "      <td>father</td>\n",
              "      <td>1</td>\n",
              "      <td>2</td>\n",
              "      <td>0</td>\n",
              "      <td>no</td>\n",
              "      <td>yes</td>\n",
              "      <td>no</td>\n",
              "      <td>no</td>\n",
              "      <td>yes</td>\n",
              "      <td>yes</td>\n",
              "      <td>no</td>\n",
              "      <td>no</td>\n",
              "      <td>4</td>\n",
              "      <td>3</td>\n",
              "      <td>2</td>\n",
              "      <td>1</td>\n",
              "      <td>2</td>\n",
              "      <td>5</td>\n",
              "      <td>0</td>\n",
              "    </tr>\n",
              "    <tr>\n",
              "      <th>...</th>\n",
              "      <td>...</td>\n",
              "      <td>...</td>\n",
              "      <td>...</td>\n",
              "      <td>...</td>\n",
              "      <td>...</td>\n",
              "      <td>...</td>\n",
              "      <td>...</td>\n",
              "      <td>...</td>\n",
              "      <td>...</td>\n",
              "      <td>...</td>\n",
              "      <td>...</td>\n",
              "      <td>...</td>\n",
              "      <td>...</td>\n",
              "      <td>...</td>\n",
              "      <td>...</td>\n",
              "      <td>...</td>\n",
              "      <td>...</td>\n",
              "      <td>...</td>\n",
              "      <td>...</td>\n",
              "      <td>...</td>\n",
              "      <td>...</td>\n",
              "      <td>...</td>\n",
              "      <td>...</td>\n",
              "      <td>...</td>\n",
              "      <td>...</td>\n",
              "      <td>...</td>\n",
              "      <td>...</td>\n",
              "      <td>...</td>\n",
              "      <td>...</td>\n",
              "      <td>...</td>\n",
              "    </tr>\n",
              "    <tr>\n",
              "      <th>644</th>\n",
              "      <td>MS</td>\n",
              "      <td>F</td>\n",
              "      <td>19</td>\n",
              "      <td>R</td>\n",
              "      <td>GT3</td>\n",
              "      <td>T</td>\n",
              "      <td>2</td>\n",
              "      <td>3</td>\n",
              "      <td>services</td>\n",
              "      <td>other</td>\n",
              "      <td>course</td>\n",
              "      <td>mother</td>\n",
              "      <td>1</td>\n",
              "      <td>3</td>\n",
              "      <td>1</td>\n",
              "      <td>no</td>\n",
              "      <td>no</td>\n",
              "      <td>no</td>\n",
              "      <td>yes</td>\n",
              "      <td>no</td>\n",
              "      <td>yes</td>\n",
              "      <td>yes</td>\n",
              "      <td>no</td>\n",
              "      <td>5</td>\n",
              "      <td>4</td>\n",
              "      <td>2</td>\n",
              "      <td>1</td>\n",
              "      <td>2</td>\n",
              "      <td>5</td>\n",
              "      <td>4</td>\n",
              "    </tr>\n",
              "    <tr>\n",
              "      <th>645</th>\n",
              "      <td>MS</td>\n",
              "      <td>F</td>\n",
              "      <td>18</td>\n",
              "      <td>U</td>\n",
              "      <td>LE3</td>\n",
              "      <td>T</td>\n",
              "      <td>3</td>\n",
              "      <td>1</td>\n",
              "      <td>teacher</td>\n",
              "      <td>services</td>\n",
              "      <td>course</td>\n",
              "      <td>mother</td>\n",
              "      <td>1</td>\n",
              "      <td>2</td>\n",
              "      <td>0</td>\n",
              "      <td>no</td>\n",
              "      <td>yes</td>\n",
              "      <td>no</td>\n",
              "      <td>no</td>\n",
              "      <td>yes</td>\n",
              "      <td>yes</td>\n",
              "      <td>yes</td>\n",
              "      <td>no</td>\n",
              "      <td>4</td>\n",
              "      <td>3</td>\n",
              "      <td>4</td>\n",
              "      <td>1</td>\n",
              "      <td>1</td>\n",
              "      <td>1</td>\n",
              "      <td>4</td>\n",
              "    </tr>\n",
              "    <tr>\n",
              "      <th>646</th>\n",
              "      <td>MS</td>\n",
              "      <td>F</td>\n",
              "      <td>18</td>\n",
              "      <td>U</td>\n",
              "      <td>GT3</td>\n",
              "      <td>T</td>\n",
              "      <td>1</td>\n",
              "      <td>1</td>\n",
              "      <td>other</td>\n",
              "      <td>other</td>\n",
              "      <td>course</td>\n",
              "      <td>mother</td>\n",
              "      <td>2</td>\n",
              "      <td>2</td>\n",
              "      <td>0</td>\n",
              "      <td>no</td>\n",
              "      <td>no</td>\n",
              "      <td>no</td>\n",
              "      <td>yes</td>\n",
              "      <td>yes</td>\n",
              "      <td>yes</td>\n",
              "      <td>no</td>\n",
              "      <td>no</td>\n",
              "      <td>1</td>\n",
              "      <td>1</td>\n",
              "      <td>1</td>\n",
              "      <td>1</td>\n",
              "      <td>1</td>\n",
              "      <td>5</td>\n",
              "      <td>6</td>\n",
              "    </tr>\n",
              "    <tr>\n",
              "      <th>647</th>\n",
              "      <td>MS</td>\n",
              "      <td>M</td>\n",
              "      <td>17</td>\n",
              "      <td>U</td>\n",
              "      <td>LE3</td>\n",
              "      <td>T</td>\n",
              "      <td>3</td>\n",
              "      <td>1</td>\n",
              "      <td>services</td>\n",
              "      <td>services</td>\n",
              "      <td>course</td>\n",
              "      <td>mother</td>\n",
              "      <td>2</td>\n",
              "      <td>1</td>\n",
              "      <td>0</td>\n",
              "      <td>no</td>\n",
              "      <td>no</td>\n",
              "      <td>no</td>\n",
              "      <td>no</td>\n",
              "      <td>no</td>\n",
              "      <td>yes</td>\n",
              "      <td>yes</td>\n",
              "      <td>no</td>\n",
              "      <td>2</td>\n",
              "      <td>4</td>\n",
              "      <td>5</td>\n",
              "      <td>3</td>\n",
              "      <td>4</td>\n",
              "      <td>2</td>\n",
              "      <td>6</td>\n",
              "    </tr>\n",
              "    <tr>\n",
              "      <th>648</th>\n",
              "      <td>MS</td>\n",
              "      <td>M</td>\n",
              "      <td>18</td>\n",
              "      <td>R</td>\n",
              "      <td>LE3</td>\n",
              "      <td>T</td>\n",
              "      <td>3</td>\n",
              "      <td>2</td>\n",
              "      <td>services</td>\n",
              "      <td>other</td>\n",
              "      <td>course</td>\n",
              "      <td>mother</td>\n",
              "      <td>3</td>\n",
              "      <td>1</td>\n",
              "      <td>0</td>\n",
              "      <td>no</td>\n",
              "      <td>no</td>\n",
              "      <td>no</td>\n",
              "      <td>no</td>\n",
              "      <td>no</td>\n",
              "      <td>yes</td>\n",
              "      <td>yes</td>\n",
              "      <td>no</td>\n",
              "      <td>4</td>\n",
              "      <td>4</td>\n",
              "      <td>1</td>\n",
              "      <td>3</td>\n",
              "      <td>4</td>\n",
              "      <td>5</td>\n",
              "      <td>4</td>\n",
              "    </tr>\n",
              "  </tbody>\n",
              "</table>\n",
              "<p>649 rows × 30 columns</p>\n",
              "</div>"
            ],
            "text/plain": [
              "    school sex  age address famsize  ... goout  Dalc  Walc health absences\n",
              "0       GP   F   18       U     GT3  ...     4     1     1      3        4\n",
              "1       GP   F   17       U     GT3  ...     3     1     1      3        2\n",
              "2       GP   F   15       U     LE3  ...     2     2     3      3        6\n",
              "3       GP   F   15       U     GT3  ...     2     1     1      5        0\n",
              "4       GP   F   16       U     GT3  ...     2     1     2      5        0\n",
              "..     ...  ..  ...     ...     ...  ...   ...   ...   ...    ...      ...\n",
              "644     MS   F   19       R     GT3  ...     2     1     2      5        4\n",
              "645     MS   F   18       U     LE3  ...     4     1     1      1        4\n",
              "646     MS   F   18       U     GT3  ...     1     1     1      5        6\n",
              "647     MS   M   17       U     LE3  ...     5     3     4      2        6\n",
              "648     MS   M   18       R     LE3  ...     1     3     4      5        4\n",
              "\n",
              "[649 rows x 30 columns]"
            ]
          },
          "metadata": {
            "tags": []
          },
          "execution_count": 11
        }
      ]
    },
    {
      "cell_type": "code",
      "metadata": {
        "id": "GeYHA5HNwnBp"
      },
      "source": [
        ""
      ],
      "execution_count": 11,
      "outputs": []
    },
    {
      "cell_type": "code",
      "metadata": {
        "id": "MQH0hKDkeqrw"
      },
      "source": [
        "y=df.iloc[:,-1:]"
      ],
      "execution_count": 12,
      "outputs": []
    },
    {
      "cell_type": "code",
      "metadata": {
        "colab": {
          "base_uri": "https://localhost:8080/",
          "height": 402
        },
        "id": "bWFhS9AyezHC",
        "outputId": "0c735c24-adbe-42d7-abc1-228bac873cd8"
      },
      "source": [
        "y"
      ],
      "execution_count": 13,
      "outputs": [
        {
          "output_type": "execute_result",
          "data": {
            "text/html": [
              "<div>\n",
              "<style scoped>\n",
              "    .dataframe tbody tr th:only-of-type {\n",
              "        vertical-align: middle;\n",
              "    }\n",
              "\n",
              "    .dataframe tbody tr th {\n",
              "        vertical-align: top;\n",
              "    }\n",
              "\n",
              "    .dataframe thead th {\n",
              "        text-align: right;\n",
              "    }\n",
              "</style>\n",
              "<table border=\"1\" class=\"dataframe\">\n",
              "  <thead>\n",
              "    <tr style=\"text-align: right;\">\n",
              "      <th></th>\n",
              "      <th>Grade</th>\n",
              "    </tr>\n",
              "  </thead>\n",
              "  <tbody>\n",
              "    <tr>\n",
              "      <th>0</th>\n",
              "      <td>Avg</td>\n",
              "    </tr>\n",
              "    <tr>\n",
              "      <th>1</th>\n",
              "      <td>Avg</td>\n",
              "    </tr>\n",
              "    <tr>\n",
              "      <th>2</th>\n",
              "      <td>Good</td>\n",
              "    </tr>\n",
              "    <tr>\n",
              "      <th>3</th>\n",
              "      <td>Satisfactory</td>\n",
              "    </tr>\n",
              "    <tr>\n",
              "      <th>4</th>\n",
              "      <td>Good</td>\n",
              "    </tr>\n",
              "    <tr>\n",
              "      <th>...</th>\n",
              "      <td>...</td>\n",
              "    </tr>\n",
              "    <tr>\n",
              "      <th>644</th>\n",
              "      <td>Avg</td>\n",
              "    </tr>\n",
              "    <tr>\n",
              "      <th>645</th>\n",
              "      <td>Satisfactory</td>\n",
              "    </tr>\n",
              "    <tr>\n",
              "      <th>646</th>\n",
              "      <td>Good</td>\n",
              "    </tr>\n",
              "    <tr>\n",
              "      <th>647</th>\n",
              "      <td>Avg</td>\n",
              "    </tr>\n",
              "    <tr>\n",
              "      <th>648</th>\n",
              "      <td>Good</td>\n",
              "    </tr>\n",
              "  </tbody>\n",
              "</table>\n",
              "<p>649 rows × 1 columns</p>\n",
              "</div>"
            ],
            "text/plain": [
              "            Grade\n",
              "0             Avg\n",
              "1             Avg\n",
              "2            Good\n",
              "3    Satisfactory\n",
              "4            Good\n",
              "..            ...\n",
              "644           Avg\n",
              "645  Satisfactory\n",
              "646          Good\n",
              "647           Avg\n",
              "648          Good\n",
              "\n",
              "[649 rows x 1 columns]"
            ]
          },
          "metadata": {
            "tags": []
          },
          "execution_count": 13
        }
      ]
    },
    {
      "cell_type": "code",
      "metadata": {
        "id": "JmP4RBIHgr96"
      },
      "source": [
        "from sklearn.preprocessing import LabelEncoder\r\n",
        "le =  LabelEncoder()"
      ],
      "execution_count": 14,
      "outputs": []
    },
    {
      "cell_type": "code",
      "metadata": {
        "colab": {
          "base_uri": "https://localhost:8080/",
          "height": 303
        },
        "id": "Q8Ia7D9rwMEC",
        "outputId": "ebc72756-d412-4903-ab9e-ab27b13a209c"
      },
      "source": [
        "x= le.fit_transform(x)"
      ],
      "execution_count": 15,
      "outputs": [
        {
          "output_type": "error",
          "ename": "ValueError",
          "evalue": "ignored",
          "traceback": [
            "\u001b[0;31m---------------------------------------------------------------------------\u001b[0m",
            "\u001b[0;31mValueError\u001b[0m                                Traceback (most recent call last)",
            "\u001b[0;32m<ipython-input-15-c6831f917350>\u001b[0m in \u001b[0;36m<module>\u001b[0;34m()\u001b[0m\n\u001b[0;32m----> 1\u001b[0;31m \u001b[0mx\u001b[0m\u001b[0;34m=\u001b[0m \u001b[0mle\u001b[0m\u001b[0;34m.\u001b[0m\u001b[0mfit_transform\u001b[0m\u001b[0;34m(\u001b[0m\u001b[0mx\u001b[0m\u001b[0;34m)\u001b[0m\u001b[0;34m\u001b[0m\u001b[0;34m\u001b[0m\u001b[0m\n\u001b[0m",
            "\u001b[0;32m/usr/local/lib/python3.7/dist-packages/sklearn/preprocessing/_label.py\u001b[0m in \u001b[0;36mfit_transform\u001b[0;34m(self, y)\u001b[0m\n\u001b[1;32m    249\u001b[0m         \u001b[0my\u001b[0m \u001b[0;34m:\u001b[0m \u001b[0marray\u001b[0m\u001b[0;34m-\u001b[0m\u001b[0mlike\u001b[0m \u001b[0mof\u001b[0m \u001b[0mshape\u001b[0m \u001b[0;34m[\u001b[0m\u001b[0mn_samples\u001b[0m\u001b[0;34m]\u001b[0m\u001b[0;34m\u001b[0m\u001b[0;34m\u001b[0m\u001b[0m\n\u001b[1;32m    250\u001b[0m         \"\"\"\n\u001b[0;32m--> 251\u001b[0;31m         \u001b[0my\u001b[0m \u001b[0;34m=\u001b[0m \u001b[0mcolumn_or_1d\u001b[0m\u001b[0;34m(\u001b[0m\u001b[0my\u001b[0m\u001b[0;34m,\u001b[0m \u001b[0mwarn\u001b[0m\u001b[0;34m=\u001b[0m\u001b[0;32mTrue\u001b[0m\u001b[0;34m)\u001b[0m\u001b[0;34m\u001b[0m\u001b[0;34m\u001b[0m\u001b[0m\n\u001b[0m\u001b[1;32m    252\u001b[0m         \u001b[0mself\u001b[0m\u001b[0;34m.\u001b[0m\u001b[0mclasses_\u001b[0m\u001b[0;34m,\u001b[0m \u001b[0my\u001b[0m \u001b[0;34m=\u001b[0m \u001b[0m_encode\u001b[0m\u001b[0;34m(\u001b[0m\u001b[0my\u001b[0m\u001b[0;34m,\u001b[0m \u001b[0mencode\u001b[0m\u001b[0;34m=\u001b[0m\u001b[0;32mTrue\u001b[0m\u001b[0;34m)\u001b[0m\u001b[0;34m\u001b[0m\u001b[0;34m\u001b[0m\u001b[0m\n\u001b[1;32m    253\u001b[0m         \u001b[0;32mreturn\u001b[0m \u001b[0my\u001b[0m\u001b[0;34m\u001b[0m\u001b[0;34m\u001b[0m\u001b[0m\n",
            "\u001b[0;32m/usr/local/lib/python3.7/dist-packages/sklearn/utils/validation.py\u001b[0m in \u001b[0;36mcolumn_or_1d\u001b[0;34m(y, warn)\u001b[0m\n\u001b[1;32m    795\u001b[0m         \u001b[0;32mreturn\u001b[0m \u001b[0mnp\u001b[0m\u001b[0;34m.\u001b[0m\u001b[0mravel\u001b[0m\u001b[0;34m(\u001b[0m\u001b[0my\u001b[0m\u001b[0;34m)\u001b[0m\u001b[0;34m\u001b[0m\u001b[0;34m\u001b[0m\u001b[0m\n\u001b[1;32m    796\u001b[0m \u001b[0;34m\u001b[0m\u001b[0m\n\u001b[0;32m--> 797\u001b[0;31m     \u001b[0;32mraise\u001b[0m \u001b[0mValueError\u001b[0m\u001b[0;34m(\u001b[0m\u001b[0;34m\"bad input shape {0}\"\u001b[0m\u001b[0;34m.\u001b[0m\u001b[0mformat\u001b[0m\u001b[0;34m(\u001b[0m\u001b[0mshape\u001b[0m\u001b[0;34m)\u001b[0m\u001b[0;34m)\u001b[0m\u001b[0;34m\u001b[0m\u001b[0;34m\u001b[0m\u001b[0m\n\u001b[0m\u001b[1;32m    798\u001b[0m \u001b[0;34m\u001b[0m\u001b[0m\n\u001b[1;32m    799\u001b[0m \u001b[0;34m\u001b[0m\u001b[0m\n",
            "\u001b[0;31mValueError\u001b[0m: bad input shape (649, 30)"
          ]
        }
      ]
    },
    {
      "cell_type": "markdown",
      "metadata": {
        "id": "RYFkzcTw07Im"
      },
      "source": [
        "So, x has numeric values, lets do separte categorical columns and apply labelencoder"
      ]
    },
    {
      "cell_type": "code",
      "metadata": {
        "colab": {
          "base_uri": "https://localhost:8080/"
        },
        "id": "o5199rWPyhSs",
        "outputId": "961781b3-406e-4b12-f579-2add1fbfc6b9"
      },
      "source": [
        "cats = [i for i in x.columns if x.dtypes[i]=='object']\r\n",
        "cats "
      ],
      "execution_count": 16,
      "outputs": [
        {
          "output_type": "execute_result",
          "data": {
            "text/plain": [
              "['school',\n",
              " 'sex',\n",
              " 'address',\n",
              " 'famsize',\n",
              " 'Pstatus',\n",
              " 'Mjob',\n",
              " 'Fjob',\n",
              " 'reason',\n",
              " 'guardian',\n",
              " 'schoolsup',\n",
              " 'famsup',\n",
              " 'paid',\n",
              " 'activities',\n",
              " 'nursery',\n",
              " 'higher',\n",
              " 'internet',\n",
              " 'romantic']"
            ]
          },
          "metadata": {
            "tags": []
          },
          "execution_count": 16
        }
      ]
    },
    {
      "cell_type": "code",
      "metadata": {
        "id": "krIniNrPxtbi"
      },
      "source": [
        "for i in cats:\r\n",
        "    x[i] = le.fit_transform(df[i].astype(str))"
      ],
      "execution_count": 17,
      "outputs": []
    },
    {
      "cell_type": "code",
      "metadata": {
        "colab": {
          "base_uri": "https://localhost:8080/",
          "height": 422
        },
        "id": "TM6Qv22dxzwj",
        "outputId": "42f96e10-559e-4939-dc59-7683f26462bf"
      },
      "source": [
        "x"
      ],
      "execution_count": 18,
      "outputs": [
        {
          "output_type": "execute_result",
          "data": {
            "text/html": [
              "<div>\n",
              "<style scoped>\n",
              "    .dataframe tbody tr th:only-of-type {\n",
              "        vertical-align: middle;\n",
              "    }\n",
              "\n",
              "    .dataframe tbody tr th {\n",
              "        vertical-align: top;\n",
              "    }\n",
              "\n",
              "    .dataframe thead th {\n",
              "        text-align: right;\n",
              "    }\n",
              "</style>\n",
              "<table border=\"1\" class=\"dataframe\">\n",
              "  <thead>\n",
              "    <tr style=\"text-align: right;\">\n",
              "      <th></th>\n",
              "      <th>school</th>\n",
              "      <th>sex</th>\n",
              "      <th>age</th>\n",
              "      <th>address</th>\n",
              "      <th>famsize</th>\n",
              "      <th>Pstatus</th>\n",
              "      <th>Medu</th>\n",
              "      <th>Fedu</th>\n",
              "      <th>Mjob</th>\n",
              "      <th>Fjob</th>\n",
              "      <th>reason</th>\n",
              "      <th>guardian</th>\n",
              "      <th>traveltime</th>\n",
              "      <th>studytime</th>\n",
              "      <th>failures</th>\n",
              "      <th>schoolsup</th>\n",
              "      <th>famsup</th>\n",
              "      <th>paid</th>\n",
              "      <th>activities</th>\n",
              "      <th>nursery</th>\n",
              "      <th>higher</th>\n",
              "      <th>internet</th>\n",
              "      <th>romantic</th>\n",
              "      <th>famrel</th>\n",
              "      <th>freetime</th>\n",
              "      <th>goout</th>\n",
              "      <th>Dalc</th>\n",
              "      <th>Walc</th>\n",
              "      <th>health</th>\n",
              "      <th>absences</th>\n",
              "    </tr>\n",
              "  </thead>\n",
              "  <tbody>\n",
              "    <tr>\n",
              "      <th>0</th>\n",
              "      <td>0</td>\n",
              "      <td>0</td>\n",
              "      <td>18</td>\n",
              "      <td>1</td>\n",
              "      <td>0</td>\n",
              "      <td>0</td>\n",
              "      <td>4</td>\n",
              "      <td>4</td>\n",
              "      <td>0</td>\n",
              "      <td>4</td>\n",
              "      <td>0</td>\n",
              "      <td>1</td>\n",
              "      <td>2</td>\n",
              "      <td>2</td>\n",
              "      <td>0</td>\n",
              "      <td>1</td>\n",
              "      <td>0</td>\n",
              "      <td>0</td>\n",
              "      <td>0</td>\n",
              "      <td>1</td>\n",
              "      <td>1</td>\n",
              "      <td>0</td>\n",
              "      <td>0</td>\n",
              "      <td>4</td>\n",
              "      <td>3</td>\n",
              "      <td>4</td>\n",
              "      <td>1</td>\n",
              "      <td>1</td>\n",
              "      <td>3</td>\n",
              "      <td>4</td>\n",
              "    </tr>\n",
              "    <tr>\n",
              "      <th>1</th>\n",
              "      <td>0</td>\n",
              "      <td>0</td>\n",
              "      <td>17</td>\n",
              "      <td>1</td>\n",
              "      <td>0</td>\n",
              "      <td>1</td>\n",
              "      <td>1</td>\n",
              "      <td>1</td>\n",
              "      <td>0</td>\n",
              "      <td>2</td>\n",
              "      <td>0</td>\n",
              "      <td>0</td>\n",
              "      <td>1</td>\n",
              "      <td>2</td>\n",
              "      <td>0</td>\n",
              "      <td>0</td>\n",
              "      <td>1</td>\n",
              "      <td>0</td>\n",
              "      <td>0</td>\n",
              "      <td>0</td>\n",
              "      <td>1</td>\n",
              "      <td>1</td>\n",
              "      <td>0</td>\n",
              "      <td>5</td>\n",
              "      <td>3</td>\n",
              "      <td>3</td>\n",
              "      <td>1</td>\n",
              "      <td>1</td>\n",
              "      <td>3</td>\n",
              "      <td>2</td>\n",
              "    </tr>\n",
              "    <tr>\n",
              "      <th>2</th>\n",
              "      <td>0</td>\n",
              "      <td>0</td>\n",
              "      <td>15</td>\n",
              "      <td>1</td>\n",
              "      <td>1</td>\n",
              "      <td>1</td>\n",
              "      <td>1</td>\n",
              "      <td>1</td>\n",
              "      <td>0</td>\n",
              "      <td>2</td>\n",
              "      <td>2</td>\n",
              "      <td>1</td>\n",
              "      <td>1</td>\n",
              "      <td>2</td>\n",
              "      <td>0</td>\n",
              "      <td>1</td>\n",
              "      <td>0</td>\n",
              "      <td>0</td>\n",
              "      <td>0</td>\n",
              "      <td>1</td>\n",
              "      <td>1</td>\n",
              "      <td>1</td>\n",
              "      <td>0</td>\n",
              "      <td>4</td>\n",
              "      <td>3</td>\n",
              "      <td>2</td>\n",
              "      <td>2</td>\n",
              "      <td>3</td>\n",
              "      <td>3</td>\n",
              "      <td>6</td>\n",
              "    </tr>\n",
              "    <tr>\n",
              "      <th>3</th>\n",
              "      <td>0</td>\n",
              "      <td>0</td>\n",
              "      <td>15</td>\n",
              "      <td>1</td>\n",
              "      <td>0</td>\n",
              "      <td>1</td>\n",
              "      <td>4</td>\n",
              "      <td>2</td>\n",
              "      <td>1</td>\n",
              "      <td>3</td>\n",
              "      <td>1</td>\n",
              "      <td>1</td>\n",
              "      <td>1</td>\n",
              "      <td>3</td>\n",
              "      <td>0</td>\n",
              "      <td>0</td>\n",
              "      <td>1</td>\n",
              "      <td>0</td>\n",
              "      <td>1</td>\n",
              "      <td>1</td>\n",
              "      <td>1</td>\n",
              "      <td>1</td>\n",
              "      <td>1</td>\n",
              "      <td>3</td>\n",
              "      <td>2</td>\n",
              "      <td>2</td>\n",
              "      <td>1</td>\n",
              "      <td>1</td>\n",
              "      <td>5</td>\n",
              "      <td>0</td>\n",
              "    </tr>\n",
              "    <tr>\n",
              "      <th>4</th>\n",
              "      <td>0</td>\n",
              "      <td>0</td>\n",
              "      <td>16</td>\n",
              "      <td>1</td>\n",
              "      <td>0</td>\n",
              "      <td>1</td>\n",
              "      <td>3</td>\n",
              "      <td>3</td>\n",
              "      <td>2</td>\n",
              "      <td>2</td>\n",
              "      <td>1</td>\n",
              "      <td>0</td>\n",
              "      <td>1</td>\n",
              "      <td>2</td>\n",
              "      <td>0</td>\n",
              "      <td>0</td>\n",
              "      <td>1</td>\n",
              "      <td>0</td>\n",
              "      <td>0</td>\n",
              "      <td>1</td>\n",
              "      <td>1</td>\n",
              "      <td>0</td>\n",
              "      <td>0</td>\n",
              "      <td>4</td>\n",
              "      <td>3</td>\n",
              "      <td>2</td>\n",
              "      <td>1</td>\n",
              "      <td>2</td>\n",
              "      <td>5</td>\n",
              "      <td>0</td>\n",
              "    </tr>\n",
              "    <tr>\n",
              "      <th>...</th>\n",
              "      <td>...</td>\n",
              "      <td>...</td>\n",
              "      <td>...</td>\n",
              "      <td>...</td>\n",
              "      <td>...</td>\n",
              "      <td>...</td>\n",
              "      <td>...</td>\n",
              "      <td>...</td>\n",
              "      <td>...</td>\n",
              "      <td>...</td>\n",
              "      <td>...</td>\n",
              "      <td>...</td>\n",
              "      <td>...</td>\n",
              "      <td>...</td>\n",
              "      <td>...</td>\n",
              "      <td>...</td>\n",
              "      <td>...</td>\n",
              "      <td>...</td>\n",
              "      <td>...</td>\n",
              "      <td>...</td>\n",
              "      <td>...</td>\n",
              "      <td>...</td>\n",
              "      <td>...</td>\n",
              "      <td>...</td>\n",
              "      <td>...</td>\n",
              "      <td>...</td>\n",
              "      <td>...</td>\n",
              "      <td>...</td>\n",
              "      <td>...</td>\n",
              "      <td>...</td>\n",
              "    </tr>\n",
              "    <tr>\n",
              "      <th>644</th>\n",
              "      <td>1</td>\n",
              "      <td>0</td>\n",
              "      <td>19</td>\n",
              "      <td>0</td>\n",
              "      <td>0</td>\n",
              "      <td>1</td>\n",
              "      <td>2</td>\n",
              "      <td>3</td>\n",
              "      <td>3</td>\n",
              "      <td>2</td>\n",
              "      <td>0</td>\n",
              "      <td>1</td>\n",
              "      <td>1</td>\n",
              "      <td>3</td>\n",
              "      <td>1</td>\n",
              "      <td>0</td>\n",
              "      <td>0</td>\n",
              "      <td>0</td>\n",
              "      <td>1</td>\n",
              "      <td>0</td>\n",
              "      <td>1</td>\n",
              "      <td>1</td>\n",
              "      <td>0</td>\n",
              "      <td>5</td>\n",
              "      <td>4</td>\n",
              "      <td>2</td>\n",
              "      <td>1</td>\n",
              "      <td>2</td>\n",
              "      <td>5</td>\n",
              "      <td>4</td>\n",
              "    </tr>\n",
              "    <tr>\n",
              "      <th>645</th>\n",
              "      <td>1</td>\n",
              "      <td>0</td>\n",
              "      <td>18</td>\n",
              "      <td>1</td>\n",
              "      <td>1</td>\n",
              "      <td>1</td>\n",
              "      <td>3</td>\n",
              "      <td>1</td>\n",
              "      <td>4</td>\n",
              "      <td>3</td>\n",
              "      <td>0</td>\n",
              "      <td>1</td>\n",
              "      <td>1</td>\n",
              "      <td>2</td>\n",
              "      <td>0</td>\n",
              "      <td>0</td>\n",
              "      <td>1</td>\n",
              "      <td>0</td>\n",
              "      <td>0</td>\n",
              "      <td>1</td>\n",
              "      <td>1</td>\n",
              "      <td>1</td>\n",
              "      <td>0</td>\n",
              "      <td>4</td>\n",
              "      <td>3</td>\n",
              "      <td>4</td>\n",
              "      <td>1</td>\n",
              "      <td>1</td>\n",
              "      <td>1</td>\n",
              "      <td>4</td>\n",
              "    </tr>\n",
              "    <tr>\n",
              "      <th>646</th>\n",
              "      <td>1</td>\n",
              "      <td>0</td>\n",
              "      <td>18</td>\n",
              "      <td>1</td>\n",
              "      <td>0</td>\n",
              "      <td>1</td>\n",
              "      <td>1</td>\n",
              "      <td>1</td>\n",
              "      <td>2</td>\n",
              "      <td>2</td>\n",
              "      <td>0</td>\n",
              "      <td>1</td>\n",
              "      <td>2</td>\n",
              "      <td>2</td>\n",
              "      <td>0</td>\n",
              "      <td>0</td>\n",
              "      <td>0</td>\n",
              "      <td>0</td>\n",
              "      <td>1</td>\n",
              "      <td>1</td>\n",
              "      <td>1</td>\n",
              "      <td>0</td>\n",
              "      <td>0</td>\n",
              "      <td>1</td>\n",
              "      <td>1</td>\n",
              "      <td>1</td>\n",
              "      <td>1</td>\n",
              "      <td>1</td>\n",
              "      <td>5</td>\n",
              "      <td>6</td>\n",
              "    </tr>\n",
              "    <tr>\n",
              "      <th>647</th>\n",
              "      <td>1</td>\n",
              "      <td>1</td>\n",
              "      <td>17</td>\n",
              "      <td>1</td>\n",
              "      <td>1</td>\n",
              "      <td>1</td>\n",
              "      <td>3</td>\n",
              "      <td>1</td>\n",
              "      <td>3</td>\n",
              "      <td>3</td>\n",
              "      <td>0</td>\n",
              "      <td>1</td>\n",
              "      <td>2</td>\n",
              "      <td>1</td>\n",
              "      <td>0</td>\n",
              "      <td>0</td>\n",
              "      <td>0</td>\n",
              "      <td>0</td>\n",
              "      <td>0</td>\n",
              "      <td>0</td>\n",
              "      <td>1</td>\n",
              "      <td>1</td>\n",
              "      <td>0</td>\n",
              "      <td>2</td>\n",
              "      <td>4</td>\n",
              "      <td>5</td>\n",
              "      <td>3</td>\n",
              "      <td>4</td>\n",
              "      <td>2</td>\n",
              "      <td>6</td>\n",
              "    </tr>\n",
              "    <tr>\n",
              "      <th>648</th>\n",
              "      <td>1</td>\n",
              "      <td>1</td>\n",
              "      <td>18</td>\n",
              "      <td>0</td>\n",
              "      <td>1</td>\n",
              "      <td>1</td>\n",
              "      <td>3</td>\n",
              "      <td>2</td>\n",
              "      <td>3</td>\n",
              "      <td>2</td>\n",
              "      <td>0</td>\n",
              "      <td>1</td>\n",
              "      <td>3</td>\n",
              "      <td>1</td>\n",
              "      <td>0</td>\n",
              "      <td>0</td>\n",
              "      <td>0</td>\n",
              "      <td>0</td>\n",
              "      <td>0</td>\n",
              "      <td>0</td>\n",
              "      <td>1</td>\n",
              "      <td>1</td>\n",
              "      <td>0</td>\n",
              "      <td>4</td>\n",
              "      <td>4</td>\n",
              "      <td>1</td>\n",
              "      <td>3</td>\n",
              "      <td>4</td>\n",
              "      <td>5</td>\n",
              "      <td>4</td>\n",
              "    </tr>\n",
              "  </tbody>\n",
              "</table>\n",
              "<p>649 rows × 30 columns</p>\n",
              "</div>"
            ],
            "text/plain": [
              "     school  sex  age  address  famsize  ...  goout  Dalc  Walc  health  absences\n",
              "0         0    0   18        1        0  ...      4     1     1       3         4\n",
              "1         0    0   17        1        0  ...      3     1     1       3         2\n",
              "2         0    0   15        1        1  ...      2     2     3       3         6\n",
              "3         0    0   15        1        0  ...      2     1     1       5         0\n",
              "4         0    0   16        1        0  ...      2     1     2       5         0\n",
              "..      ...  ...  ...      ...      ...  ...    ...   ...   ...     ...       ...\n",
              "644       1    0   19        0        0  ...      2     1     2       5         4\n",
              "645       1    0   18        1        1  ...      4     1     1       1         4\n",
              "646       1    0   18        1        0  ...      1     1     1       5         6\n",
              "647       1    1   17        1        1  ...      5     3     4       2         6\n",
              "648       1    1   18        0        1  ...      1     3     4       5         4\n",
              "\n",
              "[649 rows x 30 columns]"
            ]
          },
          "metadata": {
            "tags": []
          },
          "execution_count": 18
        }
      ]
    },
    {
      "cell_type": "code",
      "metadata": {
        "id": "qBSGEEYpYsUK"
      },
      "source": [
        "##EXPORTING CSVS\r\n",
        "#features=x.to_csv(r'features.csv', sep=',')\r\n",
        "#labels=x.to_csv(r'labels.csv', sep=',')"
      ],
      "execution_count": 19,
      "outputs": []
    },
    {
      "cell_type": "markdown",
      "metadata": {
        "id": "0PbaYbCx15it"
      },
      "source": [
        "Lets split some data fpr train and test"
      ]
    },
    {
      "cell_type": "code",
      "metadata": {
        "id": "f2-aICYs15vk"
      },
      "source": [
        "from sklearn.model_selection import train_test_split"
      ],
      "execution_count": 20,
      "outputs": []
    },
    {
      "cell_type": "code",
      "metadata": {
        "id": "W-TGNHG52SNl"
      },
      "source": [
        "xtr, xts, ytr, yts = train_test_split(x,y,test_size=.2,random_state=1)"
      ],
      "execution_count": 21,
      "outputs": []
    },
    {
      "cell_type": "code",
      "metadata": {
        "id": "BUcUyVNE38LZ"
      },
      "source": [
        "#Train Data"
      ],
      "execution_count": 22,
      "outputs": []
    },
    {
      "cell_type": "code",
      "metadata": {
        "id": "Sj0UBi7Qx0Xc"
      },
      "source": [
        "from sklearn.ensemble import RandomForestClassifier\r\n",
        "rc = RandomForestClassifier()"
      ],
      "execution_count": 23,
      "outputs": []
    },
    {
      "cell_type": "code",
      "metadata": {
        "colab": {
          "base_uri": "https://localhost:8080/"
        },
        "id": "90hQbbUQ1cD1",
        "outputId": "ee303a63-0b76-45c7-9fb7-5d18626eb989"
      },
      "source": [
        "rc.fit(xtr,ytr)"
      ],
      "execution_count": 24,
      "outputs": [
        {
          "output_type": "stream",
          "text": [
            "/usr/local/lib/python3.7/dist-packages/ipykernel_launcher.py:1: DataConversionWarning: A column-vector y was passed when a 1d array was expected. Please change the shape of y to (n_samples,), for example using ravel().\n",
            "  \"\"\"Entry point for launching an IPython kernel.\n"
          ],
          "name": "stderr"
        },
        {
          "output_type": "execute_result",
          "data": {
            "text/plain": [
              "RandomForestClassifier(bootstrap=True, ccp_alpha=0.0, class_weight=None,\n",
              "                       criterion='gini', max_depth=None, max_features='auto',\n",
              "                       max_leaf_nodes=None, max_samples=None,\n",
              "                       min_impurity_decrease=0.0, min_impurity_split=None,\n",
              "                       min_samples_leaf=1, min_samples_split=2,\n",
              "                       min_weight_fraction_leaf=0.0, n_estimators=100,\n",
              "                       n_jobs=None, oob_score=False, random_state=None,\n",
              "                       verbose=0, warm_start=False)"
            ]
          },
          "metadata": {
            "tags": []
          },
          "execution_count": 24
        }
      ]
    },
    {
      "cell_type": "code",
      "metadata": {
        "id": "EmqCkeEI3-cQ"
      },
      "source": [
        "#test data"
      ],
      "execution_count": 25,
      "outputs": []
    },
    {
      "cell_type": "code",
      "metadata": {
        "id": "G4d1CF-j2n2i"
      },
      "source": [
        "p=rc.predict(xts)"
      ],
      "execution_count": 26,
      "outputs": []
    },
    {
      "cell_type": "code",
      "metadata": {
        "colab": {
          "base_uri": "https://localhost:8080/"
        },
        "id": "zT9o6vgfYfSS",
        "outputId": "342feb47-6324-4814-d692-1f22b0391da6"
      },
      "source": [
        "p"
      ],
      "execution_count": 27,
      "outputs": [
        {
          "output_type": "execute_result",
          "data": {
            "text/plain": [
              "array(['Avg', 'Good', 'Avg', 'Good', 'Good', 'Avg', 'Good',\n",
              "       'Satisfactory', 'Good', 'Good', 'Avg', 'Good', 'Avg', 'Good',\n",
              "       'Satisfactory', 'Good', 'Avg', 'Good', 'Satisfactory', 'Good',\n",
              "       'Good', 'Avg', 'Avg', 'Good', 'Good', 'Avg', 'Good', 'Good',\n",
              "       'Good', 'Good', 'Avg', 'Good', 'Good', 'Good', 'Avg', 'Avg',\n",
              "       'Good', 'Good', 'Very Good', 'Good', 'Good', 'Good', 'Good',\n",
              "       'Good', 'Good', 'Good', 'Good', 'Good', 'Good', 'Good', 'Good',\n",
              "       'Satisfactory', 'Good', 'Good', 'Avg', 'Good', 'Avg', 'Good',\n",
              "       'Satisfactory', 'Good', 'Avg', 'Avg', 'Good', 'Avg',\n",
              "       'Satisfactory', 'Good', 'Good', 'Good', 'Avg', 'Good', 'Avg',\n",
              "       'Good', 'Avg', 'Avg', 'Good', 'Good', 'Good', 'Avg',\n",
              "       'Satisfactory', 'Good', 'Good', 'Good', 'Good', 'Good', 'Avg',\n",
              "       'Satisfactory', 'Good', 'Good', 'Good', 'Good', 'Satisfactory',\n",
              "       'Good', 'Avg', 'Good', 'Good', 'Satisfactory', 'Good', 'Avg',\n",
              "       'Good', 'Avg', 'Good', 'Good', 'Good', 'Good', 'Good', 'Avg',\n",
              "       'Good', 'Good', 'Good', 'Avg', 'Satisfactory', 'Good',\n",
              "       'Satisfactory', 'Good', 'Avg', 'Good', 'Good', 'Good', 'Good',\n",
              "       'Avg', 'Good', 'Avg', 'Satisfactory', 'Good', 'Avg', 'Good', 'Avg',\n",
              "       'Satisfactory', 'Good', 'Avg'], dtype=object)"
            ]
          },
          "metadata": {
            "tags": []
          },
          "execution_count": 27
        }
      ]
    },
    {
      "cell_type": "code",
      "metadata": {
        "colab": {
          "base_uri": "https://localhost:8080/"
        },
        "id": "vAmVLqGb20H4",
        "outputId": "c4a11f62-5a82-4db6-b9d9-9be4fc21162d"
      },
      "source": [
        "rc.predict([[0,0,18,1,0,0,4,4,0,4,0,1,2,2,0,1,0,0,0,1,1,0,0,4,3,4,1,1,3,5]])"
      ],
      "execution_count": 28,
      "outputs": [
        {
          "output_type": "execute_result",
          "data": {
            "text/plain": [
              "array(['Good'], dtype=object)"
            ]
          },
          "metadata": {
            "tags": []
          },
          "execution_count": 28
        }
      ]
    },
    {
      "cell_type": "code",
      "metadata": {
        "colab": {
          "base_uri": "https://localhost:8080/"
        },
        "id": "504UJM393KCw",
        "outputId": "ed73d647-78c4-4309-ca8a-370b13ecacfd"
      },
      "source": [
        "rc.score(xts,yts)"
      ],
      "execution_count": 29,
      "outputs": [
        {
          "output_type": "execute_result",
          "data": {
            "text/plain": [
              "0.49230769230769234"
            ]
          },
          "metadata": {
            "tags": []
          },
          "execution_count": 29
        }
      ]
    },
    {
      "cell_type": "code",
      "metadata": {
        "id": "DmRXyvXN30q7"
      },
      "source": [
        "#Oops very bad prediction. But better than decison tree"
      ],
      "execution_count": 30,
      "outputs": []
    },
    {
      "cell_type": "code",
      "metadata": {
        "id": "Q2V1P9XLDfko"
      },
      "source": [
        "#lets increase sub tree size\r\n",
        "rc2 = RandomForestClassifier(n_estimators=90)"
      ],
      "execution_count": 38,
      "outputs": []
    },
    {
      "cell_type": "code",
      "metadata": {
        "id": "UFdEtNySDynp",
        "outputId": "291dfb06-4a8c-46ea-dd73-871b7edde814",
        "colab": {
          "base_uri": "https://localhost:8080/"
        }
      },
      "source": [
        "rc2.fit(xtr,ytr)"
      ],
      "execution_count": 39,
      "outputs": [
        {
          "output_type": "stream",
          "text": [
            "/usr/local/lib/python3.7/dist-packages/ipykernel_launcher.py:1: DataConversionWarning: A column-vector y was passed when a 1d array was expected. Please change the shape of y to (n_samples,), for example using ravel().\n",
            "  \"\"\"Entry point for launching an IPython kernel.\n"
          ],
          "name": "stderr"
        },
        {
          "output_type": "execute_result",
          "data": {
            "text/plain": [
              "RandomForestClassifier(bootstrap=True, ccp_alpha=0.0, class_weight=None,\n",
              "                       criterion='gini', max_depth=None, max_features='auto',\n",
              "                       max_leaf_nodes=None, max_samples=None,\n",
              "                       min_impurity_decrease=0.0, min_impurity_split=None,\n",
              "                       min_samples_leaf=1, min_samples_split=2,\n",
              "                       min_weight_fraction_leaf=0.0, n_estimators=90,\n",
              "                       n_jobs=None, oob_score=False, random_state=None,\n",
              "                       verbose=0, warm_start=False)"
            ]
          },
          "metadata": {
            "tags": []
          },
          "execution_count": 39
        }
      ]
    },
    {
      "cell_type": "code",
      "metadata": {
        "id": "jk0s_gI5Dqza",
        "outputId": "96e535fc-c97e-4a2e-8442-58eab546eb3c",
        "colab": {
          "base_uri": "https://localhost:8080/"
        }
      },
      "source": [
        "rc2.score(xts,yts)\r\n",
        "## WOW increasing \"\"\"n_estimators\"\"\" result inCeased!"
      ],
      "execution_count": 40,
      "outputs": [
        {
          "output_type": "execute_result",
          "data": {
            "text/plain": [
              "0.5076923076923077"
            ]
          },
          "metadata": {
            "tags": []
          },
          "execution_count": 40
        }
      ]
    },
    {
      "cell_type": "code",
      "metadata": {
        "id": "9bYaTxilW-0s"
      },
      "source": [
        "from sklearn.metrics import accuracy_score"
      ],
      "execution_count": 41,
      "outputs": []
    },
    {
      "cell_type": "code",
      "metadata": {
        "colab": {
          "base_uri": "https://localhost:8080/"
        },
        "id": "kHsBKdmzYOpN",
        "outputId": "b81493fd-010b-4da9-9618-e2b2f4e8c739"
      },
      "source": [
        "accuracy_score(yts,p)"
      ],
      "execution_count": 42,
      "outputs": [
        {
          "output_type": "execute_result",
          "data": {
            "text/plain": [
              "0.49230769230769234"
            ]
          },
          "metadata": {
            "tags": []
          },
          "execution_count": 42
        }
      ]
    },
    {
      "cell_type": "code",
      "metadata": {
        "id": "e89PS8IxYkAS"
      },
      "source": [
        "from sklearn.metrics import confusion_matrix"
      ],
      "execution_count": 43,
      "outputs": []
    },
    {
      "cell_type": "code",
      "metadata": {
        "colab": {
          "base_uri": "https://localhost:8080/"
        },
        "id": "_qQx9QKvY28j",
        "outputId": "eb892a5f-99be-410b-ab7c-cc5039951699"
      },
      "source": [
        "print(confusion_matrix(yts,p))"
      ],
      "execution_count": 44,
      "outputs": [
        {
          "output_type": "stream",
          "text": [
            "[[27 20  2  0]\n",
            " [ 6 31  3  0]\n",
            " [ 0 23  5  0]\n",
            " [ 1  7  4  1]]\n"
          ],
          "name": "stdout"
        }
      ]
    },
    {
      "cell_type": "code",
      "metadata": {
        "id": "Y2OckpDokDXf"
      },
      "source": [
        "##its hard to understand which is what, lets do some makeup ;P\r\n",
        "\r\n",
        "import matplotlib.pyplot as plt  \r\n",
        "from sklearn.metrics import plot_confusion_matrix"
      ],
      "execution_count": 45,
      "outputs": []
    },
    {
      "cell_type": "code",
      "metadata": {
        "colab": {
          "base_uri": "https://localhost:8080/",
          "height": 404
        },
        "id": "eSu9Ait5kYeW",
        "outputId": "b784de6b-8af0-4049-8605-ac32a59c338c"
      },
      "source": [
        "plot_confusion_matrix(rc,xts,yts)\r\n",
        "plt.xlabel('Predicted')\r\n",
        "plt.ylabel('Actual')\r\n",
        "\r\n",
        "plt.title('Confusion Matrix using Random Forest')\r\n",
        "plt.gcf().set_size_inches(10,6)\r\n",
        "plt.show()"
      ],
      "execution_count": 46,
      "outputs": [
        {
          "output_type": "display_data",
          "data": {
            "image/png": "[encoded data removed]",
            "text/plain": [
              "<Figure size 720x432 with 2 Axes>"
            ]
          },
          "metadata": {
            "tags": [],
            "needs_background": "light"
          }
        }
      ]
    },
    {
      "cell_type": "code",
      "metadata": {
        "id": "dAyspYFYr_M0"
      },
      "source": [
        ""
      ],
      "execution_count": null,
      "outputs": []
    },
    {
      "cell_type": "markdown",
      "metadata": {
        "id": "RNEQ3iM3r_mE"
      },
      "source": [
        "We also can see the multilabel matrix"
      ]
    },
    {
      "cell_type": "code",
      "metadata": {
        "colab": {
          "base_uri": "https://localhost:8080/"
        },
        "id": "cauCBiA0p7mR",
        "outputId": "0df0b82f-623f-4b36-9c54-c84552f76d5b"
      },
      "source": [
        "from sklearn.metrics import multilabel_confusion_matrix\r\n",
        "mcm = multilabel_confusion_matrix(yts,p)\r\n",
        "print(mcm)"
      ],
      "execution_count": null,
      "outputs": [
        {
          "output_type": "stream",
          "text": [
            "[[[ 74   7]\n",
            "  [ 23  26]]\n",
            "\n",
            " [[ 35  55]\n",
            "  [ 10  30]]\n",
            "\n",
            " [[ 95   7]\n",
            "  [ 23   5]]\n",
            "\n",
            " [[117   0]\n",
            "  [ 13   0]]]\n"
          ],
          "name": "stdout"
        }
      ]
    },
    {
      "cell_type": "code",
      "metadata": {
        "colab": {
          "base_uri": "https://localhost:8080/"
        },
        "id": "CsP8Dl_4Y5hx",
        "outputId": "1d8b739e-0cc7-40a8-e99f-ca1cb14cebef"
      },
      "source": [
        "from sklearn.metrics import classification_report\r\n",
        "print(classification_report(yts,p))"
      ],
      "execution_count": 47,
      "outputs": [
        {
          "output_type": "stream",
          "text": [
            "              precision    recall  f1-score   support\n",
            "\n",
            "         Avg       0.79      0.55      0.65        49\n",
            "        Good       0.38      0.78      0.51        40\n",
            "Satisfactory       0.36      0.18      0.24        28\n",
            "   Very Good       1.00      0.08      0.14        13\n",
            "\n",
            "    accuracy                           0.49       130\n",
            "   macro avg       0.63      0.40      0.39       130\n",
            "weighted avg       0.59      0.49      0.47       130\n",
            "\n"
          ],
          "name": "stdout"
        }
      ]
    },
    {
      "cell_type": "code",
      "metadata": {
        "id": "1UCaMKd9cgRF"
      },
      "source": [
        ""
      ],
      "execution_count": null,
      "outputs": []
    }
  ]
}